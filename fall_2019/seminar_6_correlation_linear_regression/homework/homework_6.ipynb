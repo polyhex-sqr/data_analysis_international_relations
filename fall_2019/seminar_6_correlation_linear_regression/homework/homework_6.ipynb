{
 "cells": [
  {
   "cell_type": "markdown",
   "metadata": {},
   "source": [
    "## Задание 1 (3 балла)\n",
    "В таблице `education_stat.csv` записаны данные о людях, получивших степень бакалавра в той или иной сфере. В каждой колонке записано количество / процент людей определённого типа, которые получили соответствующее образование.\n",
    "\n",
    "- `Education`: сфера полученного образования\n",
    "- `Male`, `Female`: количество мужчин / женщин в данной сфере\n",
    "- `Hispanic or Latinoa`, `Asian`, `Black or African American`, `White`: количество людей в данной сфере с соответствующей расой / национальностью / *не знаю, как это правильно назвать*\n",
    "- `Biological/ agricultural/ other life scientists`, `Computer/ mathematical scientists`, `Physical/ related scientists`, `Social/ related scientists`, `Engineering`, `Health occupations`, `S&E managers, including health`, `S&E pre-college teachers`, `S&E technicians and technologists`, `Non-S&E occupations`: процент людей в данной сфере, получивших работу в соответствующей области\n",
    "- `Salary Mean`: средняя зарплата в данной сфере\n",
    "\n",
    "Что нужно сделать:\n",
    "1. Считать таблицу, посчитать подходящие описательные статистики, сделать конструктивные выводы по полученным результатам.\n",
    "2. Выбрать $2$ колонки с высокой положительной и $2$ колонки с высокой отрицательной корреляцией ($|correlation| > 0.7$). Высказать предположения, почему корреляция по модулю могла получиться такой высокой. \n",
    "3. Выбрать $3$ колонки с низкой корреляцией ($|correlation| < 0.2$). Высказать предположения, почему корреляция слабая.\n",
    "\n",
    "> За отсутствие пояснений _в формате Markdown_ там, где это требуется, баллы будут нещадно сниматься! <br> *(чтобы узнать, как писать в красивых Markdown ячейках для текста, см. условие ДЗ5)*"
   ]
  },
  {
   "cell_type": "code",
   "execution_count": null,
   "metadata": {},
   "outputs": [],
   "source": [
    "# YOUR CODE"
   ]
  }
 ],
 "metadata": {
  "kernelspec": {
   "display_name": "Python 3",
   "language": "python",
   "name": "python3"
  },
  "language_info": {
   "codemirror_mode": {
    "name": "ipython",
    "version": 2
   },
   "file_extension": ".py",
   "mimetype": "text/x-python",
   "name": "python",
   "nbconvert_exporter": "python",
   "pygments_lexer": "ipython2",
   "version": "2.7.12"
  },
  "toc": {
   "base_numbering": 1,
   "nav_menu": {},
   "number_sections": false,
   "sideBar": true,
   "skip_h1_title": false,
   "title_cell": "Table of Contents",
   "title_sidebar": "Contents",
   "toc_cell": false,
   "toc_position": {},
   "toc_section_display": true,
   "toc_window_display": false
  }
 },
 "nbformat": 4,
 "nbformat_minor": 2
}
