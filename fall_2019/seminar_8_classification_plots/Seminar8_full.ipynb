{
 "cells": [
  {
   "cell_type": "markdown",
   "metadata": {},
   "source": [
    "# Классификация"
   ]
  },
  {
   "cell_type": "markdown",
   "metadata": {},
   "source": [
    "**Что делает классификация?**"
   ]
  },
  {
   "cell_type": "markdown",
   "metadata": {},
   "source": [
    "Разделяет объекты по заранее известному признаку. Носки по цветам, документы по языкам, музыку по жанрам"
   ]
  },
  {
   "cell_type": "markdown",
   "metadata": {},
   "source": [
    "Сегодня различные методы классификации используют для решения кучи задач, например - \n",
    "\n",
    "* Спам-фильтры\n",
    "* Определение языка\n",
    "* Поиск похожих документов\n",
    "* Анализ тональности\n",
    "* Распознавание рукописных букв и цифр\n",
    "* Определение подозрительных транзакций"
   ]
  },
  {
   "cell_type": "markdown",
   "metadata": {},
   "source": [
    "![image.png](https://media.geeksforgeeks.org/wp-content/uploads/classification-1.png)"
   ]
  },
  {
   "cell_type": "markdown",
   "metadata": {},
   "source": [
    "Хорошая статья про классификацию и не только лежит [тут](https://vas3k.ru/blog/machine_learning/?fbclid=IwAR1yU_u4RquJ0aNLYdH-DnzkyoxCI-XLK8_Ktu05kXvgKUV1e_amNN-gFaA)"
   ]
  },
  {
   "cell_type": "markdown",
   "metadata": {},
   "source": [
    "### Итак, пришло время практики!\n",
    "\n",
    "Работаем по уже хорошо отработанной тактике"
   ]
  },
  {
   "cell_type": "code",
   "execution_count": 2,
   "metadata": {
    "collapsed": true
   },
   "outputs": [],
   "source": [
    "from sklearn.model_selection import train_test_split # функция чтобы разбить данные на трейн и тест\n",
    "from sklearn.linear_model import LogisticRegression # наша модель для классификации"
   ]
  },
  {
   "cell_type": "code",
   "execution_count": 3,
   "metadata": {},
   "outputs": [
    {
     "name": "stdout",
     "output_type": "stream",
     "text": [
      "Breast Cancer Wisconsin (Diagnostic) Database\n",
      "=============================================\n",
      "\n",
      "Notes\n",
      "-----\n",
      "Data Set Characteristics:\n",
      "    :Number of Instances: 569\n",
      "\n",
      "    :Number of Attributes: 30 numeric, predictive attributes and the class\n",
      "\n",
      "    :Attribute Information:\n",
      "        - radius (mean of distances from center to points on the perimeter)\n",
      "        - texture (standard deviation of gray-scale values)\n",
      "        - perimeter\n",
      "        - area\n",
      "        - smoothness (local variation in radius lengths)\n",
      "        - compactness (perimeter^2 / area - 1.0)\n",
      "        - concavity (severity of concave portions of the contour)\n",
      "        - concave points (number of concave portions of the contour)\n",
      "        - symmetry \n",
      "        - fractal dimension (\"coastline approximation\" - 1)\n",
      "\n",
      "        The mean, standard error, and \"worst\" or largest (mean of the three\n",
      "        largest values) of these features were computed for each image,\n",
      "        resulting in 30 features.  For instance, field 3 is Mean Radius, field\n",
      "        13 is Radius SE, field 23 is Worst Radius.\n",
      "\n",
      "        - class:\n",
      "                - WDBC-Malignant\n",
      "                - WDBC-Benign\n",
      "\n",
      "    :Summary Statistics:\n",
      "\n",
      "    ===================================== ====== ======\n",
      "                                           Min    Max\n",
      "    ===================================== ====== ======\n",
      "    radius (mean):                        6.981  28.11\n",
      "    texture (mean):                       9.71   39.28\n",
      "    perimeter (mean):                     43.79  188.5\n",
      "    area (mean):                          143.5  2501.0\n",
      "    smoothness (mean):                    0.053  0.163\n",
      "    compactness (mean):                   0.019  0.345\n",
      "    concavity (mean):                     0.0    0.427\n",
      "    concave points (mean):                0.0    0.201\n",
      "    symmetry (mean):                      0.106  0.304\n",
      "    fractal dimension (mean):             0.05   0.097\n",
      "    radius (standard error):              0.112  2.873\n",
      "    texture (standard error):             0.36   4.885\n",
      "    perimeter (standard error):           0.757  21.98\n",
      "    area (standard error):                6.802  542.2\n",
      "    smoothness (standard error):          0.002  0.031\n",
      "    compactness (standard error):         0.002  0.135\n",
      "    concavity (standard error):           0.0    0.396\n",
      "    concave points (standard error):      0.0    0.053\n",
      "    symmetry (standard error):            0.008  0.079\n",
      "    fractal dimension (standard error):   0.001  0.03\n",
      "    radius (worst):                       7.93   36.04\n",
      "    texture (worst):                      12.02  49.54\n",
      "    perimeter (worst):                    50.41  251.2\n",
      "    area (worst):                         185.2  4254.0\n",
      "    smoothness (worst):                   0.071  0.223\n",
      "    compactness (worst):                  0.027  1.058\n",
      "    concavity (worst):                    0.0    1.252\n",
      "    concave points (worst):               0.0    0.291\n",
      "    symmetry (worst):                     0.156  0.664\n",
      "    fractal dimension (worst):            0.055  0.208\n",
      "    ===================================== ====== ======\n",
      "\n",
      "    :Missing Attribute Values: None\n",
      "\n",
      "    :Class Distribution: 212 - Malignant, 357 - Benign\n",
      "\n",
      "    :Creator:  Dr. William H. Wolberg, W. Nick Street, Olvi L. Mangasarian\n",
      "\n",
      "    :Donor: Nick Street\n",
      "\n",
      "    :Date: November, 1995\n",
      "\n",
      "This is a copy of UCI ML Breast Cancer Wisconsin (Diagnostic) datasets.\n",
      "https://goo.gl/U2Uwz2\n",
      "\n",
      "Features are computed from a digitized image of a fine needle\n",
      "aspirate (FNA) of a breast mass.  They describe\n",
      "characteristics of the cell nuclei present in the image.\n",
      "\n",
      "Separating plane described above was obtained using\n",
      "Multisurface Method-Tree (MSM-T) [K. P. Bennett, \"Decision Tree\n",
      "Construction Via Linear Programming.\" Proceedings of the 4th\n",
      "Midwest Artificial Intelligence and Cognitive Science Society,\n",
      "pp. 97-101, 1992], a classification method which uses linear\n",
      "programming to construct a decision tree.  Relevant features\n",
      "were selected using an exhaustive search in the space of 1-4\n",
      "features and 1-3 separating planes.\n",
      "\n",
      "The actual linear program used to obtain the separating plane\n",
      "in the 3-dimensional space is that described in:\n",
      "[K. P. Bennett and O. L. Mangasarian: \"Robust Linear\n",
      "Programming Discrimination of Two Linearly Inseparable Sets\",\n",
      "Optimization Methods and Software 1, 1992, 23-34].\n",
      "\n",
      "This database is also available through the UW CS ftp server:\n",
      "\n",
      "ftp ftp.cs.wisc.edu\n",
      "cd math-prog/cpo-dataset/machine-learn/WDBC/\n",
      "\n",
      "References\n",
      "----------\n",
      "   - W.N. Street, W.H. Wolberg and O.L. Mangasarian. Nuclear feature extraction \n",
      "     for breast tumor diagnosis. IS&T/SPIE 1993 International Symposium on \n",
      "     Electronic Imaging: Science and Technology, volume 1905, pages 861-870,\n",
      "     San Jose, CA, 1993.\n",
      "   - O.L. Mangasarian, W.N. Street and W.H. Wolberg. Breast cancer diagnosis and \n",
      "     prognosis via linear programming. Operations Research, 43(4), pages 570-577, \n",
      "     July-August 1995.\n",
      "   - W.H. Wolberg, W.N. Street, and O.L. Mangasarian. Machine learning techniques\n",
      "     to diagnose breast cancer from fine-needle aspirates. Cancer Letters 77 (1994) \n",
      "     163-171.\n",
      "\n"
     ]
    }
   ],
   "source": [
    "from sklearn.datasets import load_breast_cancer, load_iris # Заберем два датасета\n",
    "breast_cancer = load_breast_cancer()\n",
    "print(breast_cancer.DESCR) "
   ]
  },
  {
   "cell_type": "markdown",
   "metadata": {},
   "source": [
    "Теперь задаем Y (то что будем предсказывать) и Х (признаки, с помощью которых будем предсказывать)"
   ]
  },
  {
   "cell_type": "code",
   "execution_count": 4,
   "metadata": {},
   "outputs": [],
   "source": [
    "Y = breast_cancer.target # X - признаки по которым мы будем предсказывать рак\n",
    "X = breast_cancer.data # Наша целевая переменная, 0 если рака нет, 1 если есть"
   ]
  },
  {
   "cell_type": "markdown",
   "metadata": {},
   "source": [
    "Мы доросли до той стадии, когда нам уже не нужно что-то знать о признаках\n",
    "\n",
    "Здесь мы можем просто брать готовые данные и загружать их в наши модели"
   ]
  },
  {
   "cell_type": "code",
   "execution_count": 5,
   "metadata": {
    "collapsed": true
   },
   "outputs": [],
   "source": [
    "# Разделяем на обучающую и тестовую выборки:\n",
    "\n",
    "X_train, X_val, Y_train, Y_val = train_test_split(X, Y, test_size = 0.3, random_state=123)"
   ]
  },
  {
   "cell_type": "code",
   "execution_count": 6,
   "metadata": {},
   "outputs": [
    {
     "data": {
      "text/plain": [
       "LogisticRegression(C=1.0, class_weight=None, dual=False, fit_intercept=True,\n",
       "          intercept_scaling=1, max_iter=100, multi_class='ovr', n_jobs=1,\n",
       "          penalty='l2', random_state=None, solver='liblinear', tol=0.0001,\n",
       "          verbose=0, warm_start=False)"
      ]
     },
     "execution_count": 6,
     "metadata": {},
     "output_type": "execute_result"
    }
   ],
   "source": [
    "# Выбираем модель:\n",
    "\n",
    "model = LogisticRegression()\n",
    "model.fit(X_train, Y_train)"
   ]
  },
  {
   "cell_type": "markdown",
   "metadata": {
    "collapsed": true
   },
   "source": [
    "Как оценить качество классификации?\n",
    "\n",
    "Можно вычислить метрики, которые вы уже знаете:"
   ]
  },
  {
   "cell_type": "code",
   "execution_count": 7,
   "metadata": {},
   "outputs": [
    {
     "name": "stdout",
     "output_type": "stream",
     "text": [
      "0.9824561403508771\n"
     ]
    }
   ],
   "source": [
    "from sklearn.metrics import accuracy_score, precision_score, recall_score\n",
    "\n",
    "Y_predicted = model.predict(X_val)\n",
    "print(accuracy_score(Y_val,Y_predicted))"
   ]
  },
  {
   "cell_type": "markdown",
   "metadata": {},
   "source": [
    "Вычислите остальные метрики:"
   ]
  },
  {
   "cell_type": "code",
   "execution_count": 8,
   "metadata": {},
   "outputs": [
    {
     "name": "stdout",
     "output_type": "stream",
     "text": [
      "0.9807692307692307\n",
      "0.9902912621359223\n"
     ]
    }
   ],
   "source": [
    "print(precision_score(Y_val,Y_predicted))\n",
    "print(recall_score(Y_val,Y_predicted))"
   ]
  },
  {
   "cell_type": "markdown",
   "metadata": {},
   "source": [
    "## Задание"
   ]
  },
  {
   "cell_type": "markdown",
   "metadata": {},
   "source": [
    "Решите задачу классификации и рассчитайте метрику accuracy, precision, recall для нового датасета:"
   ]
  },
  {
   "cell_type": "code",
   "execution_count": 3,
   "metadata": {
    "scrolled": true
   },
   "outputs": [
    {
     "name": "stdout",
     "output_type": "stream",
     "text": [
      "Iris Plants Database\n",
      "====================\n",
      "\n",
      "Notes\n",
      "-----\n",
      "Data Set Characteristics:\n",
      "    :Number of Instances: 150 (50 in each of three classes)\n",
      "    :Number of Attributes: 4 numeric, predictive attributes and the class\n",
      "    :Attribute Information:\n",
      "        - sepal length in cm\n",
      "        - sepal width in cm\n",
      "        - petal length in cm\n",
      "        - petal width in cm\n",
      "        - class:\n",
      "                - Iris-Setosa\n",
      "                - Iris-Versicolour\n",
      "                - Iris-Virginica\n",
      "    :Summary Statistics:\n",
      "\n",
      "    ============== ==== ==== ======= ===== ====================\n",
      "                    Min  Max   Mean    SD   Class Correlation\n",
      "    ============== ==== ==== ======= ===== ====================\n",
      "    sepal length:   4.3  7.9   5.84   0.83    0.7826\n",
      "    sepal width:    2.0  4.4   3.05   0.43   -0.4194\n",
      "    petal length:   1.0  6.9   3.76   1.76    0.9490  (high!)\n",
      "    petal width:    0.1  2.5   1.20  0.76     0.9565  (high!)\n",
      "    ============== ==== ==== ======= ===== ====================\n",
      "\n",
      "    :Missing Attribute Values: None\n",
      "    :Class Distribution: 33.3% for each of 3 classes.\n",
      "    :Creator: R.A. Fisher\n",
      "    :Donor: Michael Marshall (MARSHALL%PLU@io.arc.nasa.gov)\n",
      "    :Date: July, 1988\n",
      "\n",
      "This is a copy of UCI ML iris datasets.\n",
      "http://archive.ics.uci.edu/ml/datasets/Iris\n",
      "\n",
      "The famous Iris database, first used by Sir R.A Fisher\n",
      "\n",
      "This is perhaps the best known database to be found in the\n",
      "pattern recognition literature.  Fisher's paper is a classic in the field and\n",
      "is referenced frequently to this day.  (See Duda & Hart, for example.)  The\n",
      "data set contains 3 classes of 50 instances each, where each class refers to a\n",
      "type of iris plant.  One class is linearly separable from the other 2; the\n",
      "latter are NOT linearly separable from each other.\n",
      "\n",
      "References\n",
      "----------\n",
      "   - Fisher,R.A. \"The use of multiple measurements in taxonomic problems\"\n",
      "     Annual Eugenics, 7, Part II, 179-188 (1936); also in \"Contributions to\n",
      "     Mathematical Statistics\" (John Wiley, NY, 1950).\n",
      "   - Duda,R.O., & Hart,P.E. (1973) Pattern Classification and Scene Analysis.\n",
      "     (Q327.D83) John Wiley & Sons.  ISBN 0-471-22361-1.  See page 218.\n",
      "   - Dasarathy, B.V. (1980) \"Nosing Around the Neighborhood: A New System\n",
      "     Structure and Classification Rule for Recognition in Partially Exposed\n",
      "     Environments\".  IEEE Transactions on Pattern Analysis and Machine\n",
      "     Intelligence, Vol. PAMI-2, No. 1, 67-71.\n",
      "   - Gates, G.W. (1972) \"The Reduced Nearest Neighbor Rule\".  IEEE Transactions\n",
      "     on Information Theory, May 1972, 431-433.\n",
      "   - See also: 1988 MLC Proceedings, 54-64.  Cheeseman et al\"s AUTOCLASS II\n",
      "     conceptual clustering system finds 3 classes in the data.\n",
      "   - Many, many more ...\n",
      "\n"
     ]
    }
   ],
   "source": [
    "from sklearn.datasets import load_iris \n",
    "\n",
    "iris = load_iris()\n",
    "print(iris.DESCR) "
   ]
  },
  {
   "cell_type": "code",
   "execution_count": 5,
   "metadata": {},
   "outputs": [
    {
     "name": "stdout",
     "output_type": "stream",
     "text": [
      "(150, 4)\n",
      "(150,)\n"
     ]
    }
   ],
   "source": [
    "Y = iris.target\n",
    "X = iris.data\n",
    "\n",
    "print(X.shape)\n",
    "print(Y.shape)"
   ]
  },
  {
   "cell_type": "code",
   "execution_count": null,
   "metadata": {},
   "outputs": [],
   "source": [
    "# YOUR CODE"
   ]
  },
  {
   "cell_type": "markdown",
   "metadata": {},
   "source": [
    "## Визуализация"
   ]
  },
  {
   "cell_type": "markdown",
   "metadata": {},
   "source": [
    "![alt text](https://media.giphy.com/media/YBIxUwCdysgaJgkmsP/giphy.gif \"Гифка1\")"
   ]
  },
  {
   "cell_type": "markdown",
   "metadata": {},
   "source": [
    "На самом деле любой базовый анализ данных бесполезен без красивых картиночек. Именно на красивых графиках стоит показывать результаты вашей работы, именно по ним люди будут понимать что хорошего вы сделали"
   ]
  },
  {
   "cell_type": "code",
   "execution_count": 10,
   "metadata": {
    "collapsed": true
   },
   "outputs": [],
   "source": [
    "import pandas as pd\n",
    "import numpy as np\n",
    "\n",
    "import matplotlib.pyplot as plt\n",
    "%matplotlib inline"
   ]
  },
  {
   "cell_type": "markdown",
   "metadata": {},
   "source": [
    "## Библиотека Matplotlib \n",
    " - <a href=\"http://http://matplotlib.org/\">matplotlib</a> - основная библиотека для базовой визуализации данных\n",
    " \n",
    " \n",
    "`Scatter` рисует набор точек. Первый аргумент - координаты точек по оси X, второй аргумент - координаты по оси Y "
   ]
  },
  {
   "cell_type": "code",
   "execution_count": 11,
   "metadata": {},
   "outputs": [
    {
     "data": {
      "image/png": "[encoded data removed]",
      "text/plain": [
       "<Figure size 504x360 with 1 Axes>"
      ]
     },
     "metadata": {},
     "output_type": "display_data"
    }
   ],
   "source": [
    "# Создание графика из точек - scatter\n",
    "\n",
    "plt.figure(figsize=[7, 5]) # figsize - размер графика, [ширина, высота] в дюймах\n",
    "\n",
    "plt.scatter([1, 2, 3, 10, 15], [1, 2, 3, 5, 10]) # Первая точка (1, 1), вторая (2, 2), последняя (15, 10)\n",
    "\n",
    "plt.show() # рисует сам график и выводит его нам в тетрадку"
   ]
  },
  {
   "cell_type": "markdown",
   "metadata": {},
   "source": [
    "Если хочется не просто нарисовать точки, а еще и соединить их, то стоит использовать функцию `plt.plot`"
   ]
  },
  {
   "cell_type": "code",
   "execution_count": 12,
   "metadata": {},
   "outputs": [
    {
     "data": {
      "image/png": "[encoded data removed]",
      "text/plain": [
       "<Figure size 504x360 with 1 Axes>"
      ]
     },
     "metadata": {},
     "output_type": "display_data"
    }
   ],
   "source": [
    "# Создание прямой из точек - plot\n",
    "\n",
    "plt.figure(figsize=[7, 5]) # figsize - размер графика, [ширина, высота] в дюймах\n",
    "plt.plot([1, 2, 3, 10, 15], [1, 2, 9, 5, 10]) # Первая точка (1, 1), вторая (2, 2), последняя (15, 10)\n",
    "plt.show() # рисует сам график и выводит его нам в тетрадку"
   ]
  },
  {
   "cell_type": "markdown",
   "metadata": {},
   "source": [
    "Делать график без заголовков - плохая практика. Добавить заголовок к графику можно с помощью команды `plt.title`"
   ]
  },
  {
   "cell_type": "code",
   "execution_count": 13,
   "metadata": {},
   "outputs": [
    {
     "data": {
      "image/png": "[encoded data removed]",
      "text/plain": [
       "<Figure size 504x360 with 1 Axes>"
      ]
     },
     "metadata": {},
     "output_type": "display_data"
    }
   ],
   "source": [
    "# Создание прямой из точек - plot\n",
    "\n",
    "plt.figure(figsize=[7, 5]) # figsize - размер графика, [ширина, высота] в дюймах\n",
    "plt.plot([1, 2, 3, 10, 15], [1, 2, 3, 5, 10]) # Первая точка (1, 1), вторая (2, 2), последняя (15, 10)\n",
    "plt.title('Заголовок')\n",
    "plt.show() # рисует сам график и выводит его нам в тетрадку"
   ]
  },
  {
   "cell_type": "markdown",
   "metadata": {},
   "source": [
    "### Красивое рисование графиков"
   ]
  },
  {
   "cell_type": "markdown",
   "metadata": {},
   "source": [
    "#### Оформление\n",
    "- Заголовок области рисования -> plt.title()\n",
    "- Подпись оси абсцисс OX -> plt.xlabel()\n",
    "- Подпись оси ординат OY -> plt.ylabel()\n",
    "- Деления на оси абсцисс OX -> plt.xticks()\n",
    "- Деления на оси ординат OY -> plt.yticks()\n",
    "- Разбитие на красивую сеточку -> plt.grid()"
   ]
  },
  {
   "cell_type": "markdown",
   "metadata": {},
   "source": [
    "#### Подписи\n",
    "- Легенда -> plt.legend()\n",
    "\n",
    "Перед тем как вызывать легенду, убедитесь что вы подписали графики - передали аргумент `label` в `plt.plot` или `plt.scatter` \n"
   ]
  },
  {
   "cell_type": "code",
   "execution_count": 14,
   "metadata": {},
   "outputs": [
    {
     "data": {
      "image/png": "[encoded data removed]",
      "text/plain": [
       "<Figure size 504x360 with 1 Axes>"
      ]
     },
     "metadata": {},
     "output_type": "display_data"
    }
   ],
   "source": [
    "# Создание прямой из точек - plot\n",
    "\n",
    "plt.figure(figsize=[7, 5]) \n",
    "plt.plot([1, 2, 3, 10, 15], [1, 2, 3, 5, 10], label='Простой plot') # label - как подпишется график\n",
    "plt.scatter([1.5, 2.5, 3.5, 9, 13], [1.3, 2.6, 3.1, 4.1, 7.6], label='Простой scatter') # label - как подпишется график\n",
    "\n",
    "plt.title('Заголовок')\n",
    "\n",
    "plt.xlabel('Подпись к X') # в скобках вводим текст, который должен появиться в качестве подписи оси х\n",
    "plt.ylabel('Подпись к Y') # в скобках вводим текст, который должен появиться в качестве подписи оси y\n",
    "\n",
    "plt.xticks([1, 2, 3, 5, 10, 11, 15, 16]) # то где на графике, на оси X будут точечки\n",
    "plt.yticks([1, 2, 3, 5, 7, 8, 9, 10]) # то где на графике, на оси Y будут точечки\n",
    "plt.legend()\n",
    "plt.grid()\n",
    "\n",
    "plt.show() "
   ]
  },
  {
   "cell_type": "markdown",
   "metadata": {},
   "source": [
    "А еще можно изменить размеры текста у подписей осей!"
   ]
  },
  {
   "cell_type": "code",
   "execution_count": 15,
   "metadata": {},
   "outputs": [
    {
     "data": {
      "image/png": "[encoded data removed]",
      "text/plain": [
       "<Figure size 504x360 with 1 Axes>"
      ]
     },
     "metadata": {},
     "output_type": "display_data"
    }
   ],
   "source": [
    "# Создание прямой из точек - plot\n",
    "\n",
    "plt.figure(figsize=[7, 5]) \n",
    "plt.plot([1, 2, 3, 10, 15], [1, 2, 3, 5, 10], label='Простой plot') \n",
    "plt.scatter([1.5, 2.5, 3.5, 9, 13], [1.3, 2.6, 3.1, 4.1, 7.6], label='Простой scatter') \n",
    "\n",
    "plt.title('Заголовок', fontsize=15)\n",
    "\n",
    "plt.xlabel('Подпись к X', fontsize=22)\n",
    "plt.ylabel('Подпись к Y', fontsize=32)\n",
    "\n",
    "plt.xticks([1, 2, 3, 5, 10, 11, 15, 16])\n",
    "plt.yticks([1, 2, 3, 5, 7, 8, 9, 10])\n",
    "plt.legend()\n",
    "plt.grid()\n",
    "\n",
    "plt.show() "
   ]
  },
  {
   "cell_type": "markdown",
   "metadata": {},
   "source": [
    "Подробнее про настройку деления осей\n",
    "\n",
    "За деления осей отвечают xticks и yticks"
   ]
  },
  {
   "cell_type": "code",
   "execution_count": 16,
   "metadata": {},
   "outputs": [
    {
     "data": {
      "image/png": "[encoded data removed]",
      "text/plain": [
       "<Figure size 504x360 with 1 Axes>"
      ]
     },
     "metadata": {},
     "output_type": "display_data"
    }
   ],
   "source": [
    "plt.figure(figsize=[7, 5])   # Создание объекта Figure\n",
    "plt.scatter([1.0], [1.0])   # scatter - метод для нанесения маркера в точке (1.0, 1.0)\n",
    "plt.xlabel('Ось х точечки')# в скобках в кавычках вводим текст, который должен появиться в качестве подписи оси х\n",
    "plt.ylabel('Ось y точечки')# в скобках в кавычках вводим текст, который должен появиться в качестве подписи оси у\n",
    "plt.title('Название графика с точечкой',  fontsize = 35)\n",
    "plt.xticks(np.arange(5), ('Tom', 'Dick', 'Harry', 'Sally', 'Sue'))\n",
    "# итак, что у нас происходит сверху? сначала мы сказали, что у нас вся ось х будет от 0 до 4\n",
    "# 5 не будет, так как в питоне последняя циферка не включительно\n",
    "# значит, сказали, что вся ось от 0 до 4\n",
    "# потом сказали, что хотим, чтобы она была подписана не чиселками 0,1,2,3,4,\n",
    "# а именами 'Tom', 'Dick', 'Harry', 'Sally', 'Sue'\n",
    "plt.yticks(np.arange(3), ('Чиселка 0', 'Чиселка 1', 'Чиселка 2'))\n",
    "# с осью y сделали примерно то же самое\n",
    "plt.show()"
   ]
  },
  {
   "cell_type": "markdown",
   "metadata": {},
   "source": [
    "Чуть подробнее про то как вообще рисуются графики в plt\n",
    "\n",
    "Когда вы делаете `plt.figure`, plt выделяет вам один большой график, в который вы можете добавлять сколько угодно `scatter` и `plot` графиков, менять подписи, грифты, заголовки, что угодно. Когда вы вызываете `plt.show`, plt отрисовывает этот большой график и забывает что он вообще был."
   ]
  },
  {
   "cell_type": "code",
   "execution_count": 17,
   "metadata": {},
   "outputs": [
    {
     "data": {
      "image/png": "[encoded data removed]",
      "text/plain": [
       "<Figure size 216x216 with 1 Axes>"
      ]
     },
     "metadata": {},
     "output_type": "display_data"
    },
    {
     "data": {
      "image/png": "[encoded data removed]",
      "text/plain": [
       "<Figure size 216x216 with 1 Axes>"
      ]
     },
     "metadata": {},
     "output_type": "display_data"
    },
    {
     "data": {
      "image/png": "[encoded data removed]",
      "text/plain": [
       "<Figure size 216x216 with 1 Axes>"
      ]
     },
     "metadata": {},
     "output_type": "display_data"
    },
    {
     "data": {
      "image/png": "[encoded data removed]",
      "text/plain": [
       "<Figure size 216x216 with 1 Axes>"
      ]
     },
     "metadata": {},
     "output_type": "display_data"
    }
   ],
   "source": [
    "for i in range(3, 7):\n",
    "    plt.figure(figsize=[3, 3])\n",
    "    plt.title('Graph number ' + str(i))\n",
    "    plt.scatter(np.random.randint(0, i, 10), np.random.randint(0, i, 10)) \n",
    "    # np.random.randint(0, i, 10) выдаст np.array из 10 случайных чисел от 0 до i\n",
    "    plt.show() # рисует сам график и выводит его нам в тетрадку"
   ]
  },
  {
   "cell_type": "markdown",
   "metadata": {},
   "source": [
    "Кстати, вам понадобятся названия цветов:"
   ]
  },
  {
   "cell_type": "markdown",
   "metadata": {},
   "source": [
    "![alt text](https://i.stack.imgur.com/lFZum.png \"Цвета\")"
   ]
  },
  {
   "cell_type": "code",
   "execution_count": 18,
   "metadata": {},
   "outputs": [
    {
     "data": {
      "image/png": "[encoded data removed]",
      "text/plain": [
       "<Figure size 504x360 with 1 Axes>"
      ]
     },
     "metadata": {},
     "output_type": "display_data"
    }
   ],
   "source": [
    "plt.figure(figsize=[7, 5]) \n",
    "plt.plot([1, 2, 3, 10, 15], [1, 2, 3, 5, 10], label='Простой plot', c='palegreen') \n",
    "plt.scatter([1.5, 2.5, 3.5, 9, 13], [1.3, 2.6, 3.1, 4.1, 7.6], label='Простой scatter', c='lightpink') \n",
    "plt.title('Заголовок', fontsize=15)\n",
    "\n",
    "plt.xlabel('Подпись к X', fontsize=22)\n",
    "plt.ylabel('Подпись к Y', fontsize=32)\n",
    "\n",
    "plt.xticks([1, 2, 3, 5, 10, 11, 15, 16])\n",
    "plt.xticks([1, 2, 3, 5, 7, 8, 9, 10])\n",
    "plt.legend()\n",
    "plt.grid()\n",
    "\n",
    "plt.show() "
   ]
  },
  {
   "cell_type": "markdown",
   "metadata": {},
   "source": [
    "### Виды графиков:"
   ]
  },
  {
   "cell_type": "markdown",
   "metadata": {},
   "source": [
    "Очень важно выбрать нужный тип визуализации! Можно использовать для этого этот путеводитель по графикам, давайте повторим основные типы и сферы их использования:"
   ]
  },
  {
   "cell_type": "markdown",
   "metadata": {},
   "source": [
    "![alt text](http://bigdata.black/wp-content/uploads/2016/04/best-chart-1.png \"Гифка1\")"
   ]
  },
  {
   "cell_type": "markdown",
   "metadata": {},
   "source": [
    "Задание: построить график ломаной прямой (plot), подписать оси, добавить заголовок"
   ]
  },
  {
   "cell_type": "code",
   "execution_count": 22,
   "metadata": {},
   "outputs": [],
   "source": [
    "x = np.array([1, 2, 5, 10, 11, 14])\n",
    "y = x**4\n",
    "\n",
    "# YOUR CODE \n",
    "\n",
    "plt.show()"
   ]
  },
  {
   "cell_type": "markdown",
   "metadata": {},
   "source": [
    "Задание: построить точечный график, подписать оси, добавить заголовок"
   ]
  },
  {
   "cell_type": "code",
   "execution_count": 23,
   "metadata": {},
   "outputs": [
    {
     "data": {
      "text/plain": [
       "<Figure size 504x360 with 0 Axes>"
      ]
     },
     "metadata": {},
     "output_type": "display_data"
    }
   ],
   "source": [
    "plt.figure(figsize=[7, 5])\n",
    "\n",
    "# YOUR CODE\n",
    "\n",
    "plt.show()"
   ]
  },
  {
   "cell_type": "markdown",
   "metadata": {},
   "source": [
    "#### Столбчатая диаграмма\n",
    "- plt.bar()\n",
    "\n",
    "<b> Зачем: </b> Можно продемонстрировать распределение значений по категориям, сравнивать их между собой.\n",
    "\n",
    "Попробуем отрисовать сразу два графика на одном рисунке:"
   ]
  },
  {
   "cell_type": "code",
   "execution_count": 54,
   "metadata": {},
   "outputs": [
    {
     "data": {
      "image/png": "[encoded data removed]",
      "text/plain": [
       "<Figure size 432x288 with 1 Axes>"
      ]
     },
     "metadata": {},
     "output_type": "display_data"
    }
   ],
   "source": [
    "X = [1,0,8,3,4]\n",
    "Y = [1,8,2,4,8]\n",
    "\n",
    "X2 = [2, 3, 0, 3, 1]\n",
    "Y2 = [2, 4, 1, 2, 2]\n",
    "\n",
    "\n",
    "plt.bar(X,Y, label=\"Barplot 1\", color='r', alpha=0.4) # Параметр alpha отвечает за \"прозрачность\"\n",
    "plt.bar(X2,Y2, label=\"Barplot 2\", color='b', alpha=0.6)\n",
    "plt.title('Barplot')\n",
    "plt.legend()\n",
    "\n",
    "plt.show()"
   ]
  },
  {
   "cell_type": "markdown",
   "metadata": {},
   "source": [
    "Попробуем посмотреть другие варианты оформления (а заодно вспомним про циклы): с помощью дополнительного условия можно автоматически перекрашивать часть столбцов по вашему усмотрению."
   ]
  },
  {
   "cell_type": "code",
   "execution_count": 52,
   "metadata": {},
   "outputs": [
    {
     "name": "stdout",
     "output_type": "stream",
     "text": [
      "x ->  [0 1 2 3 4] \n",
      "y ->  [-0.10150275  1.43870792  0.16270086  0.22083908  0.47064445]\n"
     ]
    },
    {
     "data": {
      "image/png": "[encoded data removed]",
      "text/plain": [
       "<Figure size 432x288 with 1 Axes>"
      ]
     },
     "metadata": {},
     "output_type": "display_data"
    }
   ],
   "source": [
    "x = np.arange(5)\n",
    "y = np.random.randn(5)\n",
    "\n",
    "print('x -> ', x, '\\ny -> ', y)\n",
    "\n",
    "vert_bars = plt.bar(x, y, color='lightblue')\n",
    "\n",
    "# Можно покрасить часть столбцов в другой цвет\n",
    "for bar, height in zip(vert_bars, y):\n",
    "    if height < 0:\n",
    "        bar.set(edgecolor='darkred', color='salmon', linewidth=3)\n",
    "        \n",
    "plt.title('Разные раскраски')\n",
    "\n",
    "plt.xlabel('Случайный икс')\n",
    "plt.ylabel('Случайный игрек')\n",
    "\n",
    "plt.show()"
   ]
  },
  {
   "cell_type": "markdown",
   "metadata": {},
   "source": [
    "#### Круговая диаграмма\n",
    "- plt.pie()\n",
    "\n",
    "<b>Зачем: </b> С помощью круговой диаграммы удобно показывать, какую часть от целого занимает категория переменной."
   ]
  },
  {
   "cell_type": "code",
   "execution_count": 25,
   "metadata": {},
   "outputs": [],
   "source": [
    "# Задайте вектор, который будет содержать количество часов, которое Вы тратите на сон, еду, учебу/работу и развлечения (всего 4 значения)\n",
    "slices = # YOUR CODE\n",
    "\n",
    "plt.figure(figsize=(10, 10))\n",
    "\n",
    "# Labels\n",
    "activities = ['Сон','Еда','Учеба/Работа','Развлечения']\n",
    "\n",
    "#Задайте список из 4 цветов:\n",
    "cols = ['red', 'salmon', 'g', 'blue']\n",
    "plt.pie(slices, labels=activities, colors=cols)\n",
    "\n",
    "plt.title(\"Моя сложная жизнь\")\n",
    "\n",
    "plt.show()"
   ]
  },
  {
   "cell_type": "markdown",
   "metadata": {},
   "source": [
    "Можно отдельно задать параметр explode, который будет показывать насколько нужно \"взорвать\" каждый кусочек от центра"
   ]
  },
  {
   "cell_type": "code",
   "execution_count": null,
   "metadata": {
    "collapsed": true
   },
   "outputs": [],
   "source": [
    "# Задайте вектор, который будет содержать количество часов, которое Вы тратите на сон, еду, учебу/работу и развлечения (всего 4 значения)\n",
    "slices = # YOUR CODE\n",
    "\n",
    "plt.figure(figsize=(10, 10))\n",
    "\n",
    "# Labels\n",
    "activities = ['Сон','Еда','Учеба/Работа','Развлечения']\n",
    "explode = [0.3, 0, 0.1, 0.4]\n",
    "\n",
    "#Задайте список из 4 цветов:\n",
    "cols = ['red', 'salmon', 'g', 'blue']\n",
    "plt.pie(slices, labels=activities, colors=cols, explode=explode, shadow=True)\n",
    "\n",
    "plt.title(\"Моя сложная жизнь\")\n",
    "\n",
    "plt.show()"
   ]
  },
  {
   "cell_type": "markdown",
   "metadata": {},
   "source": [
    "#### Гистограмма\n",
    "- plt.hist() - гистограмма\n",
    "\n",
    "<b> Зачем: </b> Можно показать распределение объектов по частоте их появления.\n",
    "\n",
    "\n",
    "По оси x отложены интервалы значений, а по у количество наблюдений в данном интервале."
   ]
  },
  {
   "cell_type": "code",
   "execution_count": 46,
   "metadata": {},
   "outputs": [
    {
     "data": {
      "text/plain": [
       "Text(0, 0.5, 'Частота')"
      ]
     },
     "execution_count": 46,
     "metadata": {},
     "output_type": "execute_result"
    },
    {
     "data": {
      "image/png": "[encoded data removed]",
      "text/plain": [
       "<Figure size 432x288 with 1 Axes>"
      ]
     },
     "metadata": {},
     "output_type": "display_data"
    }
   ],
   "source": [
    "sample = np.random.normal(size=100)     #1000 значений из нормального распределения\n",
    "plt.hist(sample)               \n",
    "plt.title(\"Гистограмма нормального распределения\")\n",
    "plt.xlabel(\"Значение\")\n",
    "plt.ylabel(\"Частота\")"
   ]
  },
  {
   "cell_type": "markdown",
   "metadata": {},
   "source": [
    "Чем больше данных, там глаже становится наша гистограмма"
   ]
  },
  {
   "cell_type": "code",
   "execution_count": 48,
   "metadata": {},
   "outputs": [
    {
     "data": {
      "text/plain": [
       "Text(0, 0.5, 'Частота')"
      ]
     },
     "execution_count": 48,
     "metadata": {},
     "output_type": "execute_result"
    },
    {
     "data": {
      "image/png": "[encoded data removed]",
      "text/plain": [
       "<Figure size 432x288 with 1 Axes>"
      ]
     },
     "metadata": {},
     "output_type": "display_data"
    }
   ],
   "source": [
    "sample = np.random.normal(size=1000)     #1000 значений из нормального распределения\n",
    "plt.hist(sample)               \n",
    "plt.title(\"Гистограмма нормального распределения\")\n",
    "plt.xlabel(\"Значение\")\n",
    "plt.ylabel(\"Частота\")"
   ]
  },
  {
   "cell_type": "markdown",
   "metadata": {},
   "source": [
    "По умолчанию гистограмма рисует всего 10 бинов. Этого обычно не хватает и гистограмма получается очень \"дерганной\""
   ]
  },
  {
   "cell_type": "code",
   "execution_count": 49,
   "metadata": {},
   "outputs": [
    {
     "data": {
      "text/plain": [
       "Text(0, 0.5, 'Частота')"
      ]
     },
     "execution_count": 49,
     "metadata": {},
     "output_type": "execute_result"
    },
    {
     "data": {
      "image/png": "[encoded data removed]",
      "text/plain": [
       "<Figure size 432x288 with 1 Axes>"
      ]
     },
     "metadata": {},
     "output_type": "display_data"
    }
   ],
   "source": [
    "sample = np.random.normal(size=1000)     #1000 значений из нормального распределения\n",
    "plt.hist(sample, bins=100)               \n",
    "plt.title(\"Гистограмма нормального распределения\")\n",
    "plt.xlabel(\"Значение\")\n",
    "plt.ylabel(\"Частота\")"
   ]
  },
  {
   "cell_type": "markdown",
   "metadata": {},
   "source": [
    "#### Boxplot (ящик с усами)"
   ]
  },
  {
   "cell_type": "markdown",
   "metadata": {},
   "source": [
    "- plt.boxplot() - гистограмма\n",
    "\n",
    "Один из самых информативных графиков для демонстрации основного характера выборки, на иллюстрации ниже можно видеть, как интерпретировать данный график:"
   ]
  },
  {
   "cell_type": "markdown",
   "metadata": {},
   "source": [
    "![alt text](https://miro.medium.com/max/18000/1*2c21SkzJMf3frPXPAR_gZA.png \"Боксплот\")\n",
    "\n",
    "Видно, что основная часть выборки (25 - 75 персентиль) должна попадать в центральный \"ящик\""
   ]
  },
  {
   "cell_type": "markdown",
   "metadata": {},
   "source": [
    "Задание: Построить боксплот по сгенерированной для гистограммы выборке"
   ]
  },
  {
   "cell_type": "code",
   "execution_count": 76,
   "metadata": {},
   "outputs": [
    {
     "data": {
      "text/plain": [
       "Text(0, 0.5, 'Частота')"
      ]
     },
     "execution_count": 76,
     "metadata": {},
     "output_type": "execute_result"
    },
    {
     "data": {
      "image/png": "[encoded data removed]",
      "text/plain": [
       "<Figure size 432x288 with 1 Axes>"
      ]
     },
     "metadata": {},
     "output_type": "display_data"
    }
   ],
   "source": [
    "sample = np.random.normal(size=(1000))     #1000 значений из нормального распределения\n",
    "plt.boxplot(sample)               \n",
    "plt.title(\"Boxplot нормального распределения\")\n",
    "plt.xlabel(\"Значение\")\n",
    "plt.ylabel(\"Частота\")"
   ]
  },
  {
   "cell_type": "markdown",
   "metadata": {},
   "source": [
    "Можно рисовать много ящиков. Для этого в plt.boxplot нужно подать двумерный массив (таблицу), для каждого столбца нарисуется свой ящик"
   ]
  },
  {
   "cell_type": "code",
   "execution_count": 26,
   "metadata": {},
   "outputs": [
    {
     "data": {
      "text/plain": [
       "Text(0, 0.5, 'Частота')"
      ]
     },
     "execution_count": 26,
     "metadata": {},
     "output_type": "execute_result"
    },
    {
     "data": {
      "image/png": "[encoded data removed]",
      "text/plain": [
       "<Figure size 432x288 with 1 Axes>"
      ]
     },
     "metadata": {},
     "output_type": "display_data"
    }
   ],
   "source": [
    "sample = np.random.normal(size=(1000, 5))     #1000 значений из нормального распределения, 5 столбцов\n",
    "plt.boxplot(sample)               \n",
    "plt.title(\"Boxplot нормального распределения\")\n",
    "plt.xlabel(\"Значение\")\n",
    "plt.ylabel(\"Частота\")"
   ]
  },
  {
   "cell_type": "markdown",
   "metadata": {},
   "source": [
    "### Несколько графиков в одном\n",
    "\n",
    "Скорее всего, когда нибудь, вам понадобится вывести несколько графиков на одно поле <br />\n",
    "Для этого можно использовать функцию subplots: <br />\n",
    "`fig, axes = plt.subplots(nrows=2, ncols=2, figsize = (width, height))`"
   ]
  },
  {
   "cell_type": "code",
   "execution_count": 56,
   "metadata": {},
   "outputs": [
    {
     "data": {
      "image/png": "[encoded data removed]",
      "text/plain": [
       "<Figure size 504x504 with 4 Axes>"
      ]
     },
     "metadata": {},
     "output_type": "display_data"
    }
   ],
   "source": [
    "fig, axes = plt.subplots(nrows=2, ncols=2, figsize = (7, 7)) # Мы задали 4 области для графика: 2 сверху и 2 снизу\n",
    "x = np.arange(10)\n",
    "y = x**4\n",
    "axes[0, 0].plot(x,y) #График пояится слева сверху\n",
    "axes[0, 1].plot(x,y)\n",
    "axes[1, 0].plot(x,y)\n",
    "axes[1, 1].plot(x,y)\n",
    "\n",
    "plt.title('Заголовок')\n",
    "\n",
    "plt.show()"
   ]
  },
  {
   "cell_type": "markdown",
   "metadata": {},
   "source": [
    "#### Задание: \n",
    "\n",
    "Постойте 4 осмысленные функции y от x и нарисуйте их на одном графике (как в предыдущем задании)"
   ]
  },
  {
   "cell_type": "code",
   "execution_count": 57,
   "metadata": {
    "collapsed": true
   },
   "outputs": [],
   "source": [
    "# YOUR CODE"
   ]
  },
  {
   "cell_type": "code",
   "execution_count": null,
   "metadata": {
    "collapsed": true
   },
   "outputs": [],
   "source": []
  }
 ],
 "metadata": {
  "kernelspec": {
   "display_name": "Python 3",
   "language": "python",
   "name": "python3"
  },
  "language_info": {
   "codemirror_mode": {
    "name": "ipython",
    "version": 3
   },
   "file_extension": ".py",
   "mimetype": "text/x-python",
   "name": "python",
   "nbconvert_exporter": "python",
   "pygments_lexer": "ipython3",
   "version": "3.6.6"
  }
 },
 "nbformat": 4,
 "nbformat_minor": 2
}
