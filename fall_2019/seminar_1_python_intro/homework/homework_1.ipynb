{
 "cells": [
  {
   "cell_type": "markdown",
   "metadata": {},
   "source": [
    "# Первое домашнее задание по курсу Основы АД в МО\n",
    "Во всех задачах разрешается заводить любые промежуточные переменные, не указанные в условии, которые вам могут понадобиться."
   ]
  },
  {
   "cell_type": "markdown",
   "metadata": {},
   "source": [
    "## 1. Градус Фаренгейта\n",
    "В некоторых странах используется метрическая система, отличная от нашей. Например, в США температуру принято измерять в градусах [Фаренгейта](https://ru.wikipedia.org/wiki/%D0%93%D1%80%D0%B0%D0%B4%D1%83%D1%81_%D0%A4%D0%B0%D1%80%D0%B5%D0%BD%D0%B3%D0%B5%D0%B9%D1%82%D0%B0), а не Цельсия. Напишите программу, которая будет переводить температуру из одной системы в другую.\n",
    "1. Заведите переменную, хранящую температуру по Фаренгейту.\n",
    "2. Выведите на экран температуру в градусах Цельсия."
   ]
  },
  {
   "cell_type": "code",
   "execution_count": null,
   "metadata": {},
   "outputs": [],
   "source": [
    "# YOUR CODE"
   ]
  },
  {
   "cell_type": "markdown",
   "metadata": {},
   "source": [
    "## 2. Say Hi\n",
    "Заведите переменную `name`, которая будет хранить ваше имя, и `age`, которая будет хранить ваш возраст.\n",
    "\n",
    "Выведите на экран строку формата `Привет, меня зовут <имя>, мне <возраст> лет.`.\n",
    "\n",
    "Пример вывода:\n",
    "\n",
    "```\n",
    "Привет, меня зовут Питон, мне 28 лет.\n",
    "```"
   ]
  },
  {
   "cell_type": "code",
   "execution_count": null,
   "metadata": {},
   "outputs": [],
   "source": [
    "# YOUR CODE"
   ]
  },
  {
   "cell_type": "markdown",
   "metadata": {},
   "source": [
    "## 3. Площадь и периметр прямоугольника\n",
    "![](http://infofaq.ru/wp-content/uploads/2016/10/prjamoug-300x178.png)\n",
    "1. Заведите две переменные для длин сторон прямоугольника, задайте им произвольные значения и выведите переменные на экран.\n",
    "2. Выведите на экран значения площади и периметра прямоугольника в формате:\n",
    "```\n",
    "Периметр прямоугольника: <число>\n",
    "Площадь прямоугольника: <число>\n",
    "```"
   ]
  },
  {
   "cell_type": "code",
   "execution_count": null,
   "metadata": {},
   "outputs": [],
   "source": [
    "# YOUR CODE"
   ]
  }
 ],
 "metadata": {
  "kernelspec": {
   "display_name": "Python 3",
   "language": "python",
   "name": "python3"
  },
  "language_info": {
   "codemirror_mode": {
    "name": "ipython",
    "version": 2
   },
   "file_extension": ".py",
   "mimetype": "text/x-python",
   "name": "python",
   "nbconvert_exporter": "python",
   "pygments_lexer": "ipython2",
   "version": "2.7.12"
  }
 },
 "nbformat": 4,
 "nbformat_minor": 2
}
