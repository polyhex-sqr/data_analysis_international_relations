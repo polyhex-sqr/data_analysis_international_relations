{
 "cells": [
  {
   "cell_type": "markdown",
   "metadata": {},
   "source": [
    "# Домашнее задание по курсу Основы АД в МО. Модуль pandas\n",
    "Во всех задачах разрешается заводить любые промежуточные переменные, не указанные в условии, которые вам могут понадобиться. Задание сдаётся в систему anytask."
   ]
  },
  {
   "cell_type": "markdown",
   "metadata": {},
   "source": [
    "## 1. (3 балла) О велосипедах\n",
    "Вам дана таблица с данными об аренде велосипедов. Подробное описание колонок можно почитать [здесь](https://archive.ics.uci.edu/ml/datasets/Bike%20Sharing%20Dataset#) (в исходном датасете некоторые величины отнормированы в отрезок $[0; 1]$, в нашей версии датасета -- нет).\n",
    "\n",
    "В задании могут понадобиться следующие:\n",
    "- `datetime`: дата аренды\n",
    "- `season`: сезоны проката, разбиение примерно такое: \n",
    "    - 1: декабрь-февраль\n",
    "    - 2: март-июнь\n",
    "    - 3: июнь-август\n",
    "    - 4: сентябрь-декабрь\n",
    "- `workingday`: являлся ли день рабочим\n",
    "    - 0: праздники или выходные\n",
    "    - 1: обычный рабочий день\n",
    "- `temp`: температура воздуха по Цельсию\n",
    "- `cnt`: общее число аренд (обычных аренд и аренд по абонементу)\n",
    "- `yr`: год (0: 2011 год, 1: 2012 год)\n",
    "- `mnth`: месяц (1-12)"
   ]
  },
  {
   "cell_type": "markdown",
   "metadata": {},
   "source": [
    "Что надо сделать:\n",
    "1. считать таблицу;\n",
    "2. проверить её на наличие пропущенных значений и обработать пропуски;\n",
    "3. вывести строки, содержащие информацию за летний и зимний сезон (значение поля `season` $3$ и $1$ соответственно);\n",
    "4. вывести информацию о нерабочих днях, когда температура превышала $10$ градусов;\n",
    "5. вывести среднее число аренд велосипедов в январе в 2011 году;\n",
    "6. вывести минимальную и максимальную температуру за апрель и май."
   ]
  },
  {
   "cell_type": "code",
   "execution_count": null,
   "metadata": {},
   "outputs": [],
   "source": [
    "import pandas as pd"
   ]
  },
  {
   "cell_type": "code",
   "execution_count": null,
   "metadata": {},
   "outputs": [],
   "source": [
    "# YOUR CODE"
   ]
  }
 ],
 "metadata": {
  "kernelspec": {
   "display_name": "Python 3",
   "language": "python",
   "name": "python3"
  },
  "language_info": {
   "codemirror_mode": {
    "name": "ipython",
    "version": 3
   },
   "file_extension": ".py",
   "mimetype": "text/x-python",
   "name": "python",
   "nbconvert_exporter": "python",
   "pygments_lexer": "ipython3",
   "version": "3.6.7"
  },
  "varInspector": {
   "cols": {
    "lenName": 16,
    "lenType": 16,
    "lenVar": 40
   },
   "kernels_config": {
    "python": {
     "delete_cmd_postfix": "",
     "delete_cmd_prefix": "del ",
     "library": "var_list.py",
     "varRefreshCmd": "print(var_dic_list())"
    },
    "r": {
     "delete_cmd_postfix": ") ",
     "delete_cmd_prefix": "rm(",
     "library": "var_list.r",
     "varRefreshCmd": "cat(var_dic_list()) "
    }
   },
   "types_to_exclude": [
    "module",
    "function",
    "builtin_function_or_method",
    "instance",
    "_Feature"
   ],
   "window_display": false
  }
 },
 "nbformat": 4,
 "nbformat_minor": 2
}
