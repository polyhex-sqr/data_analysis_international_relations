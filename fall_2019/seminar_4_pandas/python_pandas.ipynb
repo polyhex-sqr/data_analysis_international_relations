{
 "cells": [
  {
   "cell_type": "markdown",
   "metadata": {},
   "source": [
    "# Основы АД в МО. Введение в Python: модуль pandas"
   ]
  },
  {
   "cell_type": "markdown",
   "metadata": {},
   "source": [
    "## Работа с модулем Pandas\n",
    "Напомним, что такое модуль: в модуле хранятся функции, которые \"не вместились\" в основной синтаксис языка. Например, рассматривался модуль `math`, который содержал функции из продвинутого калькулятора.\n",
    "\n",
    "![](https://filearmy.s3.amazonaws.com/2017/03/03/25b10be.jpg)\n",
    "\n",
    "Модуль Pandas предназначен для работы с данными, чем-то напоминающей работу в Excel. Данные хранятся в таблице с именованными колонками и пронумерованными строками.\n",
    "\n",
    "Для начала подключим модуль:"
   ]
  },
  {
   "cell_type": "code",
   "execution_count": null,
   "metadata": {},
   "outputs": [],
   "source": [
    "# Данная конструкция подключает модуль pandas\n",
    "# и позволяет обращаться к его функциям через имя pd.\n",
    "import pandas as pd"
   ]
  },
  {
   "cell_type": "markdown",
   "metadata": {},
   "source": [
    "### Чтение таблицы из файла\n",
    "В `pandas` можно легко и удобно считывать таблицы форматов .csv, .tsv, .xls, .xlsx, ... с помощью функции `read_csv` или `read_excel` в зависимости от формата. В течение курса мы в основном будем считывать из .csv (comma separated values).\n",
    "\n",
    "Рассмотрим таблицу, содержащую различные показатели по странам с $1980$ по $2009$ год, взятые из базы [United Nations System](http://data.un.org/Default.aspx).\n",
    "\n",
    "Считаем данные и выведем первые $5$ строк:"
   ]
  },
  {
   "cell_type": "code",
   "execution_count": null,
   "metadata": {},
   "outputs": [],
   "source": [
    "countries = pd.read_csv('country_statistics.csv')\n",
    "countries.head(5)"
   ]
  },
  {
   "cell_type": "markdown",
   "metadata": {},
   "source": [
    "Можно узнать размер таблицы (количество строк и столбцов):"
   ]
  },
  {
   "cell_type": "code",
   "execution_count": null,
   "metadata": {},
   "outputs": [],
   "source": [
    "countries.shape"
   ]
  },
  {
   "cell_type": "markdown",
   "metadata": {},
   "source": [
    "Можно вывести названия всех столбцов:"
   ]
  },
  {
   "cell_type": "code",
   "execution_count": null,
   "metadata": {},
   "outputs": [],
   "source": [
    "countries.columns"
   ]
  },
  {
   "cell_type": "markdown",
   "metadata": {},
   "source": [
    "Краткое описание таблицы можно вывести так:"
   ]
  },
  {
   "cell_type": "code",
   "execution_count": null,
   "metadata": {},
   "outputs": [],
   "source": [
    "countries.info()"
   ]
  },
  {
   "cell_type": "markdown",
   "metadata": {},
   "source": [
    "Из полезного: можно сразу же оценить, сколько пропусков в данных.\n",
    "\n",
    "### Простейшие операции\n",
    "\n",
    "Из таблицы можно получать отдельные колонки, обращаясь к ним по именам, например, так:"
   ]
  },
  {
   "cell_type": "code",
   "execution_count": null,
   "metadata": {
    "scrolled": true
   },
   "outputs": [],
   "source": [
    "countries.Year"
   ]
  },
  {
   "cell_type": "markdown",
   "metadata": {},
   "source": [
    "Однако такой способ не сработает, если колонка содержит пробелы (в нашем случае таких большинство). Поэтому в `pandas` предусмотрено эквивалентное решение:"
   ]
  },
  {
   "cell_type": "code",
   "execution_count": null,
   "metadata": {
    "scrolled": true
   },
   "outputs": [],
   "source": [
    "countries['Year']"
   ]
  },
  {
   "cell_type": "code",
   "execution_count": null,
   "metadata": {
    "scrolled": true
   },
   "outputs": [],
   "source": [
    "countries['Country or Area']"
   ]
  },
  {
   "cell_type": "markdown",
   "metadata": {},
   "source": [
    "Также, можно выводить сразу несколько колонок. Для этого надо передать **список** названий колонок (т.е. после имени таблицы появятся двойные квадратные скобки `[]`):"
   ]
  },
  {
   "cell_type": "code",
   "execution_count": null,
   "metadata": {
    "scrolled": true
   },
   "outputs": [],
   "source": [
    "countries[['Country or Area', 'Year']]"
   ]
  },
  {
   "cell_type": "markdown",
   "metadata": {},
   "source": [
    "Вывести строки с конкретным значением в столбце можно так:"
   ]
  },
  {
   "cell_type": "code",
   "execution_count": null,
   "metadata": {
    "scrolled": true
   },
   "outputs": [],
   "source": [
    "# вывод строк с информацией за 1995 год\n",
    "countries[countries.Year == 1995]"
   ]
  },
  {
   "cell_type": "markdown",
   "metadata": {},
   "source": [
    "### Комбинация условий\n",
    "Иногда бывает нужно вывести строки с фиксированными значениями нескольких полей. В таких случаях можно воспользоваться логикой, аналогичной той, что использовалась в конструкции `if`.\n",
    "\n",
    "Для проверки нескольких условий в `if` мы писали конструкции вроде такой:"
   ]
  },
  {
   "cell_type": "code",
   "execution_count": null,
   "metadata": {},
   "outputs": [],
   "source": [
    "if 1 > 0 and 10 <= 11:\n",
    "    print('ok')"
   ]
  },
  {
   "cell_type": "markdown",
   "metadata": {},
   "source": [
    "Аналогичную конструкцию можно вписать в квадратных скобках `[]` для умной индексации в `pandas`:"
   ]
  },
  {
   "cell_type": "code",
   "execution_count": null,
   "metadata": {},
   "outputs": [],
   "source": [
    "# вывод строк с информацией за 1995 год и средней продолжительностью жизни больше 77\n",
    "countries[(countries['Year'] == 1995) & (countries['Life expectancy'] > 77)]"
   ]
  },
  {
   "cell_type": "markdown",
   "metadata": {},
   "source": [
    "Важные отличия от `if`:\n",
    "- оператор `and` заменяется на символ `&`\n",
    "- оператор `or` заменяется на символ `|`\n",
    "- оператор `not` заменяется на символ `~`\n",
    "- каждое условие надо оборачивать в круглые скобки `()`"
   ]
  },
  {
   "cell_type": "markdown",
   "metadata": {},
   "source": [
    "____\n",
    "#### Задание\n",
    "Выведите информацию за 2000 год, где ВВП меньше 500."
   ]
  },
  {
   "cell_type": "code",
   "execution_count": null,
   "metadata": {},
   "outputs": [],
   "source": [
    "#YOUR CODE"
   ]
  },
  {
   "cell_type": "markdown",
   "metadata": {},
   "source": [
    "### Работа с пропусками\n",
    "Как видно по таблице, при сборе данных неизбежно возникают *пропущенные значения* и в таблице появляются поля со значением NaN (Not a Number).\n",
    "\n",
    "Есть разные способы от них избавиться:\n",
    "- можно заменить их на какое-нибудь фиксированное значение\n",
    "- можно вообще удалить строки, содержащие NaN\n",
    "- в некоторых задачах NaN не мешают вовсе\n",
    "\n",
    "На количество пропущенных значений можно посмотреть в сводной статистике:"
   ]
  },
  {
   "cell_type": "code",
   "execution_count": null,
   "metadata": {
    "scrolled": true
   },
   "outputs": [],
   "source": [
    "countries.info()"
   ]
  },
  {
   "cell_type": "markdown",
   "metadata": {},
   "source": [
    "Одна из мер борьбы с NaN -- замена на какое-либо значение. Выведем самое частое значение (моду) показателя `Life expectancy`:"
   ]
  },
  {
   "cell_type": "code",
   "execution_count": null,
   "metadata": {
    "scrolled": true
   },
   "outputs": [],
   "source": [
    "countries['Life expectancy'].value_counts(sort=True)"
   ]
  },
  {
   "cell_type": "markdown",
   "metadata": {},
   "source": [
    "Заменим пропущенные значения в столбце `Life expectancy` на самое частое значение этого столбца: $71.5$."
   ]
  },
  {
   "cell_type": "code",
   "execution_count": null,
   "metadata": {},
   "outputs": [],
   "source": [
    "# Копируем исходную таблицу, чтобы не портить данные.\n",
    "countries_without_nan = countries.copy()"
   ]
  },
  {
   "cell_type": "code",
   "execution_count": null,
   "metadata": {},
   "outputs": [],
   "source": [
    "countries_without_nan['Life expectancy'] = countries_without_nan['Life expectancy'].fillna(71.5)"
   ]
  },
  {
   "cell_type": "markdown",
   "metadata": {},
   "source": [
    "Важно избегать необдуманных замен значений в данных наподобие совершённого. Такие действия могут существенно повлиять на описательные статистики, так что иногда безопаснее по возможности просто не рассматривать данные с пропусками:"
   ]
  },
  {
   "cell_type": "code",
   "execution_count": null,
   "metadata": {},
   "outputs": [],
   "source": [
    "countries_without_nan = countries_without_nan.dropna(how='any')"
   ]
  },
  {
   "cell_type": "markdown",
   "metadata": {},
   "source": [
    "Значение аргумента `how='any'` означает, что будут удалены все строки, содержащие **хотя бы один** пропуск.\n",
    "\n",
    "Можно было прописать `how='all'`, в результате чего удалились бы только строки, полностью состоящие из NaN."
   ]
  },
  {
   "cell_type": "code",
   "execution_count": null,
   "metadata": {
    "scrolled": true
   },
   "outputs": [],
   "source": [
    "countries_without_nan.info()"
   ]
  },
  {
   "cell_type": "markdown",
   "metadata": {},
   "source": [
    "Опять же, важно понимать, что вы можете потерять очень много информации:"
   ]
  },
  {
   "cell_type": "code",
   "execution_count": null,
   "metadata": {
    "scrolled": true
   },
   "outputs": [],
   "source": [
    "countries.shape, countries_without_nan.shape"
   ]
  },
  {
   "cell_type": "markdown",
   "metadata": {},
   "source": [
    "### Описательные статистики\n",
    "У таблицы в `pandas` есть множество методов для получения тех или иных описательных статистик:"
   ]
  },
  {
   "cell_type": "code",
   "execution_count": null,
   "metadata": {},
   "outputs": [],
   "source": [
    "print('Mean life expectancy: ', countries['Life expectancy'].mean())\n",
    "print('Min life expectancy: ', countries['Life expectancy'].min())\n",
    "print('Life expectancy 25% quantile: ', countries['Life expectancy'].quantile(0.25))"
   ]
  },
  {
   "cell_type": "markdown",
   "metadata": {},
   "source": [
    "Для сравнения, те же значения на таблице с неаккуратно вычищенными пропусками:"
   ]
  },
  {
   "cell_type": "code",
   "execution_count": null,
   "metadata": {},
   "outputs": [],
   "source": [
    "print('Mean life expectancy: ', countries_without_nan['Life expectancy'].mean())\n",
    "print('Min life expectancy: ', countries_without_nan['Life expectancy'].min())\n",
    "print('Life expectancy 25% quantile: ', countries_without_nan['Life expectancy'].quantile(0.25))"
   ]
  },
  {
   "cell_type": "markdown",
   "metadata": {},
   "source": [
    "Также, можно выводить целые наборы статистик по числовым полям таблицы:"
   ]
  },
  {
   "cell_type": "code",
   "execution_count": null,
   "metadata": {},
   "outputs": [],
   "source": [
    "countries.describe()"
   ]
  },
  {
   "cell_type": "markdown",
   "metadata": {},
   "source": [
    "- count - число наблюдений без пропусков\n",
    "- mean - среднее значение\n",
    "- std - стандартное отклонение\n",
    "- min - минимум\n",
    "- 50% - медиана\n",
    "- 25% - 25% квантиль\n",
    "- 75% - 75% квантиль\n",
    "- max - максимум"
   ]
  },
  {
   "cell_type": "markdown",
   "metadata": {},
   "source": [
    "Можно построить такую же таблицу для категориальных переменных:"
   ]
  },
  {
   "cell_type": "code",
   "execution_count": null,
   "metadata": {},
   "outputs": [],
   "source": [
    "countries.describe(include='object')"
   ]
  },
  {
   "cell_type": "markdown",
   "metadata": {},
   "source": [
    "- count - число наблюдений без пропусков\n",
    "- unique - число уникальных значений\n",
    "- top - самое частое значение\n",
    "- freq - частота, с которой встречается значение top"
   ]
  },
  {
   "cell_type": "markdown",
   "metadata": {},
   "source": [
    "### Задание: fun with pandas\n",
    "Напомним, как выглядит табличка с данными по странам:"
   ]
  },
  {
   "cell_type": "code",
   "execution_count": null,
   "metadata": {},
   "outputs": [],
   "source": [
    "countries.head()"
   ]
  },
  {
   "cell_type": "markdown",
   "metadata": {},
   "source": [
    "Выведите следующие значения:\n",
    "1. Максимальный процент детей с избыточным весом.\n",
    "2. Максимальный процент детей с недостатком веса в $2000$-$2005$ гг..\n",
    "3. Страны с продолжительностью жизни, превышающей $75\\%$ квантиль в промежуток с $1990$ по $2000$ год.\n",
    "4. Страны, в которых было больше детей с недостатком веса, чем детей с избытком, с $2000$ года.\n",
    "5. Среднее значение ВВП с $1995$ по $2000$ год."
   ]
  },
  {
   "cell_type": "code",
   "execution_count": null,
   "metadata": {},
   "outputs": [],
   "source": [
    "# YOUR CODE"
   ]
  },
  {
   "cell_type": "code",
   "execution_count": null,
   "metadata": {},
   "outputs": [],
   "source": [
    "# YOUR CODE"
   ]
  },
  {
   "cell_type": "code",
   "execution_count": null,
   "metadata": {},
   "outputs": [],
   "source": [
    "# YOUR CODE"
   ]
  },
  {
   "cell_type": "code",
   "execution_count": null,
   "metadata": {},
   "outputs": [],
   "source": [
    "# YOUR CODE"
   ]
  },
  {
   "cell_type": "code",
   "execution_count": null,
   "metadata": {},
   "outputs": [],
   "source": [
    "# YOUR CODE"
   ]
  },
  {
   "cell_type": "markdown",
   "metadata": {},
   "source": [
    "### Дополнительная обработка\n",
    "Иногда, когда мы скачиваем данные из источников, бывает, что они выглядят не так, как мы предполагали. Например, числовые значения записаны как строки (показатель Literacy). Для этого требуется дополнительная обработка."
   ]
  },
  {
   "cell_type": "code",
   "execution_count": null,
   "metadata": {},
   "outputs": [],
   "source": [
    "countries_without_nan.dtypes"
   ]
  },
  {
   "cell_type": "code",
   "execution_count": null,
   "metadata": {},
   "outputs": [],
   "source": [
    "countries_without_nan['Literacy']"
   ]
  },
  {
   "cell_type": "markdown",
   "metadata": {},
   "source": [
    "Показатели в столбце Literacy должны быть числами (float), а не строками. Для того, чтобы преобразовать, уберем знак `%` из каждого значения и переведем в число. Можем обрабатывать таким образом только столбцы, где уже нет NaN."
   ]
  },
  {
   "cell_type": "code",
   "execution_count": null,
   "metadata": {},
   "outputs": [],
   "source": [
    "countries_without_nan['Literacy'] = countries_without_nan['Literacy'].apply(lambda x: x.replace('%', ''))\n",
    "countries_without_nan['Literacy'] = countries_without_nan['Literacy'].apply(float)"
   ]
  },
  {
   "cell_type": "code",
   "execution_count": null,
   "metadata": {},
   "outputs": [],
   "source": [
    "countries_without_nan.dtypes"
   ]
  },
  {
   "cell_type": "code",
   "execution_count": null,
   "metadata": {},
   "outputs": [],
   "source": []
  }
 ],
 "metadata": {
  "kernelspec": {
   "display_name": "Python 3",
   "language": "python",
   "name": "python3"
  },
  "language_info": {
   "codemirror_mode": {
    "name": "ipython",
    "version": 3
   },
   "file_extension": ".py",
   "mimetype": "text/x-python",
   "name": "python",
   "nbconvert_exporter": "python",
   "pygments_lexer": "ipython3",
   "version": "3.6.7"
  },
  "varInspector": {
   "cols": {
    "lenName": 16,
    "lenType": 16,
    "lenVar": 40
   },
   "kernels_config": {
    "python": {
     "delete_cmd_postfix": "",
     "delete_cmd_prefix": "del ",
     "library": "var_list.py",
     "varRefreshCmd": "print(var_dic_list())"
    },
    "r": {
     "delete_cmd_postfix": ") ",
     "delete_cmd_prefix": "rm(",
     "library": "var_list.r",
     "varRefreshCmd": "cat(var_dic_list()) "
    }
   },
   "types_to_exclude": [
    "module",
    "function",
    "builtin_function_or_method",
    "instance",
    "_Feature"
   ],
   "window_display": false
  }
 },
 "nbformat": 4,
 "nbformat_minor": 2
}
