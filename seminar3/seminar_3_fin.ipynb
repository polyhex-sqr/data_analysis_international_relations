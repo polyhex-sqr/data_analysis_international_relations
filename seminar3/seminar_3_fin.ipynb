{
 "cells": [
  {
   "cell_type": "markdown",
   "metadata": {},
   "source": [
    "# 1. Ввод данных с клавиатуры\n",
    "Иногда для взаимодействия с пользователем требуется попросить его ввести входные числа / ответ на вопрос.\n",
    "\n",
    "Для этого в Python предусмотрена команда `input()`, которая возвращает *строку* с введёнными данными:"
   ]
  },
  {
   "cell_type": "code",
   "execution_count": null,
   "metadata": {},
   "outputs": [],
   "source": [
    "some_input = input()\n",
    "print('some_input:', some_input, type(some_input))"
   ]
  },
  {
   "cell_type": "markdown",
   "metadata": {},
   "source": [
    "Таким образом, чтобы считать число, необходимо вручную преобразовать его из строки в числовой формат:"
   ]
  },
  {
   "cell_type": "code",
   "execution_count": null,
   "metadata": {},
   "outputs": [],
   "source": [
    "some_input = float(input())\n",
    "print('some_input:', some_input, type(some_input))"
   ]
  },
  {
   "cell_type": "code",
   "execution_count": null,
   "metadata": {},
   "outputs": [],
   "source": [
    "some_input = int(input(\"Insert a number: \"))\n",
    "print('some_input:', some_input, type(some_input))"
   ]
  },
  {
   "cell_type": "markdown",
   "metadata": {},
   "source": [
    "### Задание:"
   ]
  },
  {
   "cell_type": "markdown",
   "metadata": {},
   "source": [
    "Запросите у пользователя ввод числа `n`. Для данного числа `n<100` закончите фразу “На лугу пасется...” одним из возможных продолжений: “n коров”, “n корова”, “n коровы”, правильно склоняя слово “корова”."
   ]
  },
  {
   "cell_type": "markdown",
   "metadata": {},
   "source": [
    "Пример:\n",
    "    \n",
    "Входные данные:\n",
    "1\n",
    "\n",
    "Вывод программы:\n",
    "1 корова\n",
    "\n",
    "\n",
    "\n",
    "Входные данные:\n",
    "2\n",
    "\n",
    "Вывод программы:\n",
    "2 коровы\n",
    "\n",
    "\n",
    "\n",
    "Тест 3\n",
    "Входные данные:\n",
    "5\n",
    "\n",
    "Вывод программы:\n",
    "5 коров"
   ]
  },
  {
   "cell_type": "markdown",
   "metadata": {},
   "source": [
    "### Циклы: for "
   ]
  },
  {
   "cell_type": "markdown",
   "metadata": {},
   "source": [
    "Циклы используются в тех случаях, когда нам нужно сделать что-нибудь много раз.\n",
    "\n",
    " \n",
    "Цикл `for` - нужно повторить что-нибудь n-ное количество раз.\n"
   ]
  },
  {
   "cell_type": "code",
   "execution_count": null,
   "metadata": {},
   "outputs": [],
   "source": [
    "# У нас есть список покупок:\n",
    "shoplist = ['apple', 'cola', 'milk', 'bread', 'towel']"
   ]
  },
  {
   "cell_type": "code",
   "execution_count": null,
   "metadata": {},
   "outputs": [],
   "source": [
    "# Хотим напечатать элементы\n",
    "for item in shoplist:\n",
    "    print(item)"
   ]
  },
  {
   "cell_type": "markdown",
   "metadata": {},
   "source": [
    "Можно изменять элементы списка в цикле."
   ]
  },
  {
   "cell_type": "code",
   "execution_count": null,
   "metadata": {},
   "outputs": [],
   "source": [
    "list1 = [1, 2, 3, 4, 5]\n",
    "\n",
    "i = 0\n",
    "for item in list1:\n",
    "    list1[i] = item + 2\n",
    "    i += 1\n",
    "\n",
    "print(list1)"
   ]
  },
  {
   "cell_type": "markdown",
   "metadata": {},
   "source": [
    "Можно делать проще: использовать встроенную функцию <b>range(x,y,step)</b>, которая задает последовательность чисел из диапазона от <b>x</b> до <b>y-1</b> с шагом <b>step</b>."
   ]
  },
  {
   "cell_type": "code",
   "execution_count": null,
   "metadata": {},
   "outputs": [],
   "source": [
    "for i in range(4):\n",
    "    print(shoplist[i])"
   ]
  },
  {
   "cell_type": "markdown",
   "metadata": {},
   "source": [
    "Что сделали: написали, что для каждого индекса до 4 не включая обращаемся по этому индексу в список shoplist и просим напечатать получившееся значение. Итого: обратились 4 раза и напечатали 4 раза."
   ]
  },
  {
   "cell_type": "markdown",
   "metadata": {},
   "source": [
    "Можно не задавать значение в range явно, а использовать <b>len()</b>, чтобы получать индексы для всех элементов списка."
   ]
  },
  {
   "cell_type": "code",
   "execution_count": null,
   "metadata": {},
   "outputs": [],
   "source": [
    "list1 = [2, 3, 4, 5, 6]"
   ]
  },
  {
   "cell_type": "code",
   "execution_count": null,
   "metadata": {},
   "outputs": [],
   "source": [
    "range(len(list1))"
   ]
  },
  {
   "cell_type": "code",
   "execution_count": null,
   "metadata": {},
   "outputs": [],
   "source": [
    "list(range(len(list1)))"
   ]
  },
  {
   "cell_type": "code",
   "execution_count": null,
   "metadata": {},
   "outputs": [],
   "source": [
    "for i in range(len(list1)):\n",
    "    # += замена конструкции list1[i] = list1[i] + 2\n",
    "    list1[i] += 2\n",
    "\n",
    "print(list1)"
   ]
  },
  {
   "cell_type": "code",
   "execution_count": null,
   "metadata": {},
   "outputs": [],
   "source": [
    "# Цикл от 1 до 10 не включая\n",
    "for x in range(1,10): \n",
    "    print(2**x)"
   ]
  },
  {
   "cell_type": "code",
   "execution_count": null,
   "metadata": {},
   "outputs": [],
   "source": [
    "# Цикл от 1 до 10 не включая с шагом 2\n",
    "for x in range(1,10,2): \n",
    "    print(2**x)"
   ]
  },
  {
   "cell_type": "markdown",
   "metadata": {},
   "source": [
    "### Задание: "
   ]
  },
  {
   "cell_type": "markdown",
   "metadata": {},
   "source": [
    "Создать список из 10 чисел и вывести в цикле на экран со 2-го по 6-ой элемент."
   ]
  },
  {
   "cell_type": "code",
   "execution_count": null,
   "metadata": {},
   "outputs": [],
   "source": [
    "# YOUR CODE"
   ]
  },
  {
   "cell_type": "markdown",
   "metadata": {},
   "source": [
    "Вывести на экран каждое число из списка увеличенное на 5."
   ]
  },
  {
   "cell_type": "code",
   "execution_count": null,
   "metadata": {},
   "outputs": [],
   "source": [
    "# YOUR CODE"
   ]
  },
  {
   "cell_type": "markdown",
   "metadata": {},
   "source": [
    "Создать список с числами и просуммировать все элементы."
   ]
  },
  {
   "cell_type": "code",
   "execution_count": null,
   "metadata": {},
   "outputs": [],
   "source": [
    "total_sum = 0\n",
    "\n",
    "# YOUR CODE"
   ]
  },
  {
   "cell_type": "markdown",
   "metadata": {},
   "source": [
    "---\n",
    "\n",
    "---"
   ]
  },
  {
   "cell_type": "markdown",
   "metadata": {},
   "source": [
    "Также можно итерироваться по словарю. For автоматически перебирает ключи. "
   ]
  },
  {
   "cell_type": "code",
   "execution_count": null,
   "metadata": {},
   "outputs": [],
   "source": [
    "a_dict = {\"one\":1, \"two\":2, \"three\":3}\n",
    " \n",
    "for key in a_dict:\n",
    "    print(key)"
   ]
  },
  {
   "cell_type": "markdown",
   "metadata": {},
   "source": [
    "А можно итерироваться по ключу и значению:"
   ]
  },
  {
   "cell_type": "code",
   "execution_count": null,
   "metadata": {},
   "outputs": [],
   "source": [
    "a_dict = {\"one\":1, \"two\":2, \"three\":3}\n",
    "\n",
    "for key, value in a_dict.items():\n",
    "    print(key, value)"
   ]
  },
  {
   "cell_type": "markdown",
   "metadata": {},
   "source": [
    "### Задание: "
   ]
  },
  {
   "cell_type": "markdown",
   "metadata": {},
   "source": [
    "Дан словарь. Вывести элементы (ключ, значение)."
   ]
  },
  {
   "cell_type": "code",
   "execution_count": null,
   "metadata": {},
   "outputs": [],
   "source": [
    "a_dict = {9: 'nine', 8: 'eight', 7: 'seven', 6: 'six', 5: 'five'}\n",
    "\n",
    "# YOUR CODE"
   ]
  },
  {
   "cell_type": "markdown",
   "metadata": {},
   "source": [
    "## List comprehension"
   ]
  },
  {
   "cell_type": "markdown",
   "metadata": {},
   "source": [
    "С помощью list comprehension удобно обрабатывать списки."
   ]
  },
  {
   "cell_type": "markdown",
   "metadata": {},
   "source": [
    "Запись в переменную res списка с помощью range и цикла for."
   ]
  },
  {
   "cell_type": "code",
   "execution_count": null,
   "metadata": {},
   "outputs": [],
   "source": [
    "res = [x for x in range(1, 15, 2)]\n",
    "print(res)"
   ]
  },
  {
   "cell_type": "code",
   "execution_count": null,
   "metadata": {},
   "outputs": [],
   "source": [
    "res = [x**2 for x in range(1, 15, 2)]\n",
    "print(res)"
   ]
  },
  {
   "cell_type": "markdown",
   "metadata": {},
   "source": [
    "Также можно добавлять условие: если оно выполняется, то значение используется в выходном списке."
   ]
  },
  {
   "cell_type": "code",
   "execution_count": null,
   "metadata": {},
   "outputs": [],
   "source": [
    "res = [x for x in range(1, 15, 2) if x % 3 != 0]\n",
    "print(res)"
   ]
  },
  {
   "cell_type": "markdown",
   "metadata": {},
   "source": [
    "---\n",
    "\n",
    "### Задание"
   ]
  },
  {
   "cell_type": "markdown",
   "metadata": {},
   "source": [
    "Создать список квадратов чисел, делящихся на 4, из интервала (2, 20)."
   ]
  },
  {
   "cell_type": "code",
   "execution_count": null,
   "metadata": {},
   "outputs": [],
   "source": [
    "# YOUR CODE"
   ]
  },
  {
   "cell_type": "markdown",
   "metadata": {},
   "source": [
    "---\n",
    "\n",
    "### Задание\n",
    "\n",
    "Еще немного про for."
   ]
  },
  {
   "cell_type": "markdown",
   "metadata": {},
   "source": [
    "Определелить список чисел с положительными и отрицательными числами. Найти сумму положительных, сумму отрицательных и количество отрицательных чисел."
   ]
  },
  {
   "cell_type": "code",
   "execution_count": null,
   "metadata": {},
   "outputs": [],
   "source": [
    "# YOUR CODE"
   ]
  },
  {
   "cell_type": "markdown",
   "metadata": {},
   "source": [
    "Определить список из 5 слов. Определить длину каждого слова и добавить каждое полученное значение в другой список.\n",
    "\n",
    "Например, список слов – ['yes', 'no', 'maybe', 'ok', 'what'], список длин – [3, 2, 5, 2, 4]. Оба списка должны выводиться на экран."
   ]
  },
  {
   "cell_type": "code",
   "execution_count": null,
   "metadata": {},
   "outputs": [],
   "source": [
    "# YOUR CODE"
   ]
  },
  {
   "cell_type": "markdown",
   "metadata": {},
   "source": [
    "---\n",
    "\n",
    "---\n",
    "\n",
    "#### Bonus task\n",
    "\n",
    "Вам дан словарь типичного программиста. На вход поступает строка с разделёнными пробелами словами (считывание и разделение строки на слова уже реализовано за вас).\n",
    "\n",
    "Необходимо вывести каждое слово на отдельной строке, переведя его, если возможно.\n",
    "\n",
    "*Спойлер: чтобы проверить, что в некотором объекте присутствует элемент, можно воспользоваться оператором `in` (пример -- ниже)*."
   ]
  },
  {
   "cell_type": "code",
   "execution_count": null,
   "metadata": {},
   "outputs": [],
   "source": [
    "geek_dict = {'bug': 'mistake',\n",
    "             'debug': 'find a mistake',\n",
    "             'neuralnet': 'some magic method',\n",
    "             'monty': 'python',\n",
    "             'jimmy': 'newbie'\n",
    "            }\n",
    "\n",
    "# оператор in позволяет узнать, есть ли слово в словаре\n",
    "some_word = 'circus'\n",
    "if some_word in geek_dict:\n",
    "    print(some_word + ' is in dict.')\n",
    "else:\n",
    "    print(some_word + ' is not in dict!')"
   ]
  },
  {
   "cell_type": "code",
   "execution_count": null,
   "metadata": {},
   "outputs": [],
   "source": [
    "# любая строка по вашему пожеланию\n",
    "s = 'monty code is full of bugs'\n",
    "# разбиение строки на слова, разделитель -- пробел\n",
    "words = s.split(' ')\n",
    "# смотрим на список слов\n",
    "words"
   ]
  },
  {
   "cell_type": "code",
   "execution_count": null,
   "metadata": {},
   "outputs": [],
   "source": [
    "# YOUR CODE\n",
    "\n",
    "# прохождение по списку слов (в цикле)\n",
    "\n",
    "    # проверка, существует ли слово в словаре\n",
    "\n",
    "    # print перевод слова или само слово\n"
   ]
  }
 ],
 "metadata": {
  "anaconda-cloud": {},
  "kernelspec": {
   "display_name": "Python 3",
   "language": "python",
   "name": "python3"
  },
  "language_info": {
   "codemirror_mode": {
    "name": "ipython",
    "version": 3
   },
   "file_extension": ".py",
   "mimetype": "text/x-python",
   "name": "python",
   "nbconvert_exporter": "python",
   "pygments_lexer": "ipython3",
   "version": "3.7.3"
  }
 },
 "nbformat": 4,
 "nbformat_minor": 1
}
