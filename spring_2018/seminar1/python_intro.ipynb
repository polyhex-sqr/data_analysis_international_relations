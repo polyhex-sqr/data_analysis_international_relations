{
 "cells": [
  {
   "cell_type": "markdown",
   "metadata": {},
   "source": [
    "## 0. А что мы сейчас открыли?\n",
    "Jupyter Notebook - интерактивная среда для запуска программного кода в браузере. Удобный инструмент для анализа данных, который используется многими специалистами по data science."
   ]
  },
  {
   "cell_type": "markdown",
   "metadata": {},
   "source": [
    "![](https://media.giphy.com/media/5Zesu5VPNGJlm/giphy.gif)"
   ]
  },
  {
   "cell_type": "markdown",
   "metadata": {},
   "source": [
    "#### Краткая инструкция на все случаи жизни:\n",
    "- Как создать новую ячейку?\n",
    "> Просто `нажать кнопку +`.\n",
    "\n",
    "- Как запустить код в ячейке?\n",
    "\n",
    "> Выделить ячейку и `нажать кнопку Run` или `Ctrl + Enter` *(см. Help - Keyboard Shortcuts)*.\n",
    "\n",
    "- Как понять, что код успешно выполнен?\n",
    "\n",
    "> Под ячейкой не появились сообщения об ошибках + поле `In []` слева от ячейки содержит число, а не символ `*`.\n",
    "\n",
    "\n",
    "*В некоторых ячейках вам придётся дописать свой код и выполнить его.*"
   ]
  },
  {
   "cell_type": "markdown",
   "metadata": {},
   "source": [
    "## 1. Python?"
   ]
  },
  {
   "cell_type": "markdown",
   "metadata": {},
   "source": [
    "Python - это свободный интерпретируемый объектно-ориентированный расширяемый встраиваемый язык программирования очень высокого уровня (Г.Россум, Ф.Л.Дж.Дрейк, Д.С.Откидач \"Язык программирования Python\")."
   ]
  },
  {
   "cell_type": "markdown",
   "metadata": {},
   "source": [
    "## 2. Anaconda?"
   ]
  },
  {
   "cell_type": "markdown",
   "metadata": {},
   "source": [
    "![](https://2.bp.blogspot.com/-lOwzj1e6RpU/Wf1Kx1Ovl5I/AAAAAAAAAJY/esSu_peLFHEfxXmlnSVgTZoOHLFR2GHFgCLcBGAs/s1600/Capture2.PNG)"
   ]
  },
  {
   "cell_type": "markdown",
   "metadata": {},
   "source": [
    "Сборка Anaconda включает очень много полезных библиотек для анализа данных. \n",
    "\n",
    "Среди наиболее популярных библиотек:\n",
    " - <a href=\"http://numpy.org\">Numpy</a> - это один из основных пакетов для научных вычислений. Он содержит функциональные средства для работы с многомерными массивами и высокоуровневыми математическими функциями.\n",
    " - <a href=\"http://numpy.org\">SciPy</a> - научные вычисления. Методы оптимизации, интегрирования, модули обработки сигналов и изображений, статистика, линейная алгебра, сплайны, кластеризация и многое другое. \n",
    " -  <a href=\"http://pandas.pydata.org/\">Pandas</a> - библиотека для обработки и анализа данных. Мы будем использовать её для быстрой и удобной работы с таблицами данных.\n",
    " - <a href=\"http://scikit-learn.org/stable/\">Scikit-learn</a> - реализация очень многих методов машинного обучения и интеллекуального анализа данных (data mining) с отличной документацией. \n",
    " - <a href=\"http://http://matplotlib.org/\">matplotlib</a> - библиотека для визуализации данных, позволяет рисовать красивые картинки и смеяться над графиками Excel."
   ]
  },
  {
   "cell_type": "markdown",
   "metadata": {},
   "source": [
    "### Итак, начнем!"
   ]
  },
  {
   "cell_type": "markdown",
   "metadata": {},
   "source": [
    "![](https://toidicodedao.files.wordpress.com/2015/06/keep-calm-and-code-on-821.png?w=536&h=335)"
   ]
  },
  {
   "cell_type": "markdown",
   "metadata": {},
   "source": [
    "Интерпретатор (aka программа, выполняющая ваш код) можно использовать в качестве калькулятора:"
   ]
  },
  {
   "cell_type": "code",
   "execution_count": null,
   "metadata": {},
   "outputs": [],
   "source": [
    "2 + 2"
   ]
  },
  {
   "cell_type": "code",
   "execution_count": null,
   "metadata": {
    "scrolled": true
   },
   "outputs": [],
   "source": [
    "14 / 3"
   ]
  },
  {
   "cell_type": "markdown",
   "metadata": {},
   "source": [
    "Возведение в степень:"
   ]
  },
  {
   "cell_type": "code",
   "execution_count": null,
   "metadata": {},
   "outputs": [],
   "source": [
    "3 ** 2"
   ]
  },
  {
   "cell_type": "markdown",
   "metadata": {},
   "source": [
    "Взятие корня aka возведение в дробную степень:"
   ]
  },
  {
   "cell_type": "code",
   "execution_count": null,
   "metadata": {},
   "outputs": [],
   "source": [
    "9 ** (1 / 2)"
   ]
  },
  {
   "cell_type": "markdown",
   "metadata": {},
   "source": [
    "Целочисленное деление:"
   ]
  },
  {
   "cell_type": "code",
   "execution_count": null,
   "metadata": {},
   "outputs": [],
   "source": [
    "14 // 3"
   ]
  },
  {
   "cell_type": "markdown",
   "metadata": {},
   "source": [
    "Взятие остатка от деления:"
   ]
  },
  {
   "cell_type": "code",
   "execution_count": null,
   "metadata": {},
   "outputs": [],
   "source": [
    "14 % 3"
   ]
  },
  {
   "cell_type": "markdown",
   "metadata": {},
   "source": [
    "Можно выводить текст:"
   ]
  },
  {
   "cell_type": "code",
   "execution_count": null,
   "metadata": {},
   "outputs": [],
   "source": [
    "print('Привет всем!')"
   ]
  },
  {
   "cell_type": "markdown",
   "metadata": {},
   "source": [
    "И не только текст:"
   ]
  },
  {
   "cell_type": "code",
   "execution_count": null,
   "metadata": {},
   "outputs": [],
   "source": [
    "print(2 + 2)\n",
    "print(3 ** 3)"
   ]
  },
  {
   "cell_type": "markdown",
   "metadata": {},
   "source": [
    "Можно выводить сразу несколько объектов:"
   ]
  },
  {
   "cell_type": "code",
   "execution_count": null,
   "metadata": {},
   "outputs": [],
   "source": [
    "print(\"Умножение двух чисел\", 3 ** 3, 2 + 2, \"\\n - символ перевода строки \\n\")"
   ]
  },
  {
   "cell_type": "code",
   "execution_count": null,
   "metadata": {},
   "outputs": [],
   "source": [
    "# текст, написанный за знаком # не воспринимается как код и не выполняется"
   ]
  },
  {
   "cell_type": "markdown",
   "metadata": {},
   "source": [
    "Помимо встроенных в Python функций можно пользоваться дополнительными сборниками функций -- библиотеками.\n",
    "- Чтобы подключить библиотеку, пишем `import <имя библиотеки>`.\n",
    "- Чтобы вызвать функцию из библиотеки, пишем `<имя библиотеки>.<имя функции>(<параметры функции>)`.\n",
    "\n",
    "Например:"
   ]
  },
  {
   "cell_type": "code",
   "execution_count": null,
   "metadata": {},
   "outputs": [],
   "source": [
    "import math\n",
    "\n",
    "print(math.sqrt(153))"
   ]
  },
  {
   "cell_type": "markdown",
   "metadata": {},
   "source": [
    "---\n",
    "\n",
    "---\n",
    "\n",
    "Пришло время писать код. Выведите значение следующего выражения:\n",
    "\n",
    "$$\n",
    "  \\sqrt{0.03 + \\log(6) \\div 3 \\cdot 5 - cos\\left(\\frac{\\pi}{3}\\right)}\n",
    "$$\n",
    "\n",
    "Помните, что приоритет арифметических операций в Python совпадает с приоритетом операций в математике.\n",
    "\n",
    "*Спойлер: все необходимые функции можно найти в уже подключенной библиотеке `math`.*"
   ]
  },
  {
   "cell_type": "code",
   "execution_count": null,
   "metadata": {},
   "outputs": [],
   "source": [
    "# YOUR CODE"
   ]
  },
  {
   "cell_type": "markdown",
   "metadata": {},
   "source": [
    "## 3. Переменные и типы данных"
   ]
  },
  {
   "cell_type": "markdown",
   "metadata": {},
   "source": [
    "Можно задавать любые переменные. Переменная - это объект, которому дано имя. Число, строка, массив... практически что угодно."
   ]
  },
  {
   "cell_type": "code",
   "execution_count": null,
   "metadata": {},
   "outputs": [],
   "source": [
    "# определение переменной с именем number_1 и значением 4\n",
    "number_1 = 4\n",
    "number_2 = 10\n",
    "\n",
    "result = number_1 * number_2\n",
    "print(result)"
   ]
  },
  {
   "cell_type": "code",
   "execution_count": null,
   "metadata": {},
   "outputs": [],
   "source": [
    "print(number_1)\n",
    "\n",
    "# переопределение значения переменной number_1\n",
    "number_1 = number1 - 2\n",
    "print(number_1)"
   ]
  },
  {
   "cell_type": "markdown",
   "metadata": {},
   "source": [
    "### Какие есть часто используемые встроенные типы данных?\n",
    "\n",
    "В Python есть обычные *числа*.\n",
    "\n",
    "Можно:\n",
    "- производить любые арифметические операции (см. выше)"
   ]
  },
  {
   "cell_type": "code",
   "execution_count": null,
   "metadata": {},
   "outputs": [],
   "source": [
    "number = 123\n",
    "float_number = 0.123\n",
    "print('number:', number)\n",
    "print('float number:', float_number)"
   ]
  },
  {
   "cell_type": "markdown",
   "metadata": {},
   "source": [
    "*Строки* заключаются в двойные `\" \"` или одинарные `' '` кавычки, разницы нет.\n",
    "\n",
    "Можно\n",
    "- складывать\n",
    "- умножать\n",
    "- см. встроенные методы класса `str`"
   ]
  },
  {
   "cell_type": "code",
   "execution_count": null,
   "metadata": {},
   "outputs": [],
   "source": [
    "string1 = 'how'\n",
    "print('string1:', string1)\n",
    "print('string1 * 2:', string1 * 2)\n",
    "\n",
    "string2 = \" are you\"\n",
    "string = 'hello, ' + string1 + string2 + str(number)\n",
    "print()\n",
    "print(string)"
   ]
  },
  {
   "cell_type": "code",
   "execution_count": null,
   "metadata": {},
   "outputs": [],
   "source": [
    "# один из быстрых способов прочитать, что делает метод\n",
    "?string1.upper\n",
    "\n",
    "print('upper string:', string1.upper())"
   ]
  },
  {
   "cell_type": "markdown",
   "metadata": {},
   "source": [
    "*Список* можно создать, заключив его элементы в квадратные скобки `[]`.\n",
    "\n",
    "Можно:\n",
    "- складывать\n",
    "- умножать\n",
    "- обращаться к элементу по индексу **(нумерация с элементов списка начинается с $0$)**\n",
    "- обращаться сразу к нескольким элементам (slice)\n",
    "- присваивать значение по индексу\n",
    "- добавлять значения в конец списка (см. встроенные методы класса `list`)"
   ]
  },
  {
   "cell_type": "code",
   "execution_count": null,
   "metadata": {},
   "outputs": [],
   "source": [
    "list1 = ['la']\n",
    "print('list1:' , list1)\n",
    "list12 = list1 * 3\n",
    "print('list1 * 3:', list12)\n",
    "\n",
    "list2 = [2, 3] + list12\n",
    "print('\\nlist2:', list2)\n",
    "print('list2[2]:', list2[2])\n",
    "print('длина list2:', len(list2))"
   ]
  },
  {
   "cell_type": "code",
   "execution_count": null,
   "metadata": {},
   "outputs": [],
   "source": [
    "list1.append(list2)\n",
    "print('\\nlist1.append(list2):', list1)"
   ]
  },
  {
   "cell_type": "markdown",
   "metadata": {},
   "source": [
    "Конструкция `list[i1:i2]` позволяет получить доступ ко всем элементам с `i1`-го по `i2 - 1`-ый включительно:"
   ]
  },
  {
   "cell_type": "code",
   "execution_count": null,
   "metadata": {},
   "outputs": [],
   "source": [
    "print('list2[0:4]:', list2[0:4])"
   ]
  },
  {
   "cell_type": "markdown",
   "metadata": {},
   "source": [
    "*Словарь* можно создать, заключив его элементы (пары `ключ:значение`) в фигурные скобки `{}`.\n",
    "\n",
    "Можно:\n",
    "- добавлять новые элементы\n",
    "- арифметические операции не поддерживаются"
   ]
  },
  {
   "cell_type": "code",
   "execution_count": null,
   "metadata": {},
   "outputs": [],
   "source": [
    "dict1 = {'human': 'человек', 'кошка': 'cat', 'дерево': 'tree'}\n",
    "dict2 = {'one': 1, 'two': 2, 'five': 5, 'six': 6, 'eight': 8, 'nine': 9}\n",
    "\n",
    "print('dict1 keys:', dict1.keys())\n",
    "\n",
    "# добавление элемента 80 в словарь по ключу 'eighty'\n",
    "dict2['eighty'] = 80\n",
    "print('added element to dict2:', dict2)"
   ]
  },
  {
   "cell_type": "markdown",
   "metadata": {},
   "source": [
    "---\n",
    "\n",
    "---\n",
    "\n",
    "Для усвоения напишем ещё немного кода.\n",
    "\n",
    "Вам даны строки с частями пингвина. Необходимо вывести пингвина с помощью функции `print`."
   ]
  },
  {
   "cell_type": "code",
   "execution_count": null,
   "metadata": {},
   "outputs": [],
   "source": [
    "hoholok = \"   _~_    \"\n",
    "glazki  = \"  (o o)   \"\n",
    "kluvik  = \" /  V  \\\\  \"\n",
    "puziko  = \"/(  _  )\\\\ \"\n",
    "lapki   = \"  ^^ ^^   \""
   ]
  },
  {
   "cell_type": "code",
   "execution_count": null,
   "metadata": {},
   "outputs": [],
   "source": [
    "# YOUR CODE"
   ]
  },
  {
   "cell_type": "markdown",
   "metadata": {},
   "source": [
    "Усложним задачу.\n",
    "\n",
    "Пусть определено число `n`. Выведите `n` пингвинов."
   ]
  },
  {
   "cell_type": "code",
   "execution_count": null,
   "metadata": {},
   "outputs": [],
   "source": [
    "# любимое число пингвинов\n",
    "n = 3"
   ]
  },
  {
   "cell_type": "code",
   "execution_count": null,
   "metadata": {},
   "outputs": [],
   "source": [
    "# YOUR CODE\n",
    "\n",
    "# составить новые строки,\n",
    "# содержащие столько хохолков / глазок / лапок / ...,\n",
    "# сколько требуется\n",
    "\n",
    "# print новые строки"
   ]
  },
  {
   "cell_type": "markdown",
   "metadata": {},
   "source": [
    "## 4. Условия"
   ]
  },
  {
   "cell_type": "markdown",
   "metadata": {},
   "source": [
    "![](http://krivaksin.ru/wp-content/uploads/2015/11/2015-11-11-11-51-19-Microsoft-PowerPoint-Prezentatsiya1.png)"
   ]
  },
  {
   "cell_type": "code",
   "execution_count": null,
   "metadata": {},
   "outputs": [],
   "source": [
    "# при выполнении этой строки появится строка для ввода числа с клавиатуры\n",
    "a = int(input(\"Insert a number: \"))\n",
    "\n",
    "print('\\nis it an odd number?')\n",
    "if not a % 2 == 0:\n",
    "    # не забывайте про отступ!\n",
    "    # выполнится только при выполнении условия\n",
    "    print(\"YES\")\n",
    "else:\n",
    "    # выполнится только при невыполнении условия\n",
    "    print(\"NO\")\n",
    "# выполнится в любом случае\n",
    "print(\"that's it\")"
   ]
  },
  {
   "cell_type": "markdown",
   "metadata": {},
   "source": [
    "## 5. Циклы: while и for"
   ]
  },
  {
   "cell_type": "markdown",
   "metadata": {},
   "source": [
    "Циклы используются в тех случаях, когда нам нужно сделать что-нибудь много раз.\n",
    " \n",
    "Цикл `for` - нужно повторить что-нибудь n-ное количество раз.\n",
    "\n",
    "Цикл `while` - нужно повторить что-нибудь, пока не будет выполнено определенное условие."
   ]
  },
  {
   "cell_type": "code",
   "execution_count": null,
   "metadata": {},
   "outputs": [],
   "source": [
    "# У нас есть список покупок:\n",
    "shoplist = ['apple', 'cola', 'milk', 'bread', 'towel']"
   ]
  },
  {
   "cell_type": "code",
   "execution_count": null,
   "metadata": {},
   "outputs": [],
   "source": [
    "# переменная item последовательно принимает значения элементов списка\n",
    "for item in shoplist:\n",
    "    print(item)"
   ]
  },
  {
   "cell_type": "markdown",
   "metadata": {},
   "source": [
    "### Турникет в метро и цикл while"
   ]
  },
  {
   "cell_type": "markdown",
   "metadata": {},
   "source": [
    "![](http://mtdata.ru/u14/photo8EA0/20076702186-0/original.jpg)"
   ]
  },
  {
   "cell_type": "code",
   "execution_count": null,
   "metadata": {},
   "outputs": [],
   "source": [
    "# Покупаем билет на метро с 10 поездками\n",
    "number_of_trips = 10 \n",
    "\n",
    "# Пользуемся им, пока не закончится\n",
    "while number_of_trips > 0:\n",
    "    number_of_trips = number_of_trips - 1\n",
    "    print(number_of_trips, 'Проходим!')"
   ]
  },
  {
   "cell_type": "markdown",
   "metadata": {},
   "source": [
    "---\n",
    "\n",
    "---\n",
    "\n",
    "#### Bonus task\n",
    "\n",
    "Вам дан словарь типичного программиста. На вход поступает строка с разделёнными пробелами словами (считывание и разделение строки на слова уже реализовано за вас).\n",
    "\n",
    "Необходимо вывести каждое слово на отдельной строке, переведя его, если возможно.\n",
    "\n",
    "*Спойлер: чтобы проверить, что в некотором объекте присутствует элемент, можно воспользоваться оператором `in` (пример -- ниже)*."
   ]
  },
  {
   "cell_type": "code",
   "execution_count": null,
   "metadata": {},
   "outputs": [],
   "source": [
    "geek_dict = {'bug': 'mistake',\n",
    "             'debug': 'find a mistake',\n",
    "             'neuralnet': 'some magic method',\n",
    "             'monty': 'python',\n",
    "             'jimmy': 'newbie'\n",
    "            }\n",
    "\n",
    "# оператор in позволяет узнать, есть ли слово в словаре\n",
    "some_word = 'circus'\n",
    "if some_word in geek_dict:\n",
    "    print(some_word + ' is in dict.')\n",
    "else:\n",
    "    print(some_word + ' is not in dict!')"
   ]
  },
  {
   "cell_type": "code",
   "execution_count": null,
   "metadata": {},
   "outputs": [],
   "source": [
    "# любая строка по вашему пожеланию\n",
    "s = 'monty code is full of bugs'\n",
    "# разбиение строки на слова, разделитель -- пробел\n",
    "words = s.split(' ')\n",
    "# смотрим на список слов\n",
    "words"
   ]
  },
  {
   "cell_type": "code",
   "execution_count": null,
   "metadata": {},
   "outputs": [],
   "source": [
    "# YOUR CODE\n",
    "\n",
    "# прохождение по списку слов (в цикле)\n",
    "\n",
    "    # проверка, существует ли слово в словаре\n",
    "\n",
    "    # print перевод слова или само слово\n"
   ]
  },
  {
   "cell_type": "markdown",
   "metadata": {},
   "source": [
    "## 6. Библиотеки и их применение\n",
    "\n",
    "Как уже говорилось, при работе с Python можно подключать установленные библиотеки.\n",
    "\n",
    "Допустим, мы хотим подключить библиотеку `math`. Вместо конструкции `import math` можно использовать `import math as M`.\n",
    "\n",
    "Тогда дальнейший вызов функций этой библиотеки будет осуществляться через `M.sqrt()` вместо `math.sqrt()`. Такая возможность бывает удобна, если вам лень каждый раз при вызове функций писать полное название библиотеки.\n",
    "\n",
    "Рассмотрим поближе библиотеки `pandas` и `numpy`.\n",
    "\n",
    "### Знакомство с NumPy\n",
    "Библиотека NumPy -- быстрая библиотека для математики в Python, основная структура данных -- массив `numpy.array`:"
   ]
  },
  {
   "cell_type": "code",
   "execution_count": null,
   "metadata": {},
   "outputs": [],
   "source": [
    "# подключение модуля numpy под именем np\n",
    "import numpy as np"
   ]
  },
  {
   "cell_type": "code",
   "execution_count": null,
   "metadata": {},
   "outputs": [],
   "source": [
    "# основная структура данных - массив\n",
    "a = np.array([1, 2, 3, 4, 5])\n",
    "b = np.array([0.1, 0.2, 0.3, 0.4, 0.5])\n",
    "\n",
    "print(\"a =\", a)\n",
    "print(\"b =\", b)"
   ]
  },
  {
   "cell_type": "markdown",
   "metadata": {},
   "source": [
    "Арифметические операции, в отличие от операций над списками, применяются поэлементно:"
   ]
  },
  {
   "cell_type": "code",
   "execution_count": null,
   "metadata": {},
   "outputs": [],
   "source": [
    "list1 = [1, 2, 3]\n",
    "array1 = np.array([1, 2, 3])\n",
    "\n",
    "print(\"list1:\", list1)\n",
    "print('\\tlist1 * 3:', list1 * 3)\n",
    "print('\\tlist1 + [1]:', list1 + [1])\n",
    "\n",
    "print('array1:', array1)\n",
    "print('\\tarray1 * 3:', array1 * 3)\n",
    "print('\\tarray1 + 1:', array1 + 1)"
   ]
  },
  {
   "cell_type": "markdown",
   "metadata": {},
   "source": [
    "Если в операции участвуют $2$ массива (по умолчанию -- одинакового размера), операции считаются для соответствующих пар:"
   ]
  },
  {
   "cell_type": "code",
   "execution_count": null,
   "metadata": {},
   "outputs": [],
   "source": [
    "print(\"a + b =\", a + b)\n",
    "print(\"a * b =\", a * b)"
   ]
  },
  {
   "cell_type": "markdown",
   "metadata": {},
   "source": [
    "#### *Л — логика*\n",
    "К элементам массива можно применять логические операции.\n",
    "\n",
    "Возвращаемое значение -- массив, содержащий результаты вычислений для каждого элемента (`True` -- \"да\" или `False` -- \"нет\"):"
   ]
  },
  {
   "cell_type": "code",
   "execution_count": null,
   "metadata": {},
   "outputs": [],
   "source": [
    "print(\"a =\", a)\n",
    "print(\"\\ta > 1: \", a > 1)\n",
    "print(\"\\nb =\", b)\n",
    "print(\"\\tb < 0.5:  \", b < 0.5)\n",
    "\n",
    "print(\"\\nОдновременная проверка условий:\")\n",
    "print(\"\\t(a > 1) & (b < 0.5):  \", (a > 1) & (b < 0.5))"
   ]
  },
  {
   "cell_type": "markdown",
   "metadata": {},
   "source": [
    "Зачем это нужно? Чтобы выбирать элементы массива, удовлетворяющие какому-нибудь условию:"
   ]
  },
  {
   "cell_type": "code",
   "execution_count": null,
   "metadata": {},
   "outputs": [],
   "source": [
    "print(\"a =\", a)\n",
    "print(\"a > 2:\", a > 2)\n",
    "# индексация - выбираем элементы из массива в тех позициях, где True\n",
    "print(\"a[a > 2]:\", a[a > 2])"
   ]
  },
  {
   "cell_type": "markdown",
   "metadata": {},
   "source": [
    "#### А ещё NumPy умеет...\n",
    "\n",
    "Все операции NumPy оптимизированы для быстрых вычислений над целыми массивами чисел и в методах `np.array` реализовано множество функций, которые могут вам понадобиться:"
   ]
  },
  {
   "cell_type": "code",
   "execution_count": null,
   "metadata": {},
   "outputs": [],
   "source": [
    "# теперь можно считать средний размер котиков в одну строку!\n",
    "print(\"np.mean(a) =\", np.mean(a))\n",
    "# минимальный элемент\n",
    "print(\"np.min(a) =\", np.min(a))\n",
    "# индекс минимального элемента\n",
    "print(\"np.argmin(a) =\", np.argmin(a))\n",
    "# вывести значения массива без дубликатов\n",
    "print(\"np.unique(['male', 'male', 'female', 'female', 'male']) =\", np.unique(['male', 'male', 'female', 'female', 'male']))\n",
    "\n",
    "# и ещё много всяких методов\n",
    "# Google в помощь"
   ]
  },
  {
   "cell_type": "markdown",
   "metadata": {},
   "source": [
    "---\n",
    "\n",
    "---\n",
    "\n",
    "Пора немного потренироваться с NumPy.\n",
    "\n",
    "Выполните операции, перечисленные ниже:"
   ]
  },
  {
   "cell_type": "code",
   "execution_count": null,
   "metadata": {},
   "outputs": [],
   "source": [
    "print(\"Разность между a и b:\", # YOUR CODE\n",
    "     )\n",
    "print(\"Квадраты элементов b:\", # YOUR CODE\n",
    "     )\n",
    "print(\"Половины произведений элементов массивов a и b:\", # YOUR CODE\n",
    "     )\n",
    "\n",
    "print()\n",
    "print(\"Максимальный элемент b:\", # YOUR CODE\n",
    "     )\n",
    "print(\"Сумма элементов массива b:\", # YOUR CODE\n",
    "     )"
   ]
  },
  {
   "cell_type": "markdown",
   "metadata": {},
   "source": [
    "### Графики и matplotlib"
   ]
  },
  {
   "cell_type": "code",
   "execution_count": null,
   "metadata": {},
   "outputs": [],
   "source": [
    "# подключение библиотеки matplotlib.pyplot под именем plt\n",
    "import matplotlib.pyplot as plt\n",
    "# чтобы графики рисовались прямо в ячейке, а не в отдельном окне\n",
    "%matplotlib inline"
   ]
  },
  {
   "cell_type": "code",
   "execution_count": null,
   "metadata": {},
   "outputs": [],
   "source": [
    "# линии\n",
    "plt.plot([0, 1, 2, 3, 4, 5], [0, 1, 4, 9, 16, 25])\n",
    "# после этой функции всё уже построенное отрисуется и начнётся новый график\n",
    "plt.show()\n",
    "# точки\n",
    "plt.scatter([0, 1, 2, 3, 4, 5], [0, 1, 4, 9, 16, 25])"
   ]
  },
  {
   "cell_type": "code",
   "execution_count": null,
   "metadata": {},
   "outputs": [],
   "source": [
    "# если не писать plt.show() между графиками, они накладываются\n",
    "plt.scatter([1, 1, 2, 3], [3, 2, 2, 1])\n",
    "plt.scatter([0, 1, 2, 3, 4, 5], [0, 1, 4, 9, 16, 25])\n",
    "\n",
    "x = np.array([0, 1, 2, 3, 4, 5])\n",
    "y = x ** 2\n",
    "print('y:', y)\n",
    "plt.plot(x, y, c='blue')"
   ]
  },
  {
   "cell_type": "markdown",
   "metadata": {},
   "source": [
    "---\n",
    "\n",
    "---\n",
    "\n",
    "Напишите код, который рисует типичные школьные графики:\n",
    "$$\n",
    "  y_1(x) = x \\\\\n",
    "  y_2(x) = x ^ 2 \\\\\n",
    "$$\n"
   ]
  },
  {
   "cell_type": "code",
   "execution_count": null,
   "metadata": {},
   "outputs": [],
   "source": [
    "# инициализация точек, в которых будут вычисляться значения функций\n",
    "x = np.around(np.arange(-1.5, 1.6, 0.1), 2)\n",
    "x"
   ]
  },
  {
   "cell_type": "code",
   "execution_count": null,
   "metadata": {},
   "outputs": [],
   "source": [
    "# вычисление значений функций\n",
    "y1 = # YOUR CODE\n",
    "y2 = # YOUR CODE\n",
    "\n",
    "# построение графиков для y1 и y2\n",
    "# YOUR CODE"
   ]
  },
  {
   "cell_type": "markdown",
   "metadata": {},
   "source": [
    "#### Bonus task\n",
    "\n",
    "Выделите на построенном графике точками решения уравнения $y_1(x) = y_2(x)$:\n",
    "$$\n",
    "  x = x ^ 2\n",
    "$$"
   ]
  },
  {
   "cell_type": "code",
   "execution_count": null,
   "metadata": {},
   "outputs": [],
   "source": [
    "# нахождение точки пересечения\n",
    "# intersection x0 is s.t. y1(x0) = y2(x0)\n",
    "intersection_x = # YOUR CODE\n",
    "intersection_y = # YOUR CODE\n",
    "\n",
    "# выделение точек пересечения на графике\n",
    "# YOUR CODE"
   ]
  },
  {
   "cell_type": "markdown",
   "metadata": {},
   "source": [
    "### Pandas\n",
    "![](https://filearmy.s3.amazonaws.com/2017/03/03/25b10be.jpg)\n",
    "\n",
    "Pandas предназначена для работы с данными и хранит их в виде таблицы с именованными колонками и пронумерованными строками. Создать свою таблицу можно, например, с помощью словаря:"
   ]
  },
  {
   "cell_type": "code",
   "execution_count": null,
   "metadata": {},
   "outputs": [],
   "source": [
    "import pandas as pd"
   ]
  },
  {
   "cell_type": "code",
   "execution_count": null,
   "metadata": {},
   "outputs": [],
   "source": [
    "weather = pd.DataFrame({\n",
    "    'City': ['MSK', 'SPB', 'NN', 'SPB'],\n",
    "    'Temperature': [-3, +2, -3, +2],\n",
    "    'State': ['Cloudy', 'Clear', 'Snow', 'Clear'],\n",
    "    'Date':[pd.datetime(2017, 1, 16), pd.datetime(2017, 1, 13), pd.datetime(2017, 3, 13), pd.datetime(2017, 1, 1)]\n",
    "})\n",
    "weather"
   ]
  },
  {
   "cell_type": "markdown",
   "metadata": {},
   "source": [
    "#### Чтение данных из файлов\n",
    "В Pandas можно легко и удобно считывать таблицы (форматы .csv, .tsv, ...).\n",
    "\n",
    "Считаем данные с информацией об образовании, семейном положении, возрасте и условиях работы людей, а также зарплате (колонка `target` содержит информацию, превышает ли зарплата $50К$):"
   ]
  },
  {
   "cell_type": "code",
   "execution_count": null,
   "metadata": {},
   "outputs": [],
   "source": [
    "data = pd.read_csv('salaries.csv', header=0)\n",
    "data.info()"
   ]
  },
  {
   "cell_type": "markdown",
   "metadata": {},
   "source": [
    "Более подробное описание датасета можно найти [тут](https://archive.ics.uci.edu/ml/datasets/adult)."
   ]
  },
  {
   "cell_type": "code",
   "execution_count": null,
   "metadata": {},
   "outputs": [],
   "source": [
    "# выводим первые строки таблицы\n",
    "data.head(3)"
   ]
  },
  {
   "cell_type": "markdown",
   "metadata": {},
   "source": [
    "Обращаться к колонке можно двумя способами:"
   ]
  },
  {
   "cell_type": "code",
   "execution_count": null,
   "metadata": {},
   "outputs": [],
   "source": [
    "data['age']"
   ]
  },
  {
   "cell_type": "code",
   "execution_count": null,
   "metadata": {},
   "outputs": [],
   "source": [
    "data.age"
   ]
  },
  {
   "cell_type": "markdown",
   "metadata": {},
   "source": [
    "Вывести строки с заданным значением в столбце можно так:"
   ]
  },
  {
   "cell_type": "code",
   "execution_count": null,
   "metadata": {},
   "outputs": [],
   "source": [
    "# вывод строк с информацией о лицах мужского пола\n",
    "data[data.sex == 'Male']"
   ]
  },
  {
   "cell_type": "code",
   "execution_count": null,
   "metadata": {},
   "outputs": [],
   "source": [
    "# вывод строк с информацией о лицах мужского пола И не достигших 18 лет\n",
    "data[(data.sex == 'Male') & (data.age < 18)]"
   ]
  },
  {
   "cell_type": "markdown",
   "metadata": {},
   "source": [
    "При сборе данных неизбежно возникают *пропущенные значения* и в таблице появляются поля с NaN.\n",
    "\n",
    "Воспользуемся методом Pandas `isnull`, который обнаружит все пропущенные значения в таблице, и выведем количество таких значений по столбцам:"
   ]
  },
  {
   "cell_type": "code",
   "execution_count": null,
   "metadata": {},
   "outputs": [],
   "source": [
    "data.isnull().sum()"
   ]
  },
  {
   "cell_type": "markdown",
   "metadata": {},
   "source": [
    "С NaN бывает крайне неудобно работать, но в данном случае достаточно заменить их на что-то нейтральное. Для этого заполним их самыми частыми значениями:"
   ]
  },
  {
   "cell_type": "code",
   "execution_count": null,
   "metadata": {
    "scrolled": true
   },
   "outputs": [],
   "source": [
    "print(data['workclass'].value_counts(sort=True))\n",
    "data['workclass'].fillna('Private',inplace=True)"
   ]
  },
  {
   "cell_type": "code",
   "execution_count": null,
   "metadata": {},
   "outputs": [],
   "source": [
    "print(data['occupation'].value_counts(sort=True))\n",
    "data['occupation'].fillna('Prof-specialty',inplace=True)"
   ]
  },
  {
   "cell_type": "code",
   "execution_count": null,
   "metadata": {
    "scrolled": true
   },
   "outputs": [],
   "source": [
    "print(data['native_country'].value_counts(sort=True))\n",
    "data['native_country'].fillna('United-States', inplace=True)"
   ]
  },
  {
   "cell_type": "markdown",
   "metadata": {},
   "source": [
    "Проверим, что все NaN заменились на какие-то значения:"
   ]
  },
  {
   "cell_type": "code",
   "execution_count": null,
   "metadata": {},
   "outputs": [],
   "source": [
    "data.isnull().sum()"
   ]
  },
  {
   "cell_type": "markdown",
   "metadata": {},
   "source": [
    "Теперь можно выводить различные статистики и не бояться ошибок при подсчётах.\n",
    "\n",
    "Например, минимальный, средний и максимальный возраст:"
   ]
  },
  {
   "cell_type": "code",
   "execution_count": null,
   "metadata": {},
   "outputs": [],
   "source": [
    "data.age.min(), data.age.mean(), data.age.max()"
   ]
  },
  {
   "cell_type": "markdown",
   "metadata": {},
   "source": [
    "Также, можно выводить целые наборы статистик по необходимым полям таблицы:"
   ]
  },
  {
   "cell_type": "code",
   "execution_count": null,
   "metadata": {},
   "outputs": [],
   "source": [
    "data[['age', 'hours_per_week']].describe(include=['int'])"
   ]
  },
  {
   "cell_type": "code",
   "execution_count": null,
   "metadata": {},
   "outputs": [],
   "source": [
    "data[['occupation', 'marital_status', 'education', 'sex']].describe(include=['object'])"
   ]
  },
  {
   "cell_type": "markdown",
   "metadata": {},
   "source": [
    "### Немного анализа данных\n",
    "\n",
    "![](https://media.giphy.com/media/J14dxhoJLWlI4/giphy.gif)\n",
    "\n",
    "Посмотрим, какой процент людей имеет зарплату $\\leqslant 50K$:"
   ]
  },
  {
   "cell_type": "code",
   "execution_count": null,
   "metadata": {},
   "outputs": [],
   "source": [
    "data.target.value_counts() / len(data) * 100"
   ]
  },
  {
   "cell_type": "markdown",
   "metadata": {},
   "source": [
    "Т.е. если бы мы хотели предсказать зарплату на данном датасете, можно было бы угадывать правильный ответ в $75$ случаях из $100$, всегда прогнозируя $\\leqslant 50K$.\n",
    "\n",
    "Попробуем посмотреть на влияние образования на доход, для этого выведем проценты людей с разными зарплатами для каждого вида образования:"
   ]
  },
  {
   "cell_type": "code",
   "execution_count": null,
   "metadata": {
    "scrolled": true
   },
   "outputs": [],
   "source": [
    "pd.crosstab(data.education, data.target, margins=True) / len(data) * 100"
   ]
  },
  {
   "cell_type": "markdown",
   "metadata": {},
   "source": [
    "В некоторых группах процент людей с высокой зарплатой не сильно отличается от процента людей с низкой.\n",
    "\n",
    "Например, в группе Bachelors отличие не такое уж сильное, а в группе Masters людей с высокой зарплатой даже немного больше.\n",
    "\n",
    "---\n",
    "\n",
    "---\n",
    "\n",
    "Добавьте в список `high_paid_education` названия групп, внутри которых, по вашему мнению, высоких зарплат достаточно много."
   ]
  },
  {
   "cell_type": "code",
   "execution_count": null,
   "metadata": {},
   "outputs": [],
   "source": [
    "high_paid_education = ['Bachelors',\n",
    "                       'Masters',\n",
    "                       # YOUR GROUPS\n",
    "                      ]"
   ]
  },
  {
   "cell_type": "markdown",
   "metadata": {},
   "source": [
    "Выведем таблицу, содержащую только людей с выбранным образованием:"
   ]
  },
  {
   "cell_type": "code",
   "execution_count": null,
   "metadata": {},
   "outputs": [],
   "source": [
    "# записываем, в каких строках образование соответствует одному из перечисленных\n",
    "high_paid_indices = data.education.isin(high_paid_education)\n",
    "# сохраняем эти строки\n",
    "high_paid = data[high_paid_indices]\n",
    "high_paid.head()"
   ]
  },
  {
   "cell_type": "markdown",
   "metadata": {},
   "source": [
    "---\n",
    "\n",
    "---\n",
    "\n",
    "Выведите процент людей из новой таблицы `high_paid`, имеющих зарплату $\\leqslant 50K$."
   ]
  },
  {
   "cell_type": "code",
   "execution_count": null,
   "metadata": {},
   "outputs": [],
   "source": [
    "# YOUR CODE"
   ]
  },
  {
   "cell_type": "markdown",
   "metadata": {},
   "source": [
    "Выведите из таблицы `high_paid` проценты людей с разными зарплатами для каждого семейного статуса."
   ]
  },
  {
   "cell_type": "code",
   "execution_count": null,
   "metadata": {},
   "outputs": [],
   "source": [
    "# YOUR CODE"
   ]
  },
  {
   "cell_type": "markdown",
   "metadata": {},
   "source": [
    "#### Bonus task\n",
    "\n",
    "Вернёмся к исходной таблице `data`. Проверьте влияние области работы `occupation` на величину зарплаты."
   ]
  },
  {
   "cell_type": "code",
   "execution_count": null,
   "metadata": {},
   "outputs": [],
   "source": []
  },
  {
   "cell_type": "code",
   "execution_count": null,
   "metadata": {},
   "outputs": [],
   "source": []
  },
  {
   "cell_type": "markdown",
   "metadata": {},
   "source": [
    "Попробуйте выделить такую группу людей, внутри которой больше половины имеют высокий уровень доходов."
   ]
  },
  {
   "cell_type": "code",
   "execution_count": null,
   "metadata": {},
   "outputs": [],
   "source": []
  },
  {
   "cell_type": "code",
   "execution_count": null,
   "metadata": {},
   "outputs": [],
   "source": []
  },
  {
   "cell_type": "markdown",
   "metadata": {},
   "source": [
    "<br><br><br><br><br><br><br><br><br><br><br><br><br><br>\n",
    "\n",
    "### Для тех, кто выжил, и хочет ещё\n",
    "![](http://3gp-mp4.org/uploads/posts/2016-04/1460986052_2.jpg)"
   ]
  },
  {
   "cell_type": "markdown",
   "metadata": {},
   "source": [
    "Скачайте данные по <a href=https://www.dropbox.com/s/f2e3afgxw90qluw/yob2015.txt?dl=0>ссылке</a>.\n",
    "В файле представлена информация об именах новорожденных в США в 2015 году в формате: \"name, gender, count\""
   ]
  },
  {
   "cell_type": "code",
   "execution_count": null,
   "metadata": {},
   "outputs": [],
   "source": [
    "names = pd.read_csv('yob2015.txt', names=['Name', 'Gender', 'Count'])\n",
    "names.head(10)"
   ]
  },
  {
   "cell_type": "code",
   "execution_count": null,
   "metadata": {},
   "outputs": [],
   "source": [
    "names.info()"
   ]
  },
  {
   "cell_type": "code",
   "execution_count": null,
   "metadata": {},
   "outputs": [],
   "source": [
    "names.describe(include=['object'])"
   ]
  },
  {
   "cell_type": "code",
   "execution_count": null,
   "metadata": {},
   "outputs": [],
   "source": [
    "names.describe(include=['int64'])"
   ]
  },
  {
   "cell_type": "markdown",
   "metadata": {},
   "source": [
    "---\n",
    "\n",
    "---\n",
    "\n",
    "Задание.\n",
    "\n",
    "- Выведите все имена, которых было больше $15000$.\n",
    "- Посчитайте долю новорождённых мальчиков и девочек."
   ]
  },
  {
   "cell_type": "code",
   "execution_count": null,
   "metadata": {},
   "outputs": [],
   "source": []
  }
 ],
 "metadata": {
  "kernelspec": {
   "display_name": "Python 3",
   "language": "python",
   "name": "python3"
  },
  "language_info": {
   "codemirror_mode": {
    "name": "ipython",
    "version": 3
   },
   "file_extension": ".py",
   "mimetype": "text/x-python",
   "name": "python",
   "nbconvert_exporter": "python",
   "pygments_lexer": "ipython3",
   "version": "3.7.6"
  },
  "name": "seminar1_python_intro_tools.ipynb"
 },
 "nbformat": 4,
 "nbformat_minor": 1
}
