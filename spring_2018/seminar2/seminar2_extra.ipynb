{
 "cells": [
  {
   "cell_type": "markdown",
   "metadata": {},
   "source": [
    "Как обычно импорты, тут всё стандартно кроме одного: пакета **seaborn**, который нравится лично мне, поэтому я хочу его вам показать."
   ]
  },
  {
   "cell_type": "code",
   "execution_count": null,
   "metadata": {},
   "outputs": [],
   "source": [
    "import pandas as pd\n",
    "import numpy as np\n",
    "from matplotlib import pyplot as plt\n",
    "import seaborn\n",
    "%matplotlib inline"
   ]
  },
  {
   "cell_type": "markdown",
   "metadata": {},
   "source": [
    "# Анализ реальных данных"
   ]
  },
  {
   "cell_type": "markdown",
   "metadata": {},
   "source": [
    "Источник данных: «Российский мониторинг экономического положения и здоровья населения НИУ-ВШЭ (RLMS-HSE)», проводимый Национальным исследовательским университетом  \"Высшая школа экономики\" и ООО «Демоскоп» при участии Центра народонаселения Университета Северной Каролины в Чапел Хилле и Института социологии РАН. (Сайты обследования RLMS-HSE: http://www.cpc.unc.edu/projects/rlms и http://www.hse.ru/rlms)».\n",
    "\n",
    "Опрос населения, данные за 2007 год."
   ]
  },
  {
   "cell_type": "code",
   "execution_count": null,
   "metadata": {},
   "outputs": [],
   "source": [
    "raw_data = pd.read_csv('russia_data.csv', sep=';')"
   ]
  },
  {
   "cell_type": "markdown",
   "metadata": {},
   "source": [
    "Функция, которая берёт нужный столбец, желающие могут внимательно на неё посмотреть и понять, как она работает :)"
   ]
  },
  {
   "cell_type": "code",
   "execution_count": null,
   "metadata": {},
   "outputs": [],
   "source": [
    "def get_data_by_id(variant, data):\n",
    "    to_drop = []\n",
    "    id_variant = 'id' + str(variant)\n",
    "    for i in range(1, 77):\n",
    "        if i != variant:\n",
    "            to_drop.append('id' + str(i))        \n",
    "    data_id = data.drop(to_drop, axis = 1)\n",
    "    data_id = data_id[data_id[id_variant] == 1]\n",
    "    data_id = data_id.drop(id_variant, axis = 1)\n",
    "    return data_id"
   ]
  },
  {
   "cell_type": "markdown",
   "metadata": {},
   "source": [
    "Возьмём Алтайский край (id45) в качестве примера"
   ]
  },
  {
   "cell_type": "code",
   "execution_count": null,
   "metadata": {},
   "outputs": [],
   "source": [
    "data_Altai = get_data_by_id(45, raw_data)"
   ]
  },
  {
   "cell_type": "markdown",
   "metadata": {},
   "source": [
    "\n",
    "Список переменных\n",
    "1. **public** – 1 если государственное предприятие (в государственной собственности), 0 если частное;\n",
    "\n",
    "2. **wage** – заработная плата, полученная за последние 30 дней по основному месту работы;\n",
    "\n",
    "3. **income** – сколько всего денег за последние 30 дней получил респондент, считая все источники дохода;\n",
    "\n",
    "4. **tenure** – опыт работы на текущем месте;\n",
    "\n",
    "5. **educ** – уровень образования, категориальная переменная (0 для индивидов без среднего образования)\n",
    "\n",
    "    1. среднее образование\n",
    "    2. профессиональные курсы\n",
    "    3. ПТУ, техническое училище\n",
    "    4. техникум\n",
    "    5. институт, университет, академия\n",
    "\n",
    "6. **urban** – 1 респондент проживает в городе, 0 в сельской местности;\n",
    "7. **male** – пол, 1 для мужчин, 0 для женщин;\n",
    "8. **age** – возраст;\n",
    "9. **subordinates** – наличие подчиненных, 1 если есть, 0 в противном случае.\n",
    "10. **experience** – число лет общего трудового стажа респондента;\n",
    "11. **otherjob** – хотелось бы респонденту найти другую работу, 1 если да, 0 в противном случае;\n",
    "12. **trust** – доверие мелкому и среднему частному бизнесу, 1 если респондент доверяет, 0 если не доверяет;\n",
    "13. **internet** – приходилось ли респонденту в течение последних 12 месяцев пользоваться Интернетом, 1 если да, 0 в противном случае."
   ]
  },
  {
   "cell_type": "markdown",
   "metadata": {},
   "source": [
    "## 1. Первый взгляд на вещи"
   ]
  },
  {
   "cell_type": "markdown",
   "metadata": {},
   "source": [
    "Что можно сделать в первую очередь? Посмотреть в целом, что за данные у нас есть."
   ]
  },
  {
   "cell_type": "code",
   "execution_count": null,
   "metadata": {},
   "outputs": [],
   "source": [
    "data_Altai.head()"
   ]
  },
  {
   "cell_type": "markdown",
   "metadata": {},
   "source": [
    "Теперь посмотрим на основные статистики:"
   ]
  },
  {
   "cell_type": "code",
   "execution_count": null,
   "metadata": {},
   "outputs": [],
   "source": [
    "data_Altai.describe()"
   ]
  },
  {
   "cell_type": "markdown",
   "metadata": {},
   "source": [
    "## 2. Поиск выбросов"
   ]
  },
  {
   "cell_type": "markdown",
   "metadata": {},
   "source": [
    "В реальных данных всегда есть выбросы. О том, что такое \"выброс\" всегда стоит говорить отдельно. Давайте найдём их с помощью крутой штуки под названием **box-plot**."
   ]
  },
  {
   "cell_type": "code",
   "execution_count": null,
   "metadata": {},
   "outputs": [],
   "source": [
    "plt.figure(figsize=(2,5))\n",
    "seaborn.boxplot(y='wage', data=data_Altai)"
   ]
  },
  {
   "cell_type": "markdown",
   "metadata": {},
   "source": [
    "** Задание: ** постройте box-plot по переменным income, age, tenure."
   ]
  },
  {
   "cell_type": "code",
   "execution_count": null,
   "metadata": {},
   "outputs": [],
   "source": [
    "#YOUR CODE HERE\n",
    "#just copy it"
   ]
  },
  {
   "cell_type": "code",
   "execution_count": null,
   "metadata": {},
   "outputs": [],
   "source": [
    "#YOUR CODE HERE"
   ]
  },
  {
   "cell_type": "code",
   "execution_count": null,
   "metadata": {},
   "outputs": [],
   "source": [
    "#YOUR CODE HERE"
   ]
  },
  {
   "cell_type": "markdown",
   "metadata": {},
   "source": [
    "Можно сделать крутую штуку по бинарным переменным: box-plot автоматически поделил данные по классам 0 и 1 и построил график по каждому из значений бинарной переменной."
   ]
  },
  {
   "cell_type": "code",
   "execution_count": null,
   "metadata": {},
   "outputs": [],
   "source": [
    "plt.figure(figsize=(4,5))\n",
    "seaborn.boxplot(y='wage', x = 'male', data=data_Altai)"
   ]
  },
  {
   "cell_type": "markdown",
   "metadata": {},
   "source": [
    "** Задание: ** постройте box-plot по переменным male и income, male и age, urban и wage."
   ]
  },
  {
   "cell_type": "code",
   "execution_count": null,
   "metadata": {},
   "outputs": [],
   "source": [
    "#YOUR CODE HERE"
   ]
  },
  {
   "cell_type": "code",
   "execution_count": null,
   "metadata": {},
   "outputs": [],
   "source": [
    "#YOUR CODE HERE"
   ]
  },
  {
   "cell_type": "code",
   "execution_count": null,
   "metadata": {},
   "outputs": [],
   "source": [
    "#YOUR CODE HERE"
   ]
  },
  {
   "cell_type": "markdown",
   "metadata": {},
   "source": [
    "## 3. Гистограммы"
   ]
  },
  {
   "cell_type": "markdown",
   "metadata": {},
   "source": [
    "Теперь посмотрим на гистограммы:"
   ]
  },
  {
   "cell_type": "code",
   "execution_count": null,
   "metadata": {},
   "outputs": [],
   "source": [
    "data_Altai.wage.hist()"
   ]
  },
  {
   "cell_type": "markdown",
   "metadata": {},
   "source": [
    "** Задание: ** постройте гистограммы по переменным income, age, tenure."
   ]
  },
  {
   "cell_type": "code",
   "execution_count": null,
   "metadata": {},
   "outputs": [],
   "source": [
    "#YOUR CODE HERE"
   ]
  },
  {
   "cell_type": "code",
   "execution_count": null,
   "metadata": {},
   "outputs": [],
   "source": [
    "#YOUR CODE HERE"
   ]
  },
  {
   "cell_type": "code",
   "execution_count": null,
   "metadata": {},
   "outputs": [],
   "source": [
    "#YOUR CODE HERE"
   ]
  },
  {
   "cell_type": "markdown",
   "metadata": {},
   "source": [
    "А теперь красивые картинки кончаются и начинается математика."
   ]
  },
  {
   "cell_type": "markdown",
   "metadata": {},
   "source": [
    "## 4. Проверка гипотез\n",
    "\n",
    "### Проверьте гипотезу, что матожидание среднего дохода равно 9000 рублей против двусторонней альтернативной гипотезы.\n",
    "\n",
    "Двусторонняя альтернативная гипотеза -- это когда альтернативная гипотеза имеет вид \"матожидание среднего дохода не равно 9000\"."
   ]
  },
  {
   "cell_type": "code",
   "execution_count": null,
   "metadata": {},
   "outputs": [],
   "source": [
    "income = data_Altai.income\n",
    "\n",
    "n = income.count() # количество элеметнов в выборке\n",
    "mean = #YOUR CODE HERE\n",
    "std = #YOUR CODE HERE\n",
    "\n",
    "alpha = 0.95 # уровень значимости\n",
    "mu_0 = 9000 # нулевая гипотеза: матожидание равно 9000 рублей"
   ]
  },
  {
   "cell_type": "markdown",
   "metadata": {},
   "source": [
    "Сейчас тут будет происходить некоторая математическая магия: (не переживайте, вам не надо будет её прогать! всё в порядке!) мы не знаем точную дисперсию, поэтому нам понадобится t-распределение Стьюдента, которое находится в библиотеке scipy модуле stats. t-распределение Сьюдента кроме уровня значимости имеет также степень свободы, который равен n-1. \n",
    "\n",
    "Критическая статистика равна $$t = \\frac{\\overline{X} - \\mu_0}{S / \\sqrt{n}}$$\n",
    "\n",
    "где $\\overline{X}$ -- среднее, $S$ -- стандартное отклонение, $n$ -- количество элементов в выборке, $\\mu_0$ -- наше предположение.\n",
    "\n",
    "Теперь мы должны посмотреть, находится ли она в критической области, где мы *не отвергаем* гипотезу."
   ]
  },
  {
   "cell_type": "code",
   "execution_count": null,
   "metadata": {},
   "outputs": [],
   "source": [
    "from scipy import stats\n",
    "\n",
    "t = (mean - mu_0) / (std / n ** 0.5)\n",
    "\n",
    "x = np.linspace(-3,3,1000)\n",
    "d = stats.t.fit(income)\n",
    "plt.plot(x, stats.t.pdf(x, n-1), linewidth=3.3, label='t-Student')\n",
    "left, right = stats.t.interval(alpha, df=n-1)\n",
    "plt.vlines([left, right], 0.0, stats.t.pdf(tcrit, n-1), colors='r', linewidth=3, label='критическая область')\n",
    "fill = np.arange(left,right,0.01)\n",
    "plt.fill_between(fill, stats.t.pdf(fill, n-1), color='r', alpha=0.5)\n",
    "plt.scatter(t, 0, marker='o', c='k', label='критическая точка')\n",
    "plt.legend(bbox_to_anchor=(0.6, 0.85),\n",
    "           bbox_transform=plt.gcf().transFigure)\n",
    "plt.show()"
   ]
  },
  {
   "cell_type": "markdown",
   "metadata": {},
   "source": [
    "## 5. Рассчёт p-value\n",
    "\n",
    "Рассчитаем p-value для предыдущей задачи. Для этого проделаем \"обратную операцию\". Если бы мы делали это вручную, то посмотрели бы по табличке, какому значению p-value соотвествует наше критическое значение. В питоне же есть функция stats.t.sf(t, df), которая сделает это за нас."
   ]
  },
  {
   "cell_type": "code",
   "execution_count": null,
   "metadata": {},
   "outputs": [],
   "source": [
    "print('p-value:', 2*min(1 - stats.t.cdf(t, n-1), stats.t.cdf(t, n-1)))"
   ]
  }
 ],
 "metadata": {
  "kernelspec": {
   "display_name": "Python 3",
   "language": "python",
   "name": "python3"
  },
  "language_info": {
   "codemirror_mode": {
    "name": "ipython",
    "version": 3
   },
   "file_extension": ".py",
   "mimetype": "text/x-python",
   "name": "python",
   "nbconvert_exporter": "python",
   "pygments_lexer": "ipython3",
   "version": "3.7.6"
  }
 },
 "nbformat": 4,
 "nbformat_minor": 2
}
