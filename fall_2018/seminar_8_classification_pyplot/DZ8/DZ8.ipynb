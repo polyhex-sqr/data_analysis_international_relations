{
 "cells": [
  {
   "cell_type": "markdown",
   "metadata": {},
   "source": [
    "# Домашнее задание № 8"
   ]
  },
  {
   "cell_type": "markdown",
   "metadata": {},
   "source": [
    "## Задание 1 (2 балла)"
   ]
  },
  {
   "cell_type": "markdown",
   "metadata": {},
   "source": [
    "Вам предложен датасет с параметрами мобильных телефонов. Переменная \"price_range\" отвечает за то, к какой категории относится телефон: 1-дорогие, 0-дешевые.\n",
    "\n",
    "Ваша задача состоит в том, чтобы наиболее точно научиться классифицировать телефоны по этим 2 категориям на основании других параметров (то есть, подберите в качестве признаков те параметры, которые, как вам кажется, наилучшим образом подходят для классификации). Возьмите не более пяти признаков!\n",
    "Вычислите известные вам метрики качества (три штуки) и проинтерпретируйте результат (СОДЕРЖАТЕЛЬНО)."
   ]
  },
  {
   "cell_type": "code",
   "execution_count": null,
   "metadata": {
    "collapsed": true
   },
   "outputs": [],
   "source": [
    "#YOUR CODE"
   ]
  },
  {
   "cell_type": "markdown",
   "metadata": {},
   "source": [
    "## Задание 2 (1 балл)"
   ]
  },
  {
   "cell_type": "markdown",
   "metadata": {},
   "source": [
    "Постройте линейный график  y = sin(x). Подпишите названия осей (содержательно!), название графика (тоже содержательно). Настройте размеры подписей. Выберите любой цвет для графика (кроме стандартного). Измените толщину графика (аргумент  linewidth= толщина). Сделайте деления по оси х от 1 до 100."
   ]
  },
  {
   "cell_type": "code",
   "execution_count": null,
   "metadata": {
    "collapsed": true
   },
   "outputs": [],
   "source": [
    "#YOUR CODE"
   ]
  }
 ],
 "metadata": {
  "kernelspec": {
   "display_name": "Python 3",
   "language": "python",
   "name": "python3"
  },
  "language_info": {
   "codemirror_mode": {
    "name": "ipython",
    "version": 3
   },
   "file_extension": ".py",
   "mimetype": "text/x-python",
   "name": "python",
   "nbconvert_exporter": "python",
   "pygments_lexer": "ipython3",
   "version": "3.6.1"
  }
 },
 "nbformat": 4,
 "nbformat_minor": 2
}
