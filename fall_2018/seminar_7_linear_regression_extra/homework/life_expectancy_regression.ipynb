{
 "cells": [
  {
   "cell_type": "markdown",
   "metadata": {},
   "source": [
    "# Домашнее задание по регрессии с категориальными признаками\n",
    "У вас на руках выгрузка данных из Базы World Bank Open Data.\n",
    "\n",
    "Мы скачали данные, которые в нашем представлении могли бы объяснить потенциальную длительность жизни в различных странах: http://databank.worldbank.org/data/reports.aspx?source=world-development-indicators#\n",
    "\n",
    "В данных вы найдете параметр Life expectancy и ряд других показателей.\n",
    "\n",
    "Ваша задача: выяснить, какие из предложенных факторов оказывают значимое влияние на длительность жизни и могут служить хорошим предиктором для моделей предсказания длительности жизни.\n",
    "\n",
    "> За отсутствие пояснений _в формате Markdown_ там, где это требуется, баллы будут нещадно сниматься!"
   ]
  },
  {
   "cell_type": "markdown",
   "metadata": {},
   "source": [
    "### Задание 1 (1 балл)\n",
    "Откройте данные и избавьтесь от мультиколлинеарности в данных, а также отберите факторы (признаки), которые могут оказывать влияние на life expectancy.\n",
    "\n",
    "Для этого нужно построить матрицу корреляций и отобрать подходящие факторы.\n",
    "\n",
    "Опишите, почему и как вы выбрали именно такие признаки."
   ]
  },
  {
   "cell_type": "code",
   "execution_count": null,
   "metadata": {
    "collapsed": true
   },
   "outputs": [],
   "source": [
    "# YOUR CODE"
   ]
  },
  {
   "cell_type": "markdown",
   "metadata": {},
   "source": [
    "### Задание 2 (1 балл) \n",
    "Преобразуйте категориальные (номинальные) признаки по принципу one hot encoding."
   ]
  },
  {
   "cell_type": "code",
   "execution_count": null,
   "metadata": {
    "collapsed": true
   },
   "outputs": [],
   "source": [
    "# YOUR CODE"
   ]
  },
  {
   "cell_type": "markdown",
   "metadata": {},
   "source": [
    "### Задание 3 (1 балл)\n",
    "1. Постройте регрессионную модель.\n",
    "2. Оцените качество полученной модели.\n",
    "3. Прокомментируйте результаты."
   ]
  },
  {
   "cell_type": "code",
   "execution_count": null,
   "metadata": {
    "collapsed": true
   },
   "outputs": [],
   "source": [
    "# YOUR CODE"
   ]
  }
 ],
 "metadata": {
  "kernelspec": {
   "display_name": "Python 3",
   "language": "python",
   "name": "python3"
  },
  "language_info": {
   "codemirror_mode": {
    "name": "ipython",
    "version": 3
   },
   "file_extension": ".py",
   "mimetype": "text/x-python",
   "name": "python",
   "nbconvert_exporter": "python",
   "pygments_lexer": "ipython3",
   "version": "3.6.1"
  }
 },
 "nbformat": 4,
 "nbformat_minor": 2
}
