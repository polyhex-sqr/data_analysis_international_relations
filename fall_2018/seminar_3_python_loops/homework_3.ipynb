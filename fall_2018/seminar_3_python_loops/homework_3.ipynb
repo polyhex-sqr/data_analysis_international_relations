{
 "cells": [
  {
   "cell_type": "markdown",
   "metadata": {},
   "source": [
    "# Домашнее задание №3"
   ]
  },
  {
   "cell_type": "markdown",
   "metadata": {},
   "source": [
    "## Задание 1 "
   ]
  },
  {
   "cell_type": "markdown",
   "metadata": {},
   "source": [
    "Создать список покупок. К каждому слову добавить строку \" +\" и вывести его на экран. Сделать задание двумя способами: с использованием range и len и без использования.\n",
    "\n",
    "Например, вывод: <br/> \n",
    "apple + <br/> \n",
    "cola + <br/> \n",
    "milk + <br/> \n",
    "bread + <br/> \n",
    "towel + <br/> "
   ]
  },
  {
   "cell_type": "code",
   "execution_count": null,
   "metadata": {
    "collapsed": true
   },
   "outputs": [],
   "source": [
    "# YOUR CODE "
   ]
  },
  {
   "cell_type": "markdown",
   "metadata": {},
   "source": [
    "Создать словарь, где ключи - страны, а значения - президенты. Вывести в цикле все элементы (страна, президент)."
   ]
  },
  {
   "cell_type": "code",
   "execution_count": null,
   "metadata": {
    "collapsed": true
   },
   "outputs": [],
   "source": [
    "# YOUR CODE "
   ]
  },
  {
   "cell_type": "markdown",
   "metadata": {},
   "source": [
    "## Задание 2 "
   ]
  },
  {
   "cell_type": "markdown",
   "metadata": {},
   "source": [
    "Вывести степени числа 3 от 2-ой до 15-ой с шагом 3, используя list comprehension."
   ]
  },
  {
   "cell_type": "code",
   "execution_count": null,
   "metadata": {
    "collapsed": true
   },
   "outputs": [],
   "source": [
    "# YOUR CODE"
   ]
  },
  {
   "cell_type": "markdown",
   "metadata": {},
   "source": [
    "## Задание 3"
   ]
  },
  {
   "cell_type": "markdown",
   "metadata": {},
   "source": [
    "Вывести простые числа из интервала range(2, 20). \n",
    "\n",
    "Простое число - натуральное (целое положительное) число, имеющее ровно два различных натуральных делителя — единицу и самого себя. \n",
    "\n",
    "<b>Подсказка:</b> Чтобы проверить является ли число <b>N</b> простым, нужно посчитать, на какое количество чисел (от 1 до <b>N</b>) делится число <b>N</b>."
   ]
  },
  {
   "cell_type": "code",
   "execution_count": null,
   "metadata": {
    "collapsed": false
   },
   "outputs": [],
   "source": [
    "# YOUR CODE"
   ]
  }
 ],
 "metadata": {
  "anaconda-cloud": {},
  "kernelspec": {
   "display_name": "Python [default]",
   "language": "python",
   "name": "python3"
  },
  "language_info": {
   "codemirror_mode": {
    "name": "ipython",
    "version": 3
   },
   "file_extension": ".py",
   "mimetype": "text/x-python",
   "name": "python",
   "nbconvert_exporter": "python",
   "pygments_lexer": "ipython3",
   "version": "3.5.2"
  }
 },
 "nbformat": 4,
 "nbformat_minor": 1
}
