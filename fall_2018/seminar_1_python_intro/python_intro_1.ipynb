{
 "cells": [
  {
   "cell_type": "markdown",
   "metadata": {},
   "source": [
    "## 0. А что мы сейчас открыли?\n",
    "Jupyter Notebook - интерактивная среда для запуска программного кода в браузере. Удобный инструмент для анализа данных, который используется многими специалистами по data science.\n",
    "\n",
    "![](https://media.giphy.com/media/5Zesu5VPNGJlm/giphy.gif)"
   ]
  },
  {
   "cell_type": "markdown",
   "metadata": {},
   "source": [
    "### 0.1. Python?\n",
    "Python - это свободный интерпретируемый объектно-ориентированный расширяемый встраиваемый язык программирования очень высокого уровня (Г.Россум, Ф.Л.Дж.Дрейк, Д.С.Откидач \"Язык программирования Python\")."
   ]
  },
  {
   "cell_type": "markdown",
   "metadata": {},
   "source": [
    "### 0.2. Anaconda?\n",
    "![](https://2.bp.blogspot.com/-lOwzj1e6RpU/Wf1Kx1Ovl5I/AAAAAAAAAJY/esSu_peLFHEfxXmlnSVgTZoOHLFR2GHFgCLcBGAs/s1600/Capture2.PNG)\n",
    "Сборка Anaconda включает очень много полезных библиотек для анализа данных. \n",
    "\n",
    "- Где скачать: [официальный сайт](https://www.anaconda.com/download/).\n",
    "- Как поставить: действовать по инструкции, описанной [там же](https://docs.anaconda.com/anaconda/install/)."
   ]
  },
  {
   "cell_type": "markdown",
   "metadata": {},
   "source": [
    "## 1. Меньше текста, больше кода\n",
    "\n",
    "**Напутствие**:\n",
    "- *главное, не бояться пробовать писать код*\n",
    "- *каким бы неправильным он ни казался*\n",
    "- *скорее всего, ничего такого, что не починится, в рамках Jupyter Notebook вы сделать не сможете* \n",
    "\n",
    "**Краткая инструкция на все случаи жизни**:\n",
    "- Как создать новую ячейку?\n",
    "\n",
    "> Просто нажать кнопку `+` (*insert cell below*).\n",
    "\n",
    "- Как запустить код в ячейке?\n",
    "\n",
    "> Выделить ячейку и нажать кнопку `Run` или `Ctrl + Enter` *(см. Help - Keyboard Shortcuts)*.\n",
    "\n",
    "- Как понять, что код успешно выполнен?\n",
    "\n",
    "> Под ячейкой не появились сообщения об ошибках + поле `In []` слева от ячейки содержит число, а не символ `*`.\n",
    "\n",
    "- Что делать, если код не хочет успешно выполняться, поле слева выглядит вот так `In [*]` и вообще всё зависло аааа помогите\n",
    "<img src=\"https://pp.userapi.com/c543103/v543103112/326eb/UnK2PZuGroQ.jpg\" alt=\"Drawing\" style=\"width: 200px;\"/>\n",
    "\n",
    "> Для прерывания выполнения кода можно попробовать нажать кнопку `■` (*interrupt the kernel*) в панели наверху, либо перезапустить весь проект, нажав соседнюю кнопку (*restart the kernel*).\n",
    "\n",
    "*В некоторых ячейках вам нужно будет дописать свой код и добиться его **успешного** выполнения.*\n",
    "\n",
    "### Итак, начнем!\n",
    "\n",
    "![](https://toidicodedao.files.wordpress.com/2015/06/keep-calm-and-code-on-821.png?w=536&h=335)"
   ]
  },
  {
   "cell_type": "markdown",
   "metadata": {},
   "source": [
    "У ячеек в Jupyter'e есть разные типы, которые тоже отображаются в панели наверху. У данной ячейки тип `Markdown`, в ней можно писать текст.\n",
    "\n",
    "Если её выполнить, текст красиво форматируется.\n",
    "\n",
    "---\n",
    "\n",
    "При добавлении новой ячейки по умолчанию создаётся ячейка типа `Code`.\n",
    "\n",
    "Что бы вы ни написали в ячейке с типом `Code`, текст будет восприниматься Jupyter'ом, как программа, которую надо выполнить.\n",
    "\n",
    "Например, попробуйте выполнить следующую ячейку:"
   ]
  },
  {
   "cell_type": "code",
   "execution_count": null,
   "metadata": {},
   "outputs": [],
   "source": [
    "print(2 + 2)"
   ]
  },
  {
   "cell_type": "markdown",
   "metadata": {},
   "source": [
    "### Функции вывода и простейшие типы данных (число, строка)\n",
    "\n",
    "В дальнейшем вы часто будете использовать _функции_ из Python или из специализированных Python-модулей.\n",
    "\n",
    "_Функция_ -- это какой-то скрытый от вас программный код, который можно применять для решения конкретной задачи.\n",
    "\n",
    "Например, познакомимся с функцией `print`:\n",
    "- нужна для того, чтобы выводить на экран текст / числа / что угодно ещё\n",
    "- формат вызова: `print(<первое, что хотите вывести на экран>, <второе, что хотите вывести на экран>, ...)`\n",
    "\n",
    "То, что перечисляется внутри скобок и разделяется запятыми, называется *аргументами* или _входами_ функции\n",
    "\n",
    "Для тренировки:\n",
    "> Выведите результат умножения числа $153$ на $27$:"
   ]
  },
  {
   "cell_type": "code",
   "execution_count": null,
   "metadata": {},
   "outputs": [],
   "source": [
    "# всё, что пишется за знаком #, воспринимается как комментарий и не выполняется в рамках программы\n",
    "# YOUR CODE"
   ]
  },
  {
   "cell_type": "markdown",
   "metadata": {},
   "source": [
    "> Выведите два числа подряд на одной строке:\n",
    ">\n",
    "> результат умножения числа $153$ на $27$, результат возведения числа $2$ в степень $10$"
   ]
  },
  {
   "cell_type": "code",
   "execution_count": null,
   "metadata": {},
   "outputs": [],
   "source": [
    "# YOUR CODE"
   ]
  },
  {
   "cell_type": "markdown",
   "metadata": {},
   "source": [
    "Ниже приведены несколько арифметических операций, которые могут понадобиться в дальнейшем:"
   ]
  },
  {
   "cell_type": "code",
   "execution_count": null,
   "metadata": {},
   "outputs": [],
   "source": [
    "# сложение\n",
    "print(3 + 2)\n",
    "# вычитание\n",
    "print(3 - 2)"
   ]
  },
  {
   "cell_type": "code",
   "execution_count": null,
   "metadata": {},
   "outputs": [],
   "source": [
    "# умножение\n",
    "print(3 * 2)\n",
    "# деление\n",
    "print(3 / 2)\n",
    "# взятие остатка от деления\n",
    "print(3 % 2)"
   ]
  },
  {
   "cell_type": "code",
   "execution_count": null,
   "metadata": {},
   "outputs": [],
   "source": [
    "# возведение в степень\n",
    "print(3 ** 2)\n",
    "# взятие корня aka возведение в дробную степень\n",
    "print(3 ** (1 / 2))"
   ]
  },
  {
   "cell_type": "markdown",
   "metadata": {},
   "source": [
    "На что обратить внимание:\n",
    "- числа с десятичной частью, например, $1.43$, в отличие от Excel, в Python пишутся не через запятую `,`, а через точку `.`.\n",
    "\n",
    "Почувствуйте разницу:"
   ]
  },
  {
   "cell_type": "code",
   "execution_count": null,
   "metadata": {},
   "outputs": [],
   "source": [
    "print(2,6 / 2)  # печатает два числа\n",
    "print(2, 6 / 2)  # и так тоже два числа, пробел в данном случае неважен\n",
    "print(2.6 / 2)  # печатает одно число"
   ]
  },
  {
   "cell_type": "markdown",
   "metadata": {},
   "source": [
    "- не путайте целочисленное и вещественное деление\n",
    "\n",
    "А именно:"
   ]
  },
  {
   "cell_type": "code",
   "execution_count": null,
   "metadata": {},
   "outputs": [],
   "source": [
    "print(9 / 2)  # печатает ожидаемый дробный результат\n",
    "print(9 // 2)  # целочисленное деление\n",
    "print(9 % 2)  # остаток от (целочисленного) отделения"
   ]
  },
  {
   "cell_type": "markdown",
   "metadata": {},
   "source": [
    "С помощью `print` можно печатать не только числа. Например, текст:\n",
    "- текстовая строка в питоне -- это любое выражение, заключённое в двойные `\"` или одинарные `'` кавычки\n",
    "- с точки зрения пользователя ничем не отличается от привычного текста\n",
    "\n",
    "Например:"
   ]
  },
  {
   "cell_type": "code",
   "execution_count": null,
   "metadata": {},
   "outputs": [],
   "source": [
    "print('Моё имя:')"
   ]
  },
  {
   "cell_type": "markdown",
   "metadata": {},
   "source": [
    "> Выведите ваше ФИО на одной строке:"
   ]
  },
  {
   "cell_type": "code",
   "execution_count": null,
   "metadata": {},
   "outputs": [],
   "source": [
    "# YOUR CODE"
   ]
  },
  {
   "cell_type": "markdown",
   "metadata": {},
   "source": [
    "> А теперь выведите ваше ФИО в формате:\n",
    ">\n",
    "> Фамилия: Иванов\n",
    ">\n",
    "> Имя: Иван\n",
    ">\n",
    "> Отчество: Иванович"
   ]
  },
  {
   "cell_type": "code",
   "execution_count": null,
   "metadata": {},
   "outputs": [],
   "source": [
    "# YOUR CODE"
   ]
  },
  {
   "cell_type": "markdown",
   "metadata": {},
   "source": [
    "Ещё строки можно\n",
    "- складывать\n",
    "- умножать на число\n",
    "- см. встроенные методы класса `str`\n",
    "\n",
    "**lifehack**: *если написать `str.` и нажать клавишу `Tab`, появится список доступных для строк методов*."
   ]
  },
  {
   "cell_type": "code",
   "execution_count": null,
   "metadata": {},
   "outputs": [],
   "source": [
    "print('how')\n",
    "print('how' + ' ' + 'are')\n",
    "print('how' * 3)\n",
    "print(' are' * 2 + 'you?')\n",
    "print('END'.center(100, '~'))"
   ]
  },
  {
   "cell_type": "markdown",
   "metadata": {},
   "source": [
    "На что обратить внимание:\n",
    "- выражение `1` это число\n",
    "- выражение `'1'` это строка\n",
    "\n",
    "Почувствуйте разницу:"
   ]
  },
  {
   "cell_type": "code",
   "execution_count": null,
   "metadata": {},
   "outputs": [],
   "source": [
    "print(1 + 2)  # печатает число\n",
    "print('1' + '2')  # печатает результат склеивания строк\n",
    "print(str(1) + str(2))  # функция str преобразует аргумент в строку"
   ]
  },
  {
   "cell_type": "markdown",
   "metadata": {},
   "source": [
    "### Ошибки в Python и что с ними делать\n",
    "\n",
    "Иногда написанный код не работает. Так бывает. Это не страшно.\n",
    "\n",
    "Например, Афгасий хочет вывести на экран текст следующего вида:\n",
    "```\n",
    "День недели: суббота.\n",
    "Моё имя: Афгасий\n",
    "Мой возраст: 11\n",
    "```\n",
    "\n",
    "Он написал свой код в ячейке ниже.\n",
    "\n",
    "Выполните следующую ячейку (казалось бы, что может пойти не так?):"
   ]
  },
  {
   "cell_type": "code",
   "execution_count": null,
   "metadata": {},
   "outputs": [],
   "source": [
    "print('День недели: суббота.')\n",
    "print('Моё имя: ' + 'Афгасий')\n",
    "print('Мой возраст: ' + 11)"
   ]
  },
  {
   "cell_type": "markdown",
   "metadata": {},
   "source": [
    "Как видно, выполнился не весь код, а только строки, написанные без ошибок. Указателем выделена строка, в которой что-то пошло не так.\n",
    "\n",
    "> Скопируйте и исправьте код выше, чтобы ячейка успешно отработала."
   ]
  },
  {
   "cell_type": "code",
   "execution_count": null,
   "metadata": {},
   "outputs": [],
   "source": [
    "# YOUR CODE"
   ]
  },
  {
   "cell_type": "markdown",
   "metadata": {},
   "source": [
    "### Переменные\n",
    "Возможности языка не ограничивается выводом фиксированных выражений на экран. Но для реализации сложных вычислений бывает удобным хранить где-то промежуточные результаты. Для этого в Python есть переменные.\n",
    "\n",
    "Имя переменной может содержать латинские буквы, цифры и знак подчёркивания `_`.\n",
    "\n",
    "Например:"
   ]
  },
  {
   "cell_type": "code",
   "execution_count": null,
   "metadata": {},
   "outputs": [],
   "source": [
    "word_how = 'how'\n",
    "print(word_how)\n",
    "some_very_very_long_980_name_with_numeric_characters111 = 123\n",
    "print(some_very_very_long_980_name_with_numeric_characters111)"
   ]
  },
  {
   "cell_type": "markdown",
   "metadata": {},
   "source": [
    "Если переменная ещё не создана (нет ни одной операции присваивания переменной значения), при обращении к ней возникнет ошибка:"
   ]
  },
  {
   "cell_type": "code",
   "execution_count": null,
   "metadata": {},
   "outputs": [],
   "source": [
    "print(some_word)"
   ]
  },
  {
   "cell_type": "markdown",
   "metadata": {},
   "source": [
    "Обычно переменным дают не очень длинные осмысленные имена (максимум -- 3-4 символа подчёркивания).\n",
    "\n",
    "Как вы уже заметили, при обращении к переменной пользователь получает то, что в ней хранится. С переменными можно производить те же операции, что с типами, которые они хранят:"
   ]
  },
  {
   "cell_type": "code",
   "execution_count": null,
   "metadata": {},
   "outputs": [],
   "source": [
    "word_how = 'how'\n",
    "print(word_how * 3)\n",
    "\n",
    "some_number = 123\n",
    "print(some_number * 2)\n",
    "\n",
    "print(word_how * some_number)\n",
    "\n",
    "# А что произойдёт тут?\n",
    "print(word_how + some_number)  # а как это исправить?"
   ]
  },
  {
   "cell_type": "markdown",
   "metadata": {},
   "source": [
    "Значения одних переменных можно сохранять в другие:"
   ]
  },
  {
   "cell_type": "code",
   "execution_count": null,
   "metadata": {},
   "outputs": [],
   "source": [
    "word_how = 'how'\n",
    "word_are = 'are'\n",
    "word_you = 'you'\n",
    "just_word = 'today'\n",
    "\n",
    "print(word_how + ' ' + word_are + ' ' + word_you + ' ' + just_word + '?')\n",
    "\n",
    "words_concatenated = word_how + ' ' + word_are + ' ' + word_you + ' ' + just_word\n",
    "\n",
    "print(words_concatenated)"
   ]
  },
  {
   "cell_type": "code",
   "execution_count": null,
   "metadata": {},
   "outputs": [],
   "source": [
    "small_number = 0.00001\n",
    "big_number = 100000000\n",
    "\n",
    "print(small_number + big_number)\n",
    "\n",
    "numbers_sum = small_number * 100 + big_number\n",
    "\n",
    "print(numbers_sum)"
   ]
  },
  {
   "cell_type": "markdown",
   "metadata": {},
   "source": [
    "> Воспользовавшись данными вам переменными с частями пингвина, выведите целого пингвина с помощью функции `print`."
   ]
  },
  {
   "cell_type": "code",
   "execution_count": null,
   "metadata": {},
   "outputs": [],
   "source": [
    "hoholok = \"   _~_    \"\n",
    "glazki = \"  (o o)   \"\n",
    "kluvik = \" /  V  \\\\  \"\n",
    "puziko = \"/(  _  )\\\\ \"\n",
    "lapki = \"  ^^ ^^   \"\n",
    "\n",
    "# YOUR CODE"
   ]
  },
  {
   "cell_type": "markdown",
   "metadata": {},
   "source": [
    "> Напоследок, напечатаем стадо пингвинов. Выведите $3$х пингвинов на **одной** строке."
   ]
  },
  {
   "cell_type": "code",
   "execution_count": null,
   "metadata": {},
   "outputs": [],
   "source": [
    "hoholok = \"   _~_    \"\n",
    "glazki = \"  (o o)   \"\n",
    "kluvik = \" /  V  \\\\  \"\n",
    "puziko = \"/(  _  )\\\\ \"\n",
    "lapki = \"  ^^ ^^   \"\n",
    "\n",
    "# YOUR CODE\n",
    "\n",
    "# составить новые строки,\n",
    "# содержащие столько хохолков / глазок / лапок / ...,\n",
    "# сколько требуется\n",
    "\n",
    "# print новые строки"
   ]
  },
  {
   "cell_type": "markdown",
   "metadata": {},
   "source": [
    "Пример <font color='green'>правильного</font> вывода:\n",
    "```\n",
    "   _~_       _~_       _~_    \n",
    "  (o o)     (o o)     (o o)   \n",
    " /  V  \\   /  V  \\   /  V  \\  \n",
    "/(  _  )\\ /(  _  )\\ /(  _  )\\ \n",
    "  ^^ ^^     ^^ ^^     ^^ ^^   \n",
    "```"
   ]
  },
  {
   "cell_type": "markdown",
   "metadata": {},
   "source": [
    "Пример <font color='red'>не очень правильного</font> вывода:\n",
    "```\n",
    "   _~_    \n",
    "  (o o)   \n",
    " /  V  \\  \n",
    "/(  _  )\\ \n",
    "  ^^ ^^   \n",
    "   _~_    \n",
    "  (o o)   \n",
    " /  V  \\  \n",
    "/(  _  )\\ \n",
    "  ^^ ^^   \n",
    "   _~_    \n",
    "  (o o)   \n",
    " /  V  \\  \n",
    "/(  _  )\\ \n",
    "  ^^ ^^   \n",
    "```"
   ]
  },
  {
   "cell_type": "markdown",
   "metadata": {},
   "source": [
    "## 2. Модули в Python\n",
    "\n",
    "Некоторые функции (например, `print`) встроены в сам Python и вам не нужны никакие дополнительные действия, чтобы этими функциями воспользоваться.\n",
    "\n",
    "Но часто нужны более сложные операции.\n",
    "\n",
    "Например, вам нужно посчитать зависимость размера котика от объёма потребляемой им пищи. И формула, выражающая эту взаимосвязь, примерно такая:\n",
    "$$\n",
    "  \\text{size} = \\sqrt{0.03 + \\log(6) \\div 3 - cos\\left(\\text{food}\\right)}\n",
    "$$\n",
    "\n",
    "Непосредственно в стандартных питонячьих функциях нет такой операции, как взятие корня, например. <br></br>\n",
    "Правда, эту проблему можно обойти, зная, что взять квадратный корень числа это то же самое, что возвести число в степень $0.5$:"
   ]
  },
  {
   "cell_type": "code",
   "execution_count": null,
   "metadata": {},
   "outputs": [],
   "source": [
    "print(25 ** 0.5)"
   ]
  },
  {
   "cell_type": "markdown",
   "metadata": {},
   "source": [
    "Но, например, с логарифмом всё гораздо хуже.\n",
    "\n",
    "Для подобных ситуаций в Python предусмотрены _модули_ -- наборы функций, предназначенных для каких-нибудь ускоспециализированных задач.\n",
    "\n",
    "Например, рассмотрим модуль `math`. Как нетрудно догадаться, он содержит функции для более продвинутых математических вычислений.\n",
    "\n",
    "Чтобы загрузить модуль, необходимо написать в коде строку `import <имя_модуля>`, после чего вам станут доступны все функции, которые в модуле хранятся:"
   ]
  },
  {
   "cell_type": "code",
   "execution_count": null,
   "metadata": {},
   "outputs": [],
   "source": [
    "import math"
   ]
  },
  {
   "cell_type": "markdown",
   "metadata": {},
   "source": [
    "Чтобы обратиться к функции внутри модуля `math`, достаточно написать следующее:"
   ]
  },
  {
   "cell_type": "code",
   "execution_count": null,
   "metadata": {},
   "outputs": [],
   "source": [
    "import math  # загружаем модуль\n",
    "\n",
    "print(math.sqrt(25))"
   ]
  },
  {
   "cell_type": "markdown",
   "metadata": {},
   "source": [
    "> Заведите переменную `size` и сохраните в неё результат вычисления размера котика от количества еды по формуле выше."
   ]
  },
  {
   "cell_type": "code",
   "execution_count": null,
   "metadata": {},
   "outputs": [],
   "source": [
    "import math\n",
    "\n",
    "\n",
    "food = 0  # можно указать любое любимое количество еды\n",
    "\n",
    "# YOUR CODE"
   ]
  }
 ],
 "metadata": {
  "kernelspec": {
   "display_name": "Python 3",
   "language": "python",
   "name": "python3"
  },
  "language_info": {
   "codemirror_mode": {
    "name": "ipython",
    "version": 3
   },
   "file_extension": ".py",
   "mimetype": "text/x-python",
   "name": "python",
   "nbconvert_exporter": "python",
   "pygments_lexer": "ipython3",
   "version": "3.6.4"
  }
 },
 "nbformat": 4,
 "nbformat_minor": 2
}
