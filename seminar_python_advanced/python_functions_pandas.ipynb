{
 "cells": [
  {
   "cell_type": "markdown",
   "metadata": {},
   "source": [
    "# Основы АД в МО. Введение в Python: функции, модуль pandas"
   ]
  },
  {
   "cell_type": "markdown",
   "metadata": {},
   "source": [
    "## Написание собственных функций\n",
    "Для начала напомним неформальное определение функции:\n",
    "> _Функция_ -- это какой-то скрытый от вас программный код, который можно применять для решения конкретной задачи.\n",
    "\n",
    "В рамках курса мы уже встречали такие функции, как `print`, `sum`, `len`, строковый метод `split`. У каждой из них есть набор аргументов: например, в функцию `sum` надо передать список чисел для суммирования, вызов функции осуществляется как `sum([1, 2, 3])`.\n",
    "\n",
    "Теперь предлагается научиться оборачивать готовый код в свои собственные функции, это совсем несложно.\n",
    "\n",
    "Будем решать следующую задачу: найти произведение и сумму чисел в списке. Для начала напишем простой код:"
   ]
  },
  {
   "cell_type": "code",
   "execution_count": null,
   "metadata": {},
   "outputs": [],
   "source": [
    "numbers_list = [1, 2, 4, 3, 7, 9, 8]\n",
    "\n",
    "# YOUR CODE\n",
    "number_product = 1.\n",
    "number_sum = 0.\n",
    "for number in numbers_list:\n",
    "    number_product *= number\n",
    "    number_sum += number\n",
    "print(number_product)\n",
    "print(number_sum)"
   ]
  },
  {
   "cell_type": "markdown",
   "metadata": {},
   "source": [
    "Чтобы посчитать произведение и сумму для другого списка, придётся скопировать весь код. Создайте новый список и посчитайте указанные два значения для него:"
   ]
  },
  {
   "cell_type": "code",
   "execution_count": null,
   "metadata": {},
   "outputs": [],
   "source": [
    "# YOUR CODE"
   ]
  },
  {
   "cell_type": "markdown",
   "metadata": {},
   "source": [
    "Допустим, мы решили найти не просто произведение и сумму, а произведение и сумму квадратов чисел из списка. Измените код соответствующим образом и посчитайте результат для двух созданных списков:"
   ]
  },
  {
   "cell_type": "code",
   "execution_count": null,
   "metadata": {},
   "outputs": [],
   "source": [
    "# YOUR CODE"
   ]
  },
  {
   "cell_type": "markdown",
   "metadata": {},
   "source": [
    "Как видите, постоянный копипаст может оказаться неудобным, а иногда и путающим. Обернём нашу несложную операцию в функцию, которая будет принимать список чисел и возвращать два значения: произведение и сумму чисел в списке."
   ]
  },
  {
   "cell_type": "code",
   "execution_count": null,
   "metadata": {},
   "outputs": [],
   "source": [
    "# Оператор def говорит о том, что началось определение функции.\n",
    "# Далее следует имя функции, и её аргументы в скобках.\n",
    "def return_numbers_product_and_sum(numbers):\n",
    "    # Код остаётся тем же, что и раньше, в качестве списка используется переменная numbers.\n",
    "    numbers_product = 1.\n",
    "    numbers_sum = 0.\n",
    "    for number in numbers:\n",
    "        numbers_product *= number\n",
    "        numbers_sum += number\n",
    "    # Оператор return отвечает за возвращаемые значения функции.\n",
    "    # Через запятую можно перечислить любое количество возвращаемых значений.\n",
    "    return numbers_product, numbers_sum"
   ]
  },
  {
   "cell_type": "markdown",
   "metadata": {},
   "source": [
    "Вызов пользовательской функции осуществляется в точности так же, как и любой другой:"
   ]
  },
  {
   "cell_type": "code",
   "execution_count": null,
   "metadata": {},
   "outputs": [],
   "source": [
    "return_numbers_product_and_sum(numbers_list)"
   ]
  },
  {
   "cell_type": "markdown",
   "metadata": {},
   "source": [
    "Напишем теперь чуть более общий вид нашей функции: она будет принимать список чисел и степень, а возвращать произведение и сумму чисел списка в указанной степени."
   ]
  },
  {
   "cell_type": "code",
   "execution_count": null,
   "metadata": {},
   "outputs": [],
   "source": [
    "# Конструкция power=1 оначает, что в случае отсутствия аргумента в вызове функции,\n",
    "# по умолчанию будет использовано значение 1.\n",
    "def return_powered_numbers_product_and_sum(numbers, power=1):\n",
    "    # Измените код предыдущей функции так, чтобы суммировались / перемножались не числа,\n",
    "    # а числа, возведённые в степень.\n",
    "    numbers_product = 1.\n",
    "    numbers_sum = 0.\n",
    "    for number in numbers:\n",
    "        # YOUR CODE\n",
    "    return numbers_product, numbers_sum"
   ]
  },
  {
   "cell_type": "markdown",
   "metadata": {},
   "source": [
    "Вызовите полученную функцию с одним аргументом и с двумя аргументами:"
   ]
  },
  {
   "cell_type": "code",
   "execution_count": null,
   "metadata": {},
   "outputs": [],
   "source": [
    "# YOUR CODE"
   ]
  },
  {
   "cell_type": "markdown",
   "metadata": {},
   "source": [
    "### Задание: сравнение чисел\n",
    "Надо написать функцию, которая будет проверять число на принадлежность промежутку от одного числа до другого.\n",
    "\n",
    "Функция принимает три числа: проверяемое число, нижняя граница, верхняя граница. По умолчанию нижняя граница равна $0$, а верхняя равна $10$.\n",
    "\n",
    "В случае принадлежности промежутку функция печатает `ok`, иначе --  `error`.\n",
    "\n",
    "Примеры вызова функции и результатов:\n",
    "```\n",
    "In: check_number_in_interval(1, 2, 3)\n",
    "Out: error\n",
    "\n",
    "In: check_number_in_interval(1, -1, 3)\n",
    "Out: ok\n",
    "\n",
    "In: check_number_in_interval(1)\n",
    "Out: ok\n",
    "```"
   ]
  },
  {
   "cell_type": "code",
   "execution_count": null,
   "metadata": {},
   "outputs": [],
   "source": [
    "# YOUR CODE"
   ]
  },
  {
   "cell_type": "markdown",
   "metadata": {},
   "source": [
    "## Работа с модулем Pandas\n",
    "Напомним, что такое модуль: в модуле хранятся функции, которые \"не вместились\" в основной синтаксис языка. Например, рассматривался модуль `math`, который содержал функции из продвинутого калькулятора.\n",
    "\n",
    "![](https://filearmy.s3.amazonaws.com/2017/03/03/25b10be.jpg)\n",
    "\n",
    "Модуль Pandas предназначен для работы с данными, чем-то напоминающей работу в Excel. Данные хранятся в таблице с именованными колонками и пронумерованными строками.\n",
    "\n",
    "Для начала подключим модуль:"
   ]
  },
  {
   "cell_type": "code",
   "execution_count": null,
   "metadata": {},
   "outputs": [],
   "source": [
    "# Данная конструкция подключает модуль pandas\n",
    "# и позволяет обращаться к его функциям через имя pd.\n",
    "import pandas as pd"
   ]
  },
  {
   "cell_type": "markdown",
   "metadata": {},
   "source": [
    "### Чтение таблицы из файла\n",
    "В `pandas` можно легко и удобно считывать таблицы форматов .csv, .tsv, .xls, .xlsx, ... с помощью функции `read_csv` или `read_excel` в зависимости от формата. В течение курса мы в основном будем считывать из .csv (comma separated values).\n",
    "\n",
    "Рассмотрим таблицу, содержащую различные показатели по странам с $1980$ по $2009$ год, взятые из базы [United Nations System](http://data.un.org/Default.aspx).\n",
    "\n",
    "Считаем данные и выведем первые $5$ строк:"
   ]
  },
  {
   "cell_type": "code",
   "execution_count": null,
   "metadata": {},
   "outputs": [],
   "source": [
    "countries = pd.read_csv('country_statistics.csv')\n",
    "countries.head(5)"
   ]
  },
  {
   "cell_type": "markdown",
   "metadata": {},
   "source": [
    "Краткое описание таблицы можно вывести так:"
   ]
  },
  {
   "cell_type": "code",
   "execution_count": null,
   "metadata": {},
   "outputs": [],
   "source": [
    "countries.info()"
   ]
  },
  {
   "cell_type": "markdown",
   "metadata": {},
   "source": [
    "Из полезного: можно сразу же оценить, сколько пропусков в данных.\n",
    "\n",
    "### Простейшие операции\n",
    "\n",
    "Из таблицы можно получать отдельные колонки, обращаясь к ним по именам, например, так:"
   ]
  },
  {
   "cell_type": "code",
   "execution_count": null,
   "metadata": {
    "scrolled": true
   },
   "outputs": [],
   "source": [
    "countries.Year"
   ]
  },
  {
   "cell_type": "markdown",
   "metadata": {},
   "source": [
    "Однако такой способ не сработает, если колонка содержит пробелы (в нашем случае таких большинство). Поэтому в `pandas` предусмотрено эквивалентное решение:"
   ]
  },
  {
   "cell_type": "code",
   "execution_count": null,
   "metadata": {
    "scrolled": true
   },
   "outputs": [],
   "source": [
    "countries['Year']"
   ]
  },
  {
   "cell_type": "code",
   "execution_count": null,
   "metadata": {
    "scrolled": true
   },
   "outputs": [],
   "source": [
    "countries['Country or Area']"
   ]
  },
  {
   "cell_type": "markdown",
   "metadata": {},
   "source": [
    "Также, можно выводить сразу несколько колонок. Для этого надо передать **список** названий колонок (т.е. после имени таблицы появятся двойные квадратные скобки `[]`):"
   ]
  },
  {
   "cell_type": "code",
   "execution_count": null,
   "metadata": {
    "scrolled": true
   },
   "outputs": [],
   "source": [
    "countries[['Country or Area', 'Year']]"
   ]
  },
  {
   "cell_type": "markdown",
   "metadata": {},
   "source": [
    "Вывести строки с конкретным значением в столбце можно так:"
   ]
  },
  {
   "cell_type": "code",
   "execution_count": null,
   "metadata": {
    "scrolled": true
   },
   "outputs": [],
   "source": [
    "# вывод строк с информацией за 1995 год\n",
    "countries[countries.Year == 1995]"
   ]
  },
  {
   "cell_type": "markdown",
   "metadata": {},
   "source": [
    "### Комбинация условий\n",
    "Иногда бывает нужно вывести строки с фиксированными значениями нескольких полей. В таких случаях можно воспользоваться логикой, аналогичной той, что использовалась в конструкции `if`.\n",
    "\n",
    "Для проверки нескольких условий в `if` мы писали конструкции вроде такой:"
   ]
  },
  {
   "cell_type": "code",
   "execution_count": null,
   "metadata": {},
   "outputs": [],
   "source": [
    "if 1 > 0 and 10 <= 11:\n",
    "    print('ok')"
   ]
  },
  {
   "cell_type": "markdown",
   "metadata": {},
   "source": [
    "Аналогичную конструкцию можно вписать в квадратных скобках `[]` для умной индексации в `pandas`:"
   ]
  },
  {
   "cell_type": "code",
   "execution_count": null,
   "metadata": {},
   "outputs": [],
   "source": [
    "# вывод строк с информацией за 1995 год и средней продолжительностью жизни больше 79\n",
    "countries[(countries['Year'] == 1995) & (countries['Life expectancy'] > 79)]"
   ]
  },
  {
   "cell_type": "markdown",
   "metadata": {},
   "source": [
    "Важные отличия от `if`:\n",
    "- оператор `and` заменяется на символ `&`\n",
    "- оператор `or` заменяется на символ `|`\n",
    "- оператор `not` заменяется на символ `~`\n",
    "- каждое условие надо оборачивать в круглые скобки `()`"
   ]
  },
  {
   "cell_type": "markdown",
   "metadata": {},
   "source": [
    "### Работа с пропусками\n",
    "Как видно по таблице, при сборе данных неизбежно возникают *пропущенные значения* и в таблице появляются поля со значением NaN (Not a Number).\n",
    "\n",
    "Есть разные способы от них избавиться:\n",
    "- можно заменить их на какое-нибудь фиксированное значение\n",
    "- можно вообще удалить строки, содержащие NaN\n",
    "- в некоторых задачах NaN не мешают вовсе\n",
    "\n",
    "На количество пропущенных значений можно посмотреть в сводной статистике:"
   ]
  },
  {
   "cell_type": "code",
   "execution_count": null,
   "metadata": {
    "scrolled": true
   },
   "outputs": [],
   "source": [
    "countries.info()"
   ]
  },
  {
   "cell_type": "markdown",
   "metadata": {},
   "source": [
    "Одна из мер борьбы с NaN -- замена на какое-либо значение. Выведем самое частое значение (моду) показателя `Life expectancy`:"
   ]
  },
  {
   "cell_type": "code",
   "execution_count": null,
   "metadata": {
    "scrolled": true
   },
   "outputs": [],
   "source": [
    "countries['Life expectancy'].value_counts(sort=True)"
   ]
  },
  {
   "cell_type": "markdown",
   "metadata": {},
   "source": [
    "Заменим пропущенные значения в столбце `Life expectancy` на самое частое значение этого столбца: $71.5$."
   ]
  },
  {
   "cell_type": "code",
   "execution_count": null,
   "metadata": {},
   "outputs": [],
   "source": [
    "# Копируем исходную таблицу, чтобы не портить данные.\n",
    "countries_without_nan = countries.copy()"
   ]
  },
  {
   "cell_type": "code",
   "execution_count": null,
   "metadata": {},
   "outputs": [],
   "source": [
    "countries_without_nan['Life expectancy'] = countries_without_nan['Life expectancy'].fillna(71.5)"
   ]
  },
  {
   "cell_type": "markdown",
   "metadata": {},
   "source": [
    "Важно избегать необдуманных замен значений в данных наподобие совершённого. Такие действия могут существенно повлиять на описательные статистики, так что иногда безопаснее по возможности просто не рассматривать данные с пропусками:"
   ]
  },
  {
   "cell_type": "code",
   "execution_count": null,
   "metadata": {},
   "outputs": [],
   "source": [
    "countries_without_nan = countries_without_nan.dropna(how='any')"
   ]
  },
  {
   "cell_type": "markdown",
   "metadata": {},
   "source": [
    "Значение аргумента `how='any'` означает, что будут удалены все строки, содержащие **хотя бы один** пропуск.\n",
    "\n",
    "Можно было прописать `how='all'`, в результате чего удалились бы только строки, полностью состоящие из NaN."
   ]
  },
  {
   "cell_type": "code",
   "execution_count": null,
   "metadata": {
    "scrolled": true
   },
   "outputs": [],
   "source": [
    "countries_without_nan.info()"
   ]
  },
  {
   "cell_type": "markdown",
   "metadata": {},
   "source": [
    "Опять же, важно понимать, что вы можете потерять очень много информации:"
   ]
  },
  {
   "cell_type": "code",
   "execution_count": null,
   "metadata": {
    "scrolled": true
   },
   "outputs": [],
   "source": [
    "countries.shape, countries_without_nan.shape"
   ]
  },
  {
   "cell_type": "markdown",
   "metadata": {},
   "source": [
    "### Описательные статистики\n",
    "У таблицы в `pandas` есть множество методов для получения тех или иных описательных статистик:"
   ]
  },
  {
   "cell_type": "code",
   "execution_count": null,
   "metadata": {},
   "outputs": [],
   "source": [
    "print('Mean life expectancy: ', countries['Life expectancy'].mean())\n",
    "print('Min life expectancy: ', countries['Life expectancy'].min())\n",
    "print('Life expectancy 25% quantile: ', countries['Life expectancy'].quantile(0.25))"
   ]
  },
  {
   "cell_type": "markdown",
   "metadata": {},
   "source": [
    "Для сравнения, те же значения на таблице с неаккуратно вычищенными пропусками:"
   ]
  },
  {
   "cell_type": "code",
   "execution_count": null,
   "metadata": {},
   "outputs": [],
   "source": [
    "print('Mean life expectancy: ', countries_without_nan['Life expectancy'].mean())\n",
    "print('Min life expectancy: ', countries_without_nan['Life expectancy'].min())\n",
    "print('Life expectancy 25% quantile: ', countries_without_nan['Life expectancy'].quantile(0.25))"
   ]
  },
  {
   "cell_type": "markdown",
   "metadata": {},
   "source": [
    "Также, можно выводить целые наборы статистик по числовым полям таблицы:"
   ]
  },
  {
   "cell_type": "code",
   "execution_count": null,
   "metadata": {},
   "outputs": [],
   "source": [
    "countries.describe()"
   ]
  },
  {
   "cell_type": "markdown",
   "metadata": {},
   "source": [
    "### Задание: fun with pandas\n",
    "Напомним, как выглядит табличка с данными по странам:"
   ]
  },
  {
   "cell_type": "code",
   "execution_count": null,
   "metadata": {},
   "outputs": [],
   "source": [
    "countries.head()"
   ]
  },
  {
   "cell_type": "markdown",
   "metadata": {},
   "source": [
    "Выведите следующие значения:\n",
    "1. Максимальный процент детей с избыточным весом.\n",
    "2. Максимальный процент детей с недостатком веса в $2000$-$2005$ гг..\n",
    "3. Страны с продолжительностью жизни, превышающей $75%$ квантиль в промежуток с $1990$ по $2000$ год.\n",
    "4. Страны, в которых было больше детей с недостатком веса, чем детей с избытком, с $2000$ года."
   ]
  },
  {
   "cell_type": "code",
   "execution_count": null,
   "metadata": {},
   "outputs": [],
   "source": [
    "# YOUR CODE"
   ]
  },
  {
   "cell_type": "code",
   "execution_count": null,
   "metadata": {},
   "outputs": [],
   "source": [
    "# YOUR CODE"
   ]
  },
  {
   "cell_type": "code",
   "execution_count": null,
   "metadata": {},
   "outputs": [],
   "source": [
    "# YOUR CODE"
   ]
  },
  {
   "cell_type": "code",
   "execution_count": null,
   "metadata": {},
   "outputs": [],
   "source": [
    "# YOUR CODE"
   ]
  }
 ],
 "metadata": {
  "kernelspec": {
   "display_name": "Python 3",
   "language": "python",
   "name": "python3"
  },
  "language_info": {
   "codemirror_mode": {
    "name": "ipython",
    "version": 3
   },
   "file_extension": ".py",
   "mimetype": "text/x-python",
   "name": "python",
   "nbconvert_exporter": "python",
   "pygments_lexer": "ipython3",
   "version": "3.6.4"
  }
 },
 "nbformat": 4,
 "nbformat_minor": 2
}
