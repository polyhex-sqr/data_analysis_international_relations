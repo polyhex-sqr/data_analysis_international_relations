{
 "cells": [
  {
   "cell_type": "markdown",
   "metadata": {},
   "source": [
    "# Домашнее задание по курсу Основы АД в МО. Функции в Python, модуль pandas\n",
    "Во всех задачах разрешается заводить любые промежуточные переменные, не указанные в условии, которые вам могут понадобиться. Задание сдаётся в систему anytask."
   ]
  },
  {
   "cell_type": "markdown",
   "metadata": {},
   "source": [
    "## 1. (1 балл) [Панграммы](https://ru.wikipedia.org/wiki/%D0%9F%D0%B0%D0%BD%D0%B3%D1%80%D0%B0%D0%BC%D0%BC%D0%B0)\n",
    "\n",
    "Панграмма -- это строка, содержащая все буквы алфавита. Для упрощения ограничимся буквами [латинского алфавита](https://ru.wikipedia.org/wiki/%D0%9B%D0%B0%D1%82%D0%B8%D0%BD%D1%81%D0%BA%D0%B8%D0%B9_%D0%B0%D0%BB%D1%84%D0%B0%D0%B2%D0%B8%D1%82#%D0%A1%D0%BE%D0%B2%D1%80%D0%B5%D0%BC%D0%B5%D0%BD%D0%BD%D1%8B%D0%B9_%D0%BB%D0%B0%D1%82%D0%B8%D0%BD%D1%81%D0%BA%D0%B8%D0%B9_%D0%B0%D0%BB%D1%84%D0%B0%D0%B2%D0%B8%D1%82).\n",
    "\n",
    "Напишите функцию `is_pangram(text)`, которая\n",
    "- принимает на вход строку, которая может содержать прописные, строчные буквы латинского алфавита, пробелы\n",
    "- проверяет, является ли строка панграммой\n",
    "    - если да, печатает слово `'pangram'`\n",
    "    - иначе -- печатает символы алфавита, не вошедшие в строку\n",
    "\n",
    "**Пример 1:**\n",
    "```\n",
    "In: is_pangram(\"The quick brown fox jumps over the lazy dog\")\n",
    "Out: pangram\n",
    "```\n",
    "\n",
    "**Пример 2:**\n",
    "```\n",
    "In: is_pangram(\"abCDe\")\n",
    "Out: fghijklmnopqrstuvwxyz\n",
    "```\n",
    "\n",
    "*Спойлеры: чтобы привести всю строку к одному регистру (т.е. сделать все буквы строчными или прописными), можно воспользоваться строковым методом `.lower()` или `.upper()` соответственно.*"
   ]
  },
  {
   "cell_type": "code",
   "execution_count": null,
   "metadata": {},
   "outputs": [],
   "source": [
    "def is_pangram(text):\n",
    "    # YOUR CODE"
   ]
  },
  {
   "cell_type": "code",
   "execution_count": null,
   "metadata": {},
   "outputs": [],
   "source": [
    "# проверка вызова функции\n",
    "is_pangram('abcde')"
   ]
  },
  {
   "cell_type": "markdown",
   "metadata": {},
   "source": [
    "## 2. (2 балла) О велосипедах\n",
    "Вам дана таблица с данными об аренде велосипедов. Подробное описание колонок можно почитать [здесь](https://archive.ics.uci.edu/ml/datasets/Bike%20Sharing%20Dataset#) (в исходном датасете некоторые величины отнормированы в отрезок $[0; 1]$, в нашей версии датасета -- нет).\n",
    "\n",
    "В задании могут понадобиться следующие:\n",
    "- `datetime`: дата аренды\n",
    "- `season`: сезоны проката, разбиение примерно такое: \n",
    "    - 1: декабрь-февраль\n",
    "    - 2: март-июнь\n",
    "    - 3: июнь-август\n",
    "    - 4: сентябрь-декабрь\n",
    "- `workingday`: являлся ли день рабочим\n",
    "    - 0: праздники или выходные\n",
    "    - 1: обычный рабочий день\n",
    "- `temp`: температура воздуха по Цельсию\n",
    "- `cnt`: общее число обычных аренд и аренд по абонементу"
   ]
  },
  {
   "cell_type": "markdown",
   "metadata": {},
   "source": [
    "Что надо сделать:\n",
    "1. считать таблицу;\n",
    "2. проверить её на наличие пропущенных значений и обработать пропуски;\n",
    "3. вывести строки, содержащие информацию за летний и зимний сезон (значение поля `season` $3$ и $1$ соответственно);\n",
    "4. вывести информацию о нерабочих днях, когда температура превышала $10$ градусов."
   ]
  },
  {
   "cell_type": "code",
   "execution_count": 2,
   "metadata": {},
   "outputs": [],
   "source": [
    "import pandas as pd"
   ]
  },
  {
   "cell_type": "code",
   "execution_count": null,
   "metadata": {},
   "outputs": [],
   "source": [
    "# YOUR CODE"
   ]
  }
 ],
 "metadata": {
  "kernelspec": {
   "display_name": "Python 3",
   "language": "python",
   "name": "python3"
  },
  "language_info": {
   "codemirror_mode": {
    "name": "ipython",
    "version": 3
   },
   "file_extension": ".py",
   "mimetype": "text/x-python",
   "name": "python",
   "nbconvert_exporter": "python",
   "pygments_lexer": "ipython3",
   "version": "3.6.4"
  }
 },
 "nbformat": 4,
 "nbformat_minor": 2
}
