{
 "cells": [
  {
   "cell_type": "markdown",
   "metadata": {},
   "source": [
    "# Первое домашнее задание по курсу Основы АД в МО\n",
    "Во всех задачах разрешается заводить любые промежуточные переменные, не указанные в условии, которые вам могут понадобиться."
   ]
  },
  {
   "cell_type": "markdown",
   "metadata": {},
   "source": [
    "## 1. В каком году мне будет $77$ лет?\n",
    "1. Заведите переменные, хранящие ваш возраст и текущий год.\n",
    "2. Выведите на экран год, в котором вам исполнится $77$ лет."
   ]
  },
  {
   "cell_type": "code",
   "execution_count": null,
   "metadata": {},
   "outputs": [],
   "source": [
    "# YOUR CODE"
   ]
  },
  {
   "cell_type": "markdown",
   "metadata": {},
   "source": [
    "## 2. Python и котики\n",
    "Воспользуемся примером с лекции  и посчитаем средний размер $3$х котиков.\n",
    "<img src=\"https://4.bp.blogspot.com/-3phAraz27wc/VvpbBDormwI/AAAAAAAAA20/QGAyKc6FezQZM5mfXGcnWTWir2XzLQjpgCPcB/s1600/%25D0%25A1%25D1%2580%25D0%25B5%25D0%25B4%25D0%25BD%25D0%25B5%25D0%25B5%2B%25D0%25B7%25D0%25BD%25D0%25B0%25D1%2587%25D0%25B5%25D0%25BD%25D0%25B8%25D0%25B5.jpg\" alt=\"Drawing\" style=\"width: 700px;\"/>\n",
    "\n",
    "1. Заведите $3$ переменные, хранящие размеры котиков и задайте произвольные значения.\n",
    "2. Посчитайте сумму размеров и средний размер котиков.\n",
    "3. Выведите на экран полученные значения в формате:\n",
    "```\n",
    "Суммарный размер: <число>\n",
    "Средний размер: <число>\n",
    "```"
   ]
  },
  {
   "cell_type": "code",
   "execution_count": null,
   "metadata": {},
   "outputs": [],
   "source": [
    "# YOUR CODE"
   ]
  },
  {
   "cell_type": "markdown",
   "metadata": {},
   "source": [
    "_Что изменится, если придётся считать статистики не для трёх, а для пяти котиков?_"
   ]
  },
  {
   "cell_type": "markdown",
   "metadata": {},
   "source": [
    "Ответ в текстовой ячейке\n",
    "\n",
    "---\n",
    "\n",
    "тут можно что-то писать, а потом выполнить ячейку"
   ]
  },
  {
   "cell_type": "markdown",
   "metadata": {},
   "source": [
    "## 3. Площадь и периметр прямоугольника\n",
    "![](http://infofaq.ru/wp-content/uploads/2016/10/prjamoug-300x178.png)\n",
    "1. Заведите переменные для длин сторон прямоугольника, задайте произвольные значения и выведите переменные на экран.\n",
    "2. Выведите на экран значения площади и периметра прямоугольника в формате:\n",
    "```\n",
    "Периметр прямоугольника: <число>\n",
    "Площадь прямоугольника: <число>\n",
    "```"
   ]
  },
  {
   "cell_type": "code",
   "execution_count": null,
   "metadata": {},
   "outputs": [],
   "source": [
    "# YOUR CODE"
   ]
  }
 ],
 "metadata": {
  "kernelspec": {
   "display_name": "Python 3",
   "language": "python",
   "name": "python3"
  },
  "language_info": {
   "codemirror_mode": {
    "name": "ipython",
    "version": 3
   },
   "file_extension": ".py",
   "mimetype": "text/x-python",
   "name": "python",
   "nbconvert_exporter": "python",
   "pygments_lexer": "ipython3",
   "version": "3.6.5"
  }
 },
 "nbformat": 4,
 "nbformat_minor": 2
}
