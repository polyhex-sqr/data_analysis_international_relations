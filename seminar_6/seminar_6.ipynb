{
 "cells": [
  {
   "cell_type": "code",
   "execution_count": null,
   "metadata": {
    "collapsed": true
   },
   "outputs": [],
   "source": [
    "import numpy as np\n",
    "import pandas as pd\n",
    "import matplotlib.pyplot as plt\n",
    "%matplotlib inline"
   ]
  },
  {
   "cell_type": "markdown",
   "metadata": {},
   "source": [
    "# Корреляция "
   ]
  },
  {
   "cell_type": "markdown",
   "metadata": {},
   "source": [
    "![](https://idatassist.com/wp-content/uploads/2017/04/dreamstime_m_37904189-610x461.jpg)"
   ]
  },
  {
   "cell_type": "markdown",
   "metadata": {},
   "source": [
    "Напомним определение коэффициента корреляции между векторами $x = (x_1, \\ldots, x_n)$ и $y = (y_1, \\ldots, y_n)$:\n",
    "\n",
    "$$\n",
    "  \\rho = \\frac{\\sum_{i=1}^n (x_i - \\overline x)(y_i - \\overline y)}{\\sqrt{\\sum_{i=1}^n (x_i - \\overline x)^2} \\sqrt{\\sum_{i=1}^n (y_i - \\overline y)^2}}\n",
    "$$\n",
    "\n",
    "Более подробное описание есть в лекционных [слайдах](https://drive.google.com/file/d/1pM1NKSXlIj47EM2w5LK_9lX-f6kIK2q_/view).\n"
   ]
  },
  {
   "cell_type": "code",
   "execution_count": null,
   "metadata": {
    "collapsed": false
   },
   "outputs": [],
   "source": [
    "X = np.random.rand(50)\n",
    "Y = X + np.random.normal(0, 0.1, 50)\n",
    "\n",
    "print(\"Коэффициент корреляции: \", np.corrcoef(X, Y)[0, 1])"
   ]
  },
  {
   "cell_type": "markdown",
   "metadata": {},
   "source": [
    "Можно наблюдать положительную корреляцию между векторами:"
   ]
  },
  {
   "cell_type": "code",
   "execution_count": null,
   "metadata": {
    "collapsed": false
   },
   "outputs": [],
   "source": [
    "plt.scatter(X,Y)\n",
    "plt.grid()\n",
    "plt.xlabel('X Value')\n",
    "plt.ylabel('Y Value')\n",
    "plt.title('Correlation of X and Y: %.2f'%np.corrcoef(X, Y)[0, 1])\n",
    "plt.show()"
   ]
  },
  {
   "cell_type": "markdown",
   "metadata": {},
   "source": [
    "Можно наблюдать отрицательную корреляцию между векторами:"
   ]
  },
  {
   "cell_type": "code",
   "execution_count": null,
   "metadata": {
    "collapsed": false
   },
   "outputs": [],
   "source": [
    "X = np.random.rand(50)\n",
    "Y = -X + np.random.normal(0, .1, 50)\n",
    "\n",
    "plt.scatter(X,Y)\n",
    "plt.xlabel('X Value')\n",
    "plt.ylabel('Y Value')\n",
    "plt.grid()\n",
    "plt.title('Correlation of X and Y: %.2f'%np.corrcoef(X, Y)[0, 1])\n",
    "plt.show()"
   ]
  },
  {
   "cell_type": "markdown",
   "metadata": {},
   "source": [
    "Если корреляция близка к нулю, то между векторами либо нет зависимости, либо она очень слабая:"
   ]
  },
  {
   "cell_type": "code",
   "execution_count": null,
   "metadata": {
    "collapsed": false
   },
   "outputs": [],
   "source": [
    "X = np.random.rand(50)\n",
    "Y = np.random.normal(0, 0.1, 50)\n",
    "\n",
    "plt.scatter(X,Y)\n",
    "plt.grid()\n",
    "plt.xlabel('X Value')\n",
    "plt.ylabel('Y Value')\n",
    "plt.title('Correlation of X and Y: %.2f'%np.corrcoef(X, Y)[0, 1])\n",
    "plt.show()"
   ]
  },
  {
   "cell_type": "markdown",
   "metadata": {},
   "source": [
    "___\n",
    "## Задание "
   ]
  },
  {
   "cell_type": "markdown",
   "metadata": {},
   "source": [
    "Рассмотрим Boston Housing Dataset, в котором содержатся цены на жилье в разных районах Бостона. Кроме того, в датасете представлены признаки, от которых может зависеть цена:"
   ]
  },
  {
   "cell_type": "code",
   "execution_count": null,
   "metadata": {
    "collapsed": false
   },
   "outputs": [],
   "source": [
    "from sklearn.datasets import load_boston\n",
    "boston = load_boston()\n",
    "print(boston.DESCR)"
   ]
  },
  {
   "cell_type": "code",
   "execution_count": null,
   "metadata": {
    "collapsed": false
   },
   "outputs": [],
   "source": [
    "boston = load_boston()\n",
    "data = pd.DataFrame(boston.data, columns = boston.feature_names)\n",
    "data['PRICE'] = boston.target\n",
    "data.head()"
   ]
  },
  {
   "cell_type": "markdown",
   "metadata": {},
   "source": [
    "В задании необходимо найти коэффициент корреляции между двумя различными парами признаков и изобразить эти признаки на графике (как мы делали выше)."
   ]
  },
  {
   "cell_type": "code",
   "execution_count": null,
   "metadata": {
    "collapsed": true
   },
   "outputs": [],
   "source": [
    "x = # YOUR CODE\n",
    "y = # YOUR CODE\n",
    "\n",
    "# YOUR CODE"
   ]
  },
  {
   "cell_type": "markdown",
   "metadata": {},
   "source": [
    "# Линейная регрессия "
   ]
  },
  {
   "cell_type": "markdown",
   "metadata": {},
   "source": [
    "Подробное описание можно найти в лекционных [слайдах](https://drive.google.com/file/d/1Eyedj7ELliNHYVYzZSYvAj8j8YTlrhHE/view).\n",
    "\n",
    "\n",
    "**TL;DR**\n",
    "\n",
    "Попытаемся предсказать (объяснить) величину $y$ через набор характеристик $x_1, \\ldots, x_n$.\n",
    "Предположение модели заключается в том, что величина $y$ выражается следующим образом:\n",
    "$$y = \\beta + \\alpha_1x_1 + \\alpha_2x_2+...+\\alpha_nx_n + \\varepsilon,$$\n",
    "где $\\varepsilon$ -- нормально распределённый шум.\n",
    "\n",
    "Будем пытаться оценить реальные коэффициенты:\n",
    "$$\\hat{y} = b + a_1x_1 + a_2x_2+...+a_nx_n$$\n",
    "\n",
    "Подбор параметров $b \\approx \\beta, a_1 \\approx \\alpha_1, \\ldots, a_n \\approx \\alpha_n$ происходит за счёт минимизации суммарной ошибки по всем известным объектам:\n",
    "$$MSE = \\sum (y_i - \\hat{y}_i)^2$$\n",
    "\n",
    "___"
   ]
  },
  {
   "cell_type": "markdown",
   "metadata": {},
   "source": [
    "\n",
    "Начнем с самого простого вида линейной регрессии, когда есть только зависимость от одного признака\n",
    "$$y=\\beta + \\alpha x+ \\varepsilon,$$\n",
    "где $\\alpha$ -- это коэффициент наклона прямой, $\\beta$ -- коэффициент смещения, $\\varepsilon$ -- нормально распределённый шум.\n",
    "\n",
    "Рассмотрим данные с коэффициентами $\\alpha=2$ и $\\beta=-5$:"
   ]
  },
  {
   "cell_type": "code",
   "execution_count": null,
   "metadata": {
    "collapsed": false
   },
   "outputs": [],
   "source": [
    "number_of_samples = 50\n",
    "np.random.seed(41)\n",
    "x = 10 * np.random.rand(number_of_samples)\n",
    "y = 2 * x - 5 + np.random.randn(number_of_samples)\n",
    "plt.grid()\n",
    "plt.plot(x, y, 'o')"
   ]
  },
  {
   "cell_type": "markdown",
   "metadata": {},
   "source": [
    "Можем использовать модель `LinearRegression` из библиотеки `sklearn`, чтобы найти наилучший вариант прямой, описывающей наши данные:"
   ]
  },
  {
   "cell_type": "code",
   "execution_count": null,
   "metadata": {
    "collapsed": false
   },
   "outputs": [],
   "source": [
    "from sklearn.linear_model import LinearRegression\n",
    "model = LinearRegression(fit_intercept=True)\n",
    "\n",
    "# np.newaxis нужен, чтобы добавить размерность\n",
    "model.fit(x[:, np.newaxis], y)\n",
    "\n",
    "x_predict = np.linspace(0, 10, 1000)\n",
    "y_predict = model.predict(x_predict[:, np.newaxis])\n",
    "\n",
    "plt.plot(x, y, 'o')\n",
    "plt.grid()\n",
    "plt.plot(x_predict, y_predict)"
   ]
  },
  {
   "cell_type": "code",
   "execution_count": null,
   "metadata": {
    "collapsed": false
   },
   "outputs": [],
   "source": [
    "print(\"Коэффициент уклона:    \", model.coef_[0])\n",
    "print(\"Коэффициент смещения: \", model.intercept_)"
   ]
  },
  {
   "cell_type": "markdown",
   "metadata": {},
   "source": [
    "Видим, что полученные коэффициенты близки к тем, что мы задали изначально $\\alpha=2$ и $\\beta=-5$"
   ]
  },
  {
   "cell_type": "markdown",
   "metadata": {},
   "source": [
    "___\n",
    "___"
   ]
  },
  {
   "cell_type": "markdown",
   "metadata": {},
   "source": [
    "![](https://theneural.files.wordpress.com/2011/07/valid2.jpeg)"
   ]
  },
  {
   "cell_type": "markdown",
   "metadata": {},
   "source": [
    "В анализе данных есть два эпата: обучение модели и валидация. На этапе обучения модель видит и объекты, и целевую переменную. На этих данных настраиваются веса. На этапе валидации в модель подаются объекты, которых не было на эпате обучения, без целевой переменной, и модель уже самостоятельно получает решение.\n",
    "\n",
    "Метрика `mean_squared_error` или `MSE` оценивает величину ошибки. Она вычисляется отдельно для предсказаний на обучении и на валидации."
   ]
  },
  {
   "cell_type": "code",
   "execution_count": null,
   "metadata": {
    "collapsed": false
   },
   "outputs": [],
   "source": [
    "from sklearn.metrics import mean_squared_error\n",
    "np.random.seed(67)\n",
    "\n",
    "number_of_samples = 1000\n",
    "X1 = np.random.normal(loc=0.0, scale=1, size=number_of_samples)\n",
    "noise = np.random.normal(loc=0.0, scale=0.1, size=number_of_samples)\n",
    "Y = 1 + X1 + noise\n",
    "\n",
    "variables_list = [X1]\n",
    "for i in range(100):\n",
    "    variables_list.append(np.random.normal(loc=0.0, scale=0.1, size=number_of_samples))\n",
    "\n",
    "X = np.column_stack(variables_list)\n",
    "ntr = int(0.5 * X.shape[0])\n",
    "\n",
    "model = LinearRegression()\n",
    "model.fit(X[:ntr,:], Y[:ntr])\n",
    "\n",
    "Y_predicted = model.predict(X)\n",
    "train_error = mean_squared_error(Y_predicted[:ntr], Y[:ntr])\n",
    "val_error = mean_squared_error(Y_predicted[ntr:], Y[ntr:])\n",
    "print('Ошибка на обучении:  \\t',train_error)\n",
    "print('Ошибка на валидации:\\t',mean_squared_error(Y_predicted[ntr:], Y[ntr:]))\n",
    "print('Разница:\\t\\t', val_error - train_error)"
   ]
  },
  {
   "cell_type": "markdown",
   "metadata": {},
   "source": [
    "___\n",
    "___\n"
   ]
  },
  {
   "cell_type": "markdown",
   "metadata": {},
   "source": [
    "![](https://i.stack.imgur.com/t0zit.png)"
   ]
  },
  {
   "cell_type": "markdown",
   "metadata": {},
   "source": [
    "Модель может недообучаться, обучаться хорошо и переобучаться."
   ]
  },
  {
   "cell_type": "markdown",
   "metadata": {
    "collapsed": true
   },
   "source": [
    "Визуализируем эффект переобучения. Сгенерируем данные:"
   ]
  },
  {
   "cell_type": "code",
   "execution_count": null,
   "metadata": {
    "collapsed": false
   },
   "outputs": [],
   "source": [
    "number_of_samples = 1000\n",
    "X1 = normal(loc=0.0, scale=1, size=number_of_samples)\n",
    "noise = normal(loc=0.0, scale=1.2, size=number_of_samples)\n",
    "Y = 1 + X1 + noise\n",
    "plt.grid()\n",
    "plt.plot(X1, Y, 'o')"
   ]
  },
  {
   "cell_type": "markdown",
   "metadata": {},
   "source": [
    "Попробуем приближать данные разными степенями полинома:\n",
    "$$\n",
    "  y(x) = a_0 + a_1x + \\ldots + a_nx^n\n",
    "$$\n",
    "\n",
    "Поэкспериментируйте с разными значениями степени и проанализируйте результаты:"
   ]
  },
  {
   "cell_type": "code",
   "execution_count": null,
   "metadata": {
    "collapsed": false
   },
   "outputs": [],
   "source": [
    "number_of_samples = 1000\n",
    "X1 = normal(loc=0.0, scale=1, size=number_of_samples)\n",
    "noise = normal(loc=0.0, scale=1.2, size=number_of_samples)\n",
    "Y = 1 + X1 + noise\n",
    "\n",
    "\n",
    "max_power = # YOUR CODE HERE\n",
    "\n",
    "variables_list = []\n",
    "for i in range(max_power):\n",
    "    variables_list.append(X1 ** i)\n",
    "\n",
    "X = np.column_stack(variables_list)\n",
    "ntr = int(0.5 * X.shape[0])\n",
    "\n",
    "# определение линейной модели\n",
    "model = # YOUR CODE HERE\n",
    "\n",
    "# обучение заданной модели на обучающей (первые ntr строк) выборке\n",
    "# YOUR CODE HERE\n",
    "\n",
    "# предсказание ответов для всей выборки\n",
    "Y_predicted = # YOUR CODE HERE\n",
    "\n",
    "train_error = mean_squared_error(Y_predicted[:ntr], Y[:ntr])\n",
    "val_error = mean_squared_error(Y_predicted[ntr:], Y[ntr:])\n",
    "print('Ошибка на обучении:  \\t',train_error)\n",
    "print('Ошибка на валидации:\\t',mean_squared_error(Y_predicted[ntr:], Y[ntr:]))\n",
    "print('Разница:\\t\\t', val_error - train_error)\n",
    "\n",
    "\n",
    "f, (ax1, ax2) = plt.subplots(1, 2, figsize=(16, 8))\n",
    "\n",
    "ax1.plot(X1, Y, 'o')\n",
    "ax1.set_ylim(Y.min(), Y.max())\n",
    "\n",
    "ax2.plot(X1[:ntr], Y[:ntr], 'o')\n",
    "ax2.plot(X1[ntr:], Y_predicted[ntr:], 'o')\n",
    "# comment the line below to see all dots\n",
    "ax2.set_ylim(Y.min(), Y.max())"
   ]
  },
  {
   "cell_type": "markdown",
   "metadata": {},
   "source": [
    "___\n",
    "___\n",
    "## Задание"
   ]
  },
  {
   "cell_type": "markdown",
   "metadata": {},
   "source": [
    "В данном задании будем строить модель линейной регрессии, используя Boston Housing Dataset."
   ]
  },
  {
   "cell_type": "code",
   "execution_count": null,
   "metadata": {
    "collapsed": false
   },
   "outputs": [],
   "source": [
    "data.head()"
   ]
  },
  {
   "cell_type": "markdown",
   "metadata": {},
   "source": [
    "Предсказываем на основе всех признаков цену на жилье (PRICE)."
   ]
  },
  {
   "cell_type": "code",
   "execution_count": null,
   "metadata": {
    "collapsed": true
   },
   "outputs": [],
   "source": [
    "X = #YOUR CODE\n",
    "Y = #YOUR CODE\n",
    "ntr = #YOUR CODE\n",
    "\n",
    "# определение линейной модели\n",
    "model = # YOUR CODE HERE\n",
    "\n",
    "# обучение заданной модели на обучающей (первые ntr строк) выборке\n",
    "# YOUR CODE HERE\n",
    "\n",
    "# предсказание ответов для всей выборки\n",
    "Y_predicted = # YOUR CODE HERE\n",
    "\n",
    "train_error = # YOUR CODE HERE\n",
    "val_error = # YOUR CODE HERE\n",
    "print('Ошибка на обучении:  \\t',train_error)\n",
    "print('Ошибка на валидации:\\t',mean_squared_error(Y_predicted[ntr:], Y[ntr:]))\n",
    "print('Разница:\\t\\t', val_error - train_error)"
   ]
  }
 ],
 "metadata": {
  "anaconda-cloud": {},
  "kernelspec": {
   "display_name": "Python [default]",
   "language": "python",
   "name": "python3"
  },
  "language_info": {
   "codemirror_mode": {
    "name": "ipython",
    "version": 3
   },
   "file_extension": ".py",
   "mimetype": "text/x-python",
   "name": "python",
   "nbconvert_exporter": "python",
   "pygments_lexer": "ipython3",
   "version": "3.5.2"
  }
 },
 "nbformat": 4,
 "nbformat_minor": 1
}
