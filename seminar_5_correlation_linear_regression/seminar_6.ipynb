{
 "cells": [
  {
   "cell_type": "code",
   "execution_count": null,
   "metadata": {},
   "outputs": [],
   "source": [
    "import numpy as np\n",
    "import pandas as pd\n",
    "import matplotlib.pyplot as plt\n",
    "%matplotlib inline"
   ]
  },
  {
   "cell_type": "markdown",
   "metadata": {},
   "source": [
    "# Корреляция "
   ]
  },
  {
   "cell_type": "markdown",
   "metadata": {},
   "source": [
    "![](https://idatassist.com/wp-content/uploads/2017/04/dreamstime_m_37904189-610x461.jpg)"
   ]
  },
  {
   "cell_type": "markdown",
   "metadata": {},
   "source": [
    "Напомним определение коэффициента корреляции между векторами $x = (x_1, \\ldots, x_n)$ и $y = (y_1, \\ldots, y_n)$:\n",
    "\n",
    "$$\n",
    "  \\rho = \\frac{\\sum_{i=1}^n (x_i - \\overline x)(y_i - \\overline y)}{\\sqrt{\\sum_{i=1}^n (x_i - \\overline x)^2} \\sqrt{\\sum_{i=1}^n (y_i - \\overline y)^2}}\n",
    "$$\n",
    "\n",
    "Более подробное описание есть в лекционных [слайдах](https://drive.google.com/file/d/1pM1NKSXlIj47EM2w5LK_9lX-f6kIK2q_/view).\n",
    "\n",
    "\n",
    "Для демонстрации эффекта зависимости в данных загрузим датасет с потреблением топлива различными видами транспорта:"
   ]
  },
  {
   "cell_type": "code",
   "execution_count": null,
   "metadata": {},
   "outputs": [],
   "source": [
    "path = 'http://archive.ics.uci.edu/ml/machine-learning-databases/auto-mpg/auto-mpg.data'\n",
    "\n",
    "mpg_data = pd.read_csv(\n",
    "    path,\n",
    "    delim_whitespace=True, header=None,\n",
    "    names = [\n",
    "        'mpg', 'cylinders', 'displacement',\n",
    "        'horsepower', 'weight', 'acceleration',\n",
    "        'model_year', 'origin', 'name'\n",
    "    ],\n",
    "    na_values='?',\n",
    ")\n",
    "mpg_data.head()"
   ]
  },
  {
   "cell_type": "markdown",
   "metadata": {},
   "source": [
    "Удалим пропуски:"
   ]
  },
  {
   "cell_type": "code",
   "execution_count": null,
   "metadata": {},
   "outputs": [],
   "source": [
    "mpg_data = mpg_data.dropna()"
   ]
  },
  {
   "cell_type": "markdown",
   "metadata": {},
   "source": [
    "Посмотрим на коэффициент корреляции между скоростью потребления топлива `mpg` (miles per gallon, галлон $\\approx 3.785$ литра) с весом:"
   ]
  },
  {
   "cell_type": "code",
   "execution_count": null,
   "metadata": {},
   "outputs": [],
   "source": [
    "print(\"Коэффициент корреляции: \", np.corrcoef(mpg_data.mpg, mpg_data.weight)[0, 1])"
   ]
  },
  {
   "cell_type": "markdown",
   "metadata": {},
   "source": [
    "Наблюдаем сильную отрицательную корреляцию.\n",
    "\n",
    "Что это значит:\n",
    "- если вес транспортного средства большой, то одного галлона хватает на не очень большое количество миль\n",
    "- если транспорт лёгкий, то на одном галлоне он сможет проехать большее расстояние, чем тяжёлый\n",
    "- т.е. с увеличением веса уменьшается расстояние, которое можно проехать, потратив фиксированное количество топлива\n",
    "\n",
    "Такую ситуацию можно искусственно смоделировать:\n",
    "- например, сохраним в переменную значения столбца `acceleration`\n",
    "- создадим переменную с теми же значениями, но немного зашумлёнными: такое могло произойти при сломанном датчике, использованном для замерения ускорения"
   ]
  },
  {
   "cell_type": "code",
   "execution_count": null,
   "metadata": {},
   "outputs": [],
   "source": [
    "X = mpg_data.acceleration\n",
    "Y = X + np.random.normal(0, 1, size=len(X))\n",
    "\n",
    "print(\"Коэффициент корреляции: \", np.corrcoef(X, Y)[0, 1])"
   ]
  },
  {
   "cell_type": "markdown",
   "metadata": {},
   "source": [
    "Можно наблюдать положительную корреляцию между векторами:"
   ]
  },
  {
   "cell_type": "code",
   "execution_count": null,
   "metadata": {},
   "outputs": [],
   "source": [
    "print('Correlation of X and Y: ', np.corrcoef(X, Y)[0, 1])\n",
    "\n",
    "plt.scatter(X,Y)\n",
    "plt.grid()\n",
    "plt.xlabel('X Value')\n",
    "plt.ylabel('Y Value')\n",
    "plt.show()"
   ]
  },
  {
   "cell_type": "markdown",
   "metadata": {},
   "source": [
    "Аналогичным образом можно смоделировать отрицательную корреляцию между векторами."
   ]
  },
  {
   "cell_type": "markdown",
   "metadata": {},
   "source": [
    "Если корреляция близка к нулю, то между векторами либо нет зависимости, либо она очень слабая. Например, случайные числа никак не взаимосвязаны:"
   ]
  },
  {
   "cell_type": "code",
   "execution_count": null,
   "metadata": {},
   "outputs": [],
   "source": [
    "X = np.random.normal(0, 1, 50)\n",
    "Y = np.random.normal(0, 1, 50)\n",
    "\n",
    "print('Correlation of X and Y: ', np.corrcoef(X, Y)[0, 1])\n",
    "\n",
    "plt.scatter(X,Y)\n",
    "plt.grid()\n",
    "plt.xlabel('X Value')\n",
    "plt.ylabel('Y Value')\n",
    "plt.show()"
   ]
  },
  {
   "cell_type": "markdown",
   "metadata": {},
   "source": [
    "Постройте график зависимости для рассмотренных ранее столбцов `mpg` и `weight`:"
   ]
  },
  {
   "cell_type": "code",
   "execution_count": null,
   "metadata": {},
   "outputs": [],
   "source": [
    "# YOUR CODE"
   ]
  },
  {
   "cell_type": "markdown",
   "metadata": {},
   "source": [
    "___\n",
    "## Задание "
   ]
  },
  {
   "cell_type": "markdown",
   "metadata": {},
   "source": [
    "Рассмотрите другие пары признаков в датасете. Найдите среди них те, которые\n",
    "- слабо коррелируют друг с другом (коэффициент корреляции по модулю $< 2$)\n",
    "- имеют сильную положительную корреляцию\n",
    "\n",
    "Для каждой пары постройте график зависимости, аналогичный предыдущему."
   ]
  },
  {
   "cell_type": "code",
   "execution_count": null,
   "metadata": {},
   "outputs": [],
   "source": [
    "# YOUR CODE"
   ]
  },
  {
   "cell_type": "markdown",
   "metadata": {},
   "source": [
    "# Линейная регрессия "
   ]
  },
  {
   "cell_type": "markdown",
   "metadata": {},
   "source": [
    "Подробное описание можно найти в лекционных [слайдах](https://drive.google.com/file/d/1Eyedj7ELliNHYVYzZSYvAj8j8YTlrhHE/view).\n",
    "\n",
    "\n",
    "**TL;DR**\n",
    "\n",
    "Попытаемся предсказать (объяснить) величину $y$ через набор числовых характеристик $x_1, \\ldots, x_n$.\n",
    "Будем предполагать и надеяться, что величина $y$ не просто зависит от этих характеристик, но и выражается следующим образом:\n",
    "$$y = \\beta + \\alpha_1x_1 + \\alpha_2x_2+...+\\alpha_nx_n + \\varepsilon,$$\n",
    "где $\\varepsilon$ -- нормально распределённый шум, а коэффициенты при характеристиках -- неизвестны.\n",
    "\n",
    "Чтобы в дальнейшем иметь возможность угадывать $y$ только по заданным $x_1, \\ldots, x_n$, надо подобрать коэффициенты, близкие к реальным (реальные нам неизвестны):\n",
    "$$y \\approx \\hat y = b + a_1x_1 + a_2x_2+...+a_nx_n$$\n",
    "\n",
    "Подбор параметров $b \\approx \\beta, a_1 \\approx \\alpha_1, \\ldots, a_n \\approx \\alpha_n$ происходит за счёт минимизации суммарной ошибки по всем известным объектам:\n",
    "$$MSE = \\sum (y_i - \\hat{y}_i)^2$$\n",
    "\n",
    "___"
   ]
  },
  {
   "cell_type": "markdown",
   "metadata": {},
   "source": [
    "\n",
    "Начнем с самого простого вида линейной регрессии, когда есть только зависимость от одного признака\n",
    "$$y=\\beta + \\alpha x+ \\varepsilon,$$\n",
    "где $\\alpha$ -- это коэффициент наклона прямой, $\\beta$ -- коэффициент смещения, $\\varepsilon$ -- нормально распределённый шум.\n",
    "\n",
    "Посмотрим ещё раз на зависимость потребления топлива от веса транспортного средства:"
   ]
  },
  {
   "cell_type": "code",
   "execution_count": null,
   "metadata": {},
   "outputs": [],
   "source": [
    "X = mpg_data.weight\n",
    "Y = mpg_data.mpg\n",
    "\n",
    "print('Correlation of X and Y: ', np.corrcoef(X, Y)[0, 1])\n",
    "\n",
    "plt.scatter(X,Y)\n",
    "plt.grid()\n",
    "plt.xlabel('weight')\n",
    "plt.ylabel('mpg')\n",
    "plt.show()"
   ]
  },
  {
   "cell_type": "markdown",
   "metadata": {},
   "source": [
    "Попробуем вручную подобрать прямую, которая будет приближать наши данные. Как минимум, по коэффициенту корреляции мы уже видим, что коэффициент $\\alpha < 0$."
   ]
  },
  {
   "cell_type": "code",
   "execution_count": null,
   "metadata": {},
   "outputs": [],
   "source": [
    "X = mpg_data.weight\n",
    "Y = mpg_data.mpg\n",
    "\n",
    "# Инициализация коэффициентов.\n",
    "# Подберите такие значения, чтобы отображаемая прямая хорошо приближала исходные данные.\n",
    "alpha = -1\n",
    "beta = 0\n",
    "Y_hat = alpha * X + beta\n",
    "\n",
    "print('Correlation of X and Y: ', np.corrcoef(X, Y)[0, 1])\n",
    "\n",
    "plt.scatter(X,Y)\n",
    "plt.plot(X, Y_hat, 'r')\n",
    "plt.grid()\n",
    "plt.xlabel('weight')\n",
    "plt.ylabel('mpg')\n",
    "plt.show()"
   ]
  },
  {
   "cell_type": "markdown",
   "metadata": {},
   "source": [
    "Конечно, обычно никто не подбирает коэффициенты вручную, для этого есть питон и библиотеки.\n",
    "\n",
    "Можем использовать модель `LinearRegression` из библиотеки `sklearn`, чтобы найти наилучший вариант прямой, описывающей наши данные:"
   ]
  },
  {
   "cell_type": "code",
   "execution_count": null,
   "metadata": {},
   "outputs": [],
   "source": [
    "from sklearn.linear_model import LinearRegression\n",
    "\n",
    "\n",
    "X = mpg_data.weight\n",
    "Y = mpg_data.mpg\n",
    "\n",
    "model = LinearRegression(fit_intercept=True)\n",
    "\n",
    "# np.newaxis нужен, чтобы добавить размерность\n",
    "model.fit(X[:, np.newaxis], Y)\n",
    "\n",
    "x_predict = np.linspace(1000, 5000, 10)\n",
    "y_predict = model.predict(x_predict[:, np.newaxis])\n",
    "\n",
    "plt.plot(X, Y, 'o')\n",
    "plt.grid()\n",
    "plt.plot(x_predict, y_predict, 'r')"
   ]
  },
  {
   "cell_type": "markdown",
   "metadata": {},
   "source": [
    "Посмотрим, получились ли коэффициенты близкими к тому, что мы попытались угадать:"
   ]
  },
  {
   "cell_type": "code",
   "execution_count": null,
   "metadata": {
    "scrolled": true
   },
   "outputs": [],
   "source": [
    "print(\"Коэффициент уклона:    \", model.coef_[0])\n",
    "print(\"Коэффициент смещения: \", model.intercept_)"
   ]
  },
  {
   "cell_type": "markdown",
   "metadata": {},
   "source": [
    "Аналогичным образом можно обучить модель на всех признаках, а не только на одном. Но визуализировать это уже будет сложновато, так что понадобится какая-то метрика оценивания качества предсказаний."
   ]
  },
  {
   "cell_type": "markdown",
   "metadata": {},
   "source": [
    "![](https://theneural.files.wordpress.com/2011/07/valid2.jpeg)"
   ]
  },
  {
   "cell_type": "markdown",
   "metadata": {},
   "source": [
    "В анализе данных есть два эпата: обучение модели и валидация. На этапе обучения модель видит и объекты, и целевую переменную. На этих данных настраиваются веса. На этапе валидации в модель подаются объекты, которых не было на эпате обучения, без целевой переменной, и модель уже самостоятельно получает решение.\n",
    "\n",
    "Метрика `mean_squared_error` или `MSE` оценивает величину ошибки. Она вычисляется отдельно для предсказаний на обучении и на валидации.\n",
    "\n",
    "---\n",
    "\n",
    "Для начала подготовим данные:\n",
    "- выделим в отдельную переменную то, что предсказывается, т.е. столбец `mpg`\n",
    "- а ещё сохраним все остальные столбцы с числовыми значениями, которые будут нашими признаками"
   ]
  },
  {
   "cell_type": "code",
   "execution_count": null,
   "metadata": {},
   "outputs": [],
   "source": [
    "Y = mpg_data.mpg\n",
    "X = mpg_data.drop(['mpg', 'name'], axis=1)\n",
    "X.shape, Y.shape"
   ]
  },
  {
   "cell_type": "markdown",
   "metadata": {},
   "source": [
    "Теперь поключим необходимые функции для разделения выборки на обучающую и тестовую, а также для оценивания качества модели:"
   ]
  },
  {
   "cell_type": "code",
   "execution_count": null,
   "metadata": {},
   "outputs": [],
   "source": [
    "from sklearn.model_selection import train_test_split\n",
    "from sklearn.metrics import mean_squared_error"
   ]
  },
  {
   "cell_type": "code",
   "execution_count": null,
   "metadata": {},
   "outputs": [],
   "source": [
    "X_train, X_val, Y_train, Y_val = train_test_split(X, Y)\n",
    "\n",
    "model = LinearRegression()\n",
    "model.fit(X_train, Y_train)\n",
    "\n",
    "Y_train_predicted = model.predict(X_train)\n",
    "Y_val_predicted = model.predict(X_val)\n",
    "train_error = mean_squared_error(Y_train_predicted, Y_train)\n",
    "val_error = mean_squared_error(Y_val_predicted, Y_val)\n",
    "\n",
    "print('Ошибка на обучении:  \\t', train_error)\n",
    "print('Ошибка на валидации:\\t', val_error)\n",
    "print('Разница:\\t\\t', val_error - train_error)"
   ]
  },
  {
   "cell_type": "markdown",
   "metadata": {},
   "source": [
    "___\n",
    "___\n"
   ]
  },
  {
   "cell_type": "markdown",
   "metadata": {},
   "source": [
    "![](https://i.stack.imgur.com/t0zit.png)"
   ]
  },
  {
   "cell_type": "markdown",
   "metadata": {},
   "source": [
    "Модель может недообучаться, обучаться хорошо и переобучаться."
   ]
  },
  {
   "cell_type": "markdown",
   "metadata": {
    "collapsed": true
   },
   "source": [
    "Визуализируем эффект переобучения. Вновь обратимся к зависимости потребления топлива от веса транспорта.\n",
    "\n",
    "Напомним, что зависимость у этих величин наблюдалась не совсем линейная:"
   ]
  },
  {
   "cell_type": "code",
   "execution_count": null,
   "metadata": {},
   "outputs": [],
   "source": [
    "X1 = mpg_data.weight\n",
    "Y = mpg_data.mpg\n",
    "\n",
    "plt.grid()\n",
    "plt.plot(X1, Y, 'o')"
   ]
  },
  {
   "cell_type": "markdown",
   "metadata": {},
   "source": [
    "Попробуем приближать данные разными степенями полинома:\n",
    "$$\n",
    "  y(x) = a_0 + a_1x + \\ldots + a_nx^n\n",
    "$$\n",
    "\n",
    "Поэкспериментируйте с разными значениями степени и проанализируйте результаты:"
   ]
  },
  {
   "cell_type": "code",
   "execution_count": null,
   "metadata": {},
   "outputs": [],
   "source": [
    "# X1 хранит первую степень значений (т.е. просто исходные данные).\n",
    "X1 = mpg_data.weight\n",
    "Y = mpg_data.mpg\n",
    "\n",
    "max_power = 1  # эту переменную можно менять и смотреть, что происходит\n",
    "\n",
    "variables_list = []\n",
    "for i in range(1, max_power + 1):\n",
    "    variables_list.append(X1 ** i)\n",
    "\n",
    "X = np.column_stack(variables_list)\n",
    "\n",
    "# Разделите выборку на train и validation с помощью функции train_test_split.\n",
    "# YOUR CODE\n",
    "\n",
    "# Определите линейную модель.\n",
    "model = # YOUR CODE\n",
    "# Обучите модель на обучающей (!) выборке.\n",
    "# YOUR CODE\n",
    "\n",
    "# Предскажите ответы для обучающей и тестовой выборки.\n",
    "Y_train_predicted = # YOUR CODE\n",
    "Y_val_predicted = # YOUR CODE\n",
    "\n",
    "# Подсчёт среднеквадратичной ошибки на обучающей и контрольной выборках.\n",
    "train_error = mean_squared_error(Y_train_predicted, Y_train)\n",
    "val_error = mean_squared_error(Y_val_predicted, Y_val)\n",
    "print('Ошибка на обучении:  \\t', train_error)\n",
    "print('Ошибка на валидации:\\t', val_error)\n",
    "print('Разница:\\t\\t', val_error - train_error)\n",
    "\n",
    "\n",
    "f, (ax1, ax2) = plt.subplots(1, 2, figsize=(16, 8))\n",
    "ax1.plot(X_train[:, 0], Y_train, 'o')\n",
    "ax1.plot(X_train[:, 0], Y_train_predicted, 'o')\n",
    "ax1.set_ylim(Y.min(), Y.max())\n",
    "ax1.set_title('Train samples and prediction.')\n",
    "\n",
    "ax2.plot(X_val[:, 0], Y_val, 'o')\n",
    "ax2.plot(X_val[:, 0], Y_val_predicted, 'o')\n",
    "ax2.set_title('Test samples and prediction.')\n",
    "# comment the line below to see all dots\n",
    "# ax2.set_ylim(Y.min(), Y.max())"
   ]
  },
  {
   "cell_type": "markdown",
   "metadata": {},
   "source": [
    "___\n",
    "___\n",
    "## Задание"
   ]
  },
  {
   "cell_type": "markdown",
   "metadata": {},
   "source": [
    "В данном задании будем строить модель линейной регрессии, используя Boston Housing Dataset."
   ]
  },
  {
   "cell_type": "code",
   "execution_count": null,
   "metadata": {},
   "outputs": [],
   "source": [
    "from sklearn.datasets import load_boston\n",
    "boston = load_boston()\n",
    "print(boston.DESCR)"
   ]
  },
  {
   "cell_type": "code",
   "execution_count": null,
   "metadata": {},
   "outputs": [],
   "source": [
    "data = pd.DataFrame(boston.data, columns = boston.feature_names)\n",
    "data['PRICE'] = boston.target\n",
    "data.head()"
   ]
  },
  {
   "cell_type": "markdown",
   "metadata": {},
   "source": [
    "Необходимо найти коэффициент корреляции между двумя различными парами признаков и изобразить эти признаки на графике (как мы делали выше)."
   ]
  },
  {
   "cell_type": "code",
   "execution_count": null,
   "metadata": {},
   "outputs": [],
   "source": [
    "x = # YOUR CODE\n",
    "y = # YOUR CODE\n",
    "\n",
    "# YOUR CODE"
   ]
  },
  {
   "cell_type": "markdown",
   "metadata": {},
   "source": [
    "В дальнейшем, чтобы не смотреть коэффициент корреляции для каждой пары отдельно, можно вывести корреляционную таблицу сразу для всех признаков:"
   ]
  },
  {
   "cell_type": "code",
   "execution_count": null,
   "metadata": {
    "scrolled": true
   },
   "outputs": [],
   "source": [
    "mpg_data.corr()"
   ]
  },
  {
   "cell_type": "code",
   "execution_count": null,
   "metadata": {
    "scrolled": true
   },
   "outputs": [],
   "source": [
    "data.corr()"
   ]
  },
  {
   "cell_type": "markdown",
   "metadata": {},
   "source": [
    "Позже мы научимся её удобно визуализировать."
   ]
  },
  {
   "cell_type": "markdown",
   "metadata": {},
   "source": [
    "Теперь предскажем на основе всех признаков цену на жилье (PRICE)."
   ]
  },
  {
   "cell_type": "code",
   "execution_count": null,
   "metadata": {},
   "outputs": [],
   "source": [
    "X = #YOUR CODE\n",
    "Y = #YOUR CODE\n",
    "\n",
    "# Разделите выборку на train и validation с помощью функции train_test_split.\n",
    "# YOUR CODE\n",
    "\n",
    "# Определите линейную модель.\n",
    "model = # YOUR CODE\n",
    "# Обучите модель на обучающей (!) выборке.\n",
    "# YOUR CODE\n",
    "\n",
    "# Предскажите ответы для обучающей и тестовой выборки.\n",
    "Y_train_predicted = # YOUR CODE\n",
    "Y_val_predicted = # YOUR CODE\n",
    "\n",
    "# Подсчёт среднеквадратичной ошибки на обучающей и контрольной выборках.\n",
    "train_error = mean_squared_error(Y_train_predicted, Y_train)\n",
    "val_error = mean_squared_error(Y_val_predicted, Y_val)\n",
    "print('Ошибка на обучении:  \\t', train_error)\n",
    "print('Ошибка на валидации:\\t', val_error)\n",
    "print('Разница:\\t\\t', val_error - train_error)"
   ]
  }
 ],
 "metadata": {
  "anaconda-cloud": {},
  "kernelspec": {
   "display_name": "Python 3",
   "language": "python",
   "name": "python3"
  },
  "language_info": {
   "codemirror_mode": {
    "name": "ipython",
    "version": 3
   },
   "file_extension": ".py",
   "mimetype": "text/x-python",
   "name": "python",
   "nbconvert_exporter": "python",
   "pygments_lexer": "ipython3",
   "version": "3.6.4"
  }
 },
 "nbformat": 4,
 "nbformat_minor": 1
}
