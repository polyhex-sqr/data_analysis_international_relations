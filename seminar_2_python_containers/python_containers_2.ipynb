{
 "cells": [
  {
   "cell_type": "markdown",
   "metadata": {},
   "source": [
    "# 1. Списки"
   ]
  },
  {
   "cell_type": "markdown",
   "metadata": {},
   "source": [
    "*Список* можно создать, заключив его элементы в квадратные скобки `[]`.\n",
    "\n",
    "Пустой список можно создать либо с помощью скобок `[]`, либо с помощью функции `list()`.\n",
    "\n",
    "Можно:\n",
    "- складывать\n",
    "- умножать\n",
    "- обращаться к элементу по индексу **(нумерация с элементов списка начинается с $0$)**\n",
    "- обращаться сразу к нескольким элементам (slice)\n",
    "- присваивать значение по индексу\n",
    "- добавлять значения в конец списка (см. встроенные методы класса `list`)"
   ]
  },
  {
   "cell_type": "code",
   "execution_count": null,
   "metadata": {},
   "outputs": [],
   "source": [
    "list1 = ['la']  # создание нового листа с одним объектом\n",
    "print('list1:' , list1)\n",
    "list12 = list1 * 3\n",
    "print('list1 * 3:', list12)\n",
    "\n",
    "list2 = [2, 3] + list12  # сложение листов\n",
    "print('\\nlist2:', list2)\n",
    "print('list2[2]:', list2[2])\n",
    "print('длина list2:', len(list2))  # функция len выводит длину листа"
   ]
  },
  {
   "cell_type": "code",
   "execution_count": null,
   "metadata": {},
   "outputs": [],
   "source": [
    "list1.append(list2) #добавляем элемент в конец списка\n",
    "print('\\nlist1.append(list2):', list1)"
   ]
  },
  {
   "cell_type": "markdown",
   "metadata": {},
   "source": [
    "Конструкция `list[i1:i2]` позволяет получить доступ ко всем элементам с `i1`-го по `i2 - 1`-ый включительно:"
   ]
  },
  {
   "cell_type": "code",
   "execution_count": null,
   "metadata": {},
   "outputs": [],
   "source": [
    "print('list2[0:4]:', list2[0:4])"
   ]
  },
  {
   "cell_type": "markdown",
   "metadata": {},
   "source": [
    "**Важно**: никогда, <span style=\"color:red\">**никогда**</span> не давайте переменной имя, которое \"зарезервировано\" питоном. Например, нельзя называть переменные такими именами:\n",
    "- len\n",
    "- print\n",
    "- list\n",
    "- def\n",
    "- dict\n",
    "\n",
    "Такие имена обычно подсвечиваются в Jupyter Notebook <span style=\"color:green\">зелёным</span> цветом:"
   ]
  },
  {
   "cell_type": "code",
   "execution_count": null,
   "metadata": {},
   "outputs": [],
   "source": [
    "print, list, def  # если имя подкрасилось зелёным, нельзя писать конструкцию типа def = 10"
   ]
  },
  {
   "cell_type": "markdown",
   "metadata": {},
   "source": [
    "Если всё-таки такое несчастье с вами случилось, ткните кнопку *restart the kernel* справа от `■` (*interrupt the kernel*), переименуйте \"плохую\" переменную, выполните заново необходимые ячейки и **никогда так больше не делайте**."
   ]
  },
  {
   "cell_type": "markdown",
   "metadata": {},
   "source": [
    "### Задание:"
   ]
  },
  {
   "cell_type": "markdown",
   "metadata": {},
   "source": [
    "Создайте лист с названиями первых десяти стран по численности населения:"
   ]
  },
  {
   "cell_type": "code",
   "execution_count": null,
   "metadata": {},
   "outputs": [],
   "source": [
    "countries = #YOUR CODE"
   ]
  },
  {
   "cell_type": "markdown",
   "metadata": {},
   "source": [
    "Добавьте название 11-ой страны:"
   ]
  },
  {
   "cell_type": "code",
   "execution_count": null,
   "metadata": {},
   "outputs": [],
   "source": [
    "#YOUR CODE"
   ]
  },
  {
   "cell_type": "markdown",
   "metadata": {},
   "source": [
    "Выведите название третьей страны по численности населения:"
   ]
  },
  {
   "cell_type": "code",
   "execution_count": null,
   "metadata": {},
   "outputs": [],
   "source": [
    "#YOUR CODE"
   ]
  },
  {
   "cell_type": "markdown",
   "metadata": {},
   "source": [
    "# 2. Словари"
   ]
  },
  {
   "cell_type": "markdown",
   "metadata": {},
   "source": [
    "*Словарь* можно создать, заключив его элементы (пары `ключ:значение`) в фигурные скобки `{}`.\n",
    "\n",
    "Можно:\n",
    "- добавлять новые элементы\n",
    "- арифметические операции не поддерживаются"
   ]
  },
  {
   "cell_type": "markdown",
   "metadata": {},
   "source": [
    "Создадим пустой словарь"
   ]
  },
  {
   "cell_type": "code",
   "execution_count": null,
   "metadata": {},
   "outputs": [],
   "source": [
    "empty_dict = {}\n",
    "empty_dict"
   ]
  },
  {
   "cell_type": "code",
   "execution_count": null,
   "metadata": {},
   "outputs": [],
   "source": [
    "empty_dict = dict()\n",
    "empty_dict"
   ]
  },
  {
   "cell_type": "markdown",
   "metadata": {},
   "source": [
    "Попробуем создать новые словари двумя разными вариантами:"
   ]
  },
  {
   "cell_type": "code",
   "execution_count": null,
   "metadata": {},
   "outputs": [],
   "source": [
    "dict1 = {'human': 'человек', 'кошка': 'cat', 'дерево': 'tree'}"
   ]
  },
  {
   "cell_type": "code",
   "execution_count": null,
   "metadata": {},
   "outputs": [],
   "source": [
    "dict2 = dict(zip(['one', 'two', 'three'], [1, 2, 3])) "
   ]
  },
  {
   "cell_type": "markdown",
   "metadata": {},
   "source": [
    "Посмотрим, что получилось:"
   ]
  },
  {
   "cell_type": "code",
   "execution_count": null,
   "metadata": {},
   "outputs": [],
   "source": [
    "print(dict1)\n",
    "print(dict2)"
   ]
  },
  {
   "cell_type": "markdown",
   "metadata": {},
   "source": [
    "Выведение ключей:"
   ]
  },
  {
   "cell_type": "code",
   "execution_count": null,
   "metadata": {},
   "outputs": [],
   "source": [
    "print('dict1 keys:', dict1.keys())"
   ]
  },
  {
   "cell_type": "markdown",
   "metadata": {},
   "source": [
    "Добавление новых элементов в словарь:"
   ]
  },
  {
   "cell_type": "code",
   "execution_count": null,
   "metadata": {},
   "outputs": [],
   "source": [
    "# добавление элемента 80 в словарь по ключу 'eighty'\n",
    "dict2['eighty'] = 80\n",
    "print('added element to dict2:', dict2)"
   ]
  },
  {
   "cell_type": "markdown",
   "metadata": {},
   "source": [
    "### Задание:"
   ]
  },
  {
   "cell_type": "markdown",
   "metadata": {},
   "source": [
    "Возьмите пять стран с наибольшим ВВП за 2017 год. Найдите имена их президентов. Создайте словарь двумя разными способами, где в качестве ключей будут названия стран, а в качестве значений - имена президентов"
   ]
  },
  {
   "cell_type": "code",
   "execution_count": null,
   "metadata": {},
   "outputs": [],
   "source": [
    "#YOUR CODE"
   ]
  },
  {
   "cell_type": "markdown",
   "metadata": {},
   "source": [
    "Выведите словарь целиком и отдельно выведите ключи:"
   ]
  },
  {
   "cell_type": "code",
   "execution_count": null,
   "metadata": {},
   "outputs": [],
   "source": [
    "#YOUR CODE"
   ]
  },
  {
   "cell_type": "markdown",
   "metadata": {},
   "source": [
    "Добавьте в словарь Россию и выведите ключи нового словаря:"
   ]
  },
  {
   "cell_type": "code",
   "execution_count": null,
   "metadata": {},
   "outputs": [],
   "source": [
    "#YOUR CODE"
   ]
  },
  {
   "cell_type": "markdown",
   "metadata": {},
   "source": [
    "# 3. Условия"
   ]
  },
  {
   "cell_type": "markdown",
   "metadata": {},
   "source": [
    "![](http://krivaksin.ru/wp-content/uploads/2015/11/2015-11-11-11-51-19-Microsoft-PowerPoint-Prezentatsiya1.png)"
   ]
  },
  {
   "cell_type": "markdown",
   "metadata": {},
   "source": [
    "Синтаксис в питоне: <br />\n",
    "**if** условие1:<br />\n",
    "&emsp; команды<br />\n",
    "**elif** условие2:<br />\n",
    "&emsp; команды<br />\n",
    "**elif** условие3:<br />\n",
    "&emsp; команды<br />\n",
    "**else**: <br />\n",
    "&emsp; команды<br />\n",
    "\n",
    "Все команды пишутся с отступом. "
   ]
  },
  {
   "cell_type": "code",
   "execution_count": null,
   "metadata": {},
   "outputs": [],
   "source": [
    "# Значения переменных x и y можно менять.\n",
    "x = 1\n",
    "y = 2\n",
    "if x > y:\n",
    "    print('X больше Y')\n",
    "    print(x - y)\n",
    "elif y > x:\n",
    "    print('Y больше X')\n",
    "    print(y - x)\n",
    "else:\n",
    "    print('X равно Y')"
   ]
  },
  {
   "cell_type": "markdown",
   "metadata": {},
   "source": [
    "### Операторы сравнения"
   ]
  },
  {
   "cell_type": "markdown",
   "metadata": {},
   "source": [
    "Как правило, в качестве проверяемого условия используется результат вычисления одного из следующих операторов сравнения:\n",
    "\n",
    "<center> \n",
    "    <table>\n",
    "        <tr>\n",
    "            <th>Логическое выражение </th>\n",
    "            <th> Значение </th>\n",
    "        </tr> \n",
    "        <tr><td>&lt;</td><td> Первый операнд меньше второго </td></tr>\n",
    "        <tr><td>&gt;</td><td> Первый операнд больше второго</td></tr>\n",
    "        <tr><td>&lt;=</td><td> Меньше или равно</td></tr>\n",
    "        <tr><td>&gt;=</td><td> Больше или равно</td></tr>\n",
    "        <tr><td>==</td><td> Два операнда равны </td></tr>\n",
    "        <tr><td>!=</td><td> Два операнда не равны</td></tr>\n",
    "    </table>\n",
    "</center>"
   ]
  },
  {
   "cell_type": "code",
   "execution_count": null,
   "metadata": {},
   "outputs": [],
   "source": [
    "# Значение переменной a можно менять.\n",
    "a = 153\n",
    "\n",
    "print('\\nis it an odd number?')\n",
    "if not a % 2 == 0:\n",
    "    # не забывайте про отступ!\n",
    "    # выполнится только при выполнении условия\n",
    "    print(\"YES\")\n",
    "else:\n",
    "    # выполнится только при невыполнении условия\n",
    "    print(\"NO\")\n",
    "# выполнится в любом случае\n",
    "print(\"that's it\")"
   ]
  },
  {
   "cell_type": "markdown",
   "metadata": {},
   "source": [
    "Чтобы записать сложное логическое выражение, часто бывают нужны связки \"и\", \"или\" и \"не\".\n",
    "\n",
    "В Питоне они обозначаются как **and**, **or** и **not** соответственно.\n",
    "\n",
    "Операции **and** и **or** являеются бинарными, т.е. должны быть записаны между операндами, например x < 3 or y > 2\n",
    "\n",
    "Операция **not** - унарная и должна быть записана перед единственным своим операндом. Например not 3"
   ]
  },
  {
   "cell_type": "markdown",
   "metadata": {},
   "source": [
    "### Задание"
   ]
  },
  {
   "cell_type": "markdown",
   "metadata": {},
   "source": [
    "Даны три целых числа. Определите, сколько среди них совпадающих. Программа должна вывести одно из чисел: 3 (если все совпадают), 2 (если два совпадает) или 0 (если все числа различны)"
   ]
  },
  {
   "cell_type": "code",
   "execution_count": null,
   "metadata": {},
   "outputs": [],
   "source": [
    "# YOUR CODE"
   ]
  },
  {
   "cell_type": "markdown",
   "metadata": {},
   "source": [
    "В Питоне также можно реализовывать вложенные условные конструкции:"
   ]
  },
  {
   "cell_type": "code",
   "execution_count": null,
   "metadata": {},
   "outputs": [],
   "source": [
    "# Значение переменной num можно менять.\n",
    "num = 128\n",
    "if num > 100:\n",
    "    if num < 150:\n",
    "        print (\"Число больше ста, но меньше ста пятидесяти\")\n",
    "    elif num < 200:\n",
    "        print (\"Число больше ста, но меньше двухсот\")\n",
    "elif num > 50:\n",
    "    if num < 90:\n",
    "        print (\"Число больше пятидесяти, но меньше девяноста\")\n",
    "    else:\n",
    "        print (\"Число больше пятидесяти и больше девяноста\")\n",
    "else:\n",
    "    print (\"Число меньше пятидесяти\")"
   ]
  },
  {
   "cell_type": "markdown",
   "metadata": {},
   "source": [
    "### Задание:"
   ]
  },
  {
   "cell_type": "markdown",
   "metadata": {},
   "source": [
    "Дано натуральное число. Требуется определить, является ли год с данным номером високосным. Если год является високосным, то выведите YES, иначе выведите NO. Напомним, что в соответствии с григорианским календарем, год является високосным, если его номер кратен 4, но не кратен 100, а также если он кратен 400.\n",
    "\n",
    "**Образец**\n",
    "\n",
    "Входные данные:<br />\n",
    "4<br />\n",
    "\n",
    "Вывод программы: <br />\n",
    "YES\n"
   ]
  },
  {
   "cell_type": "code",
   "execution_count": null,
   "metadata": {},
   "outputs": [],
   "source": [
    "# YOUR CODE"
   ]
  },
  {
   "cell_type": "markdown",
   "metadata": {},
   "source": [
    "# 4. Ввод данных с клавиатуры\n",
    "Иногда для взаимодействия с пользователем требуется попросить его ввести входные числа / ответ на вопрос.\n",
    "\n",
    "Для этого в Python предусмотрена команда `input()`, которая возвращает *строку* с введёнными данными:"
   ]
  },
  {
   "cell_type": "code",
   "execution_count": null,
   "metadata": {},
   "outputs": [],
   "source": [
    "some_input = input()\n",
    "print('some_input:', some_input, type(some_input))"
   ]
  },
  {
   "cell_type": "markdown",
   "metadata": {},
   "source": [
    "Таким образом, чтобы считать число, необходимо вручную преобразовать его из строки в числовой формат:"
   ]
  },
  {
   "cell_type": "code",
   "execution_count": null,
   "metadata": {},
   "outputs": [],
   "source": [
    "some_input = float(input())\n",
    "print('some_input:', some_input, type(some_input))"
   ]
  },
  {
   "cell_type": "markdown",
   "metadata": {},
   "source": [
    "В `input()` в качестве аргумента можно передать текстовое сообщение, которое будет отображаться для пользователя перед вводом данных:"
   ]
  },
  {
   "cell_type": "code",
   "execution_count": null,
   "metadata": {},
   "outputs": [],
   "source": [
    "some_input = int(input(\"Insert a number: \"))\n",
    "print('some_input:', some_input, type(some_input))"
   ]
  },
  {
   "cell_type": "markdown",
   "metadata": {},
   "source": [
    "### Задание:"
   ]
  },
  {
   "cell_type": "markdown",
   "metadata": {},
   "source": [
    "Запросите у пользователя ввод числа `n`. Для данного числа `n<100` закончите фразу “На лугу пасется...” одним из возможных продолжений: “n коров”, “n корова”, “n коровы”, правильно склоняя слово “корова”."
   ]
  },
  {
   "cell_type": "markdown",
   "metadata": {},
   "source": [
    "Пример:\n",
    "    \n",
    "Входные данные:\n",
    "1\n",
    "\n",
    "Вывод программы:\n",
    "1 корова\n",
    "\n",
    "\n",
    "\n",
    "Входные данные:\n",
    "2\n",
    "\n",
    "Вывод программы:\n",
    "2 коровы\n",
    "\n",
    "\n",
    "\n",
    "Тест 3\n",
    "Входные данные:\n",
    "5\n",
    "\n",
    "Вывод программы:\n",
    "5 коров"
   ]
  },
  {
   "cell_type": "code",
   "execution_count": null,
   "metadata": {},
   "outputs": [],
   "source": [
    "#YOUR CODE"
   ]
  }
 ],
 "metadata": {
  "kernelspec": {
   "display_name": "Python 3",
   "language": "python",
   "name": "python3"
  },
  "language_info": {
   "codemirror_mode": {
    "name": "ipython",
    "version": 2
   },
   "file_extension": ".py",
   "mimetype": "text/x-python",
   "name": "python",
   "nbconvert_exporter": "python",
   "pygments_lexer": "ipython2",
   "version": "2.7.12"
  }
 },
 "nbformat": 4,
 "nbformat_minor": 2
}
