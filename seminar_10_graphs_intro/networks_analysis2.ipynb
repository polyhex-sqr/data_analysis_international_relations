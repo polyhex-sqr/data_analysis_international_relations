{
 "cells": [
  {
   "cell_type": "code",
   "execution_count": null,
   "metadata": {
    "collapsed": true
   },
   "outputs": [],
   "source": [
    "import numpy as np\n",
    "import pandas as pd\n",
    "import matplotlib.pyplot as plt\n",
    "%matplotlib inline\n",
    "import networkx as nx\n",
    "import seaborn as sns"
   ]
  },
  {
   "cell_type": "markdown",
   "metadata": {},
   "source": [
    "## Вспоминаем прошлый семинар\n",
    "\n",
    "Считаем данные о станциях московского метрополитена в 2014 году:"
   ]
  },
  {
   "cell_type": "code",
   "execution_count": null,
   "metadata": {},
   "outputs": [],
   "source": [
    "metro_data = #YOUR CODE"
   ]
  },
  {
   "cell_type": "markdown",
   "metadata": {},
   "source": [
    "Формат такой: две станции записаны в одной строке, если между ними есть перегон."
   ]
  },
  {
   "cell_type": "markdown",
   "metadata": {},
   "source": [
    "Загрузим данные в граф из подготовленной таблицы:\n",
    "\n"
   ]
  },
  {
   "cell_type": "code",
   "execution_count": null,
   "metadata": {},
   "outputs": [],
   "source": [
    "metro_graph = #YOUR CODE\n",
    "\n",
    "# Указываем, что направление перегона между станциями нас не интересует.\n",
    "# (как правило, можем поехать в обе стороны)\n",
    "metro_graph = nx.to_undirected(metro_graph)\n",
    "\n",
    "print(nx.info(metro_graph))"
   ]
  },
  {
   "cell_type": "markdown",
   "metadata": {},
   "source": [
    "### Метрики на графе"
   ]
  },
  {
   "cell_type": "code",
   "execution_count": null,
   "metadata": {
    "collapsed": true
   },
   "outputs": [],
   "source": [
    "degree = nx.degree_centrality(metro_graph)\n",
    "betweenness = nx.betweenness_centrality(metro_graph)\n",
    "closeness = nx.closeness_centrality(metro_graph)"
   ]
  },
  {
   "cell_type": "code",
   "execution_count": null,
   "metadata": {},
   "outputs": [],
   "source": [
    "graph_measures = {\n",
    "    'degree': degree,\n",
    "    'betweenness': betweenness,\n",
    "    'closeness': closeness,\n",
    "}\n",
    "\n",
    "pd.DataFrame(graph_measures)"
   ]
  },
  {
   "cell_type": "markdown",
   "metadata": {},
   "source": [
    "Посмотрим, какие станции обладают максимальными показателями и проинтерпретируем:"
   ]
  },
  {
   "cell_type": "code",
   "execution_count": null,
   "metadata": {},
   "outputs": [],
   "source": [
    "pd.DataFrame(graph_measures).sort_values(by='betweenness', ascending=False)"
   ]
  },
  {
   "cell_type": "markdown",
   "metadata": {},
   "source": [
    "## Реальные данные\n",
    "\n",
    "Подгрузка данных из файла-не таблицы осуществляется достаточно просто, если данные записаны в правильном формате. \n",
    "\n",
    "Примеры наиболее популярных форматов для чтения и сохранения графов (больше можно найти в документации NetworkX):\n",
    "- список смежных вершин (`nx.read_adjlist`, `nx.write_adjlist`, именно так хранятся графы в NetworkX)\n",
    "- список всех рёбер (`nx.read_edgelist`, `nx.write_edgelist`)\n",
    "\n",
    "Первые строки нашего файла `facebook_combined.txt` выглядят так:\n",
    "```\n",
    "214328887 34428380\n",
    "17116707 28465635\n",
    "380580781 18996905\n",
    "221036078 153460275\n",
    "107830991 17868918\n",
    "151338729 222261763\n",
    "```\n",
    "\n",
    "Каждое число обозначает имя вершины (грубо говоря, id пользователя) в графе. Если в одной строке записана пара чисел, значит, пользователи с соответствующими номерами находятся друг у друга в списке друзей."
   ]
  },
  {
   "cell_type": "code",
   "execution_count": null,
   "metadata": {
    "collapsed": true
   },
   "outputs": [],
   "source": [
    "facebook_users = nx.read_edgelist(\"facebook_combined.txt\")"
   ]
  },
  {
   "cell_type": "markdown",
   "metadata": {},
   "source": [
    "Узнайте, сколько граф содержит вершин и связей:"
   ]
  },
  {
   "cell_type": "code",
   "execution_count": null,
   "metadata": {
    "collapsed": true
   },
   "outputs": [],
   "source": [
    "print('Number of nodes:', #YOUR CODE)\n",
    "print('Number of edges:', #YOUR CODE)"
   ]
  },
  {
   "cell_type": "markdown",
   "metadata": {},
   "source": [
    "Попробуем нарисовать граф (может занять около минуты, поскольку вершин достаточно много):"
   ]
  },
  {
   "cell_type": "code",
   "execution_count": null,
   "metadata": {
    "collapsed": true
   },
   "outputs": [],
   "source": [
    "%%time\n",
    "plt.figure(figsize=(16, 16))\n",
    "nx.draw_networkx(facebook_users, node_color='lightblue', with_labels=False, node_size=50, alpha=0.5)\n",
    "plt.axis('off')"
   ]
  },
  {
   "cell_type": "markdown",
   "metadata": {},
   "source": [
    "Нарисуем график, отражающий распределение степеней вершины:"
   ]
  },
  {
   "cell_type": "code",
   "execution_count": null,
   "metadata": {
    "collapsed": true
   },
   "outputs": [],
   "source": [
    "degrees = dict(facebook_users.degree()) # dictionary node:degree\n",
    "values = sorted(set(degrees.values()))\n",
    "g_hist = [list(degrees.values()).count(x) for x in values]\n",
    "\n",
    "plt.figure(figsize=(7, 5))\n",
    "plt.plot(values, g_hist, 'o-') # degree\n",
    "\n",
    "plt.xlabel('Degree')\n",
    "plt.ylabel('Number of nodes')\n",
    "plt.title('Facebook users connectivity degrees')"
   ]
  },
  {
   "cell_type": "markdown",
   "metadata": {},
   "source": [
    "Это считается быстро:"
   ]
  },
  {
   "cell_type": "code",
   "execution_count": null,
   "metadata": {
    "collapsed": true
   },
   "outputs": [],
   "source": [
    "%%time\n",
    "degree = nx.degree_centrality(facebook_users)"
   ]
  },
  {
   "cell_type": "code",
   "execution_count": null,
   "metadata": {
    "collapsed": true
   },
   "outputs": [],
   "source": [
    "%%time\n",
    "eigen = nx.eigenvector_centrality(facebook_users)"
   ]
  },
  {
   "cell_type": "markdown",
   "metadata": {},
   "source": [
    "А это -- несколько минут, можно запустить заранее:"
   ]
  },
  {
   "cell_type": "code",
   "execution_count": null,
   "metadata": {
    "collapsed": true
   },
   "outputs": [],
   "source": [
    "%%time\n",
    "betweenness = nx.betweenness_centrality(facebook_users)"
   ]
  },
  {
   "cell_type": "code",
   "execution_count": null,
   "metadata": {
    "collapsed": true
   },
   "outputs": [],
   "source": [
    "%%time\n",
    "closeness = nx.closeness_centrality(facebook_users)"
   ]
  },
  {
   "cell_type": "code",
   "execution_count": null,
   "metadata": {
    "collapsed": true
   },
   "outputs": [],
   "source": [
    "graph_measures = {\n",
    "    'degree': degree,\n",
    "    'betweenness': betweenness,\n",
    "    'closeness': closeness,\n",
    "    'eigenvector': eigen,\n",
    "}\n",
    "\n",
    "pd.DataFrame(graph_measures).head()"
   ]
  }
 ],
 "metadata": {
  "kernelspec": {
   "display_name": "Python 3",
   "language": "python",
   "name": "python3"
  },
  "language_info": {
   "codemirror_mode": {
    "name": "ipython",
    "version": 3
   },
   "file_extension": ".py",
   "mimetype": "text/x-python",
   "name": "python",
   "nbconvert_exporter": "python",
   "pygments_lexer": "ipython3",
   "version": "3.6.1"
  }
 },
 "nbformat": 4,
 "nbformat_minor": 2
}
