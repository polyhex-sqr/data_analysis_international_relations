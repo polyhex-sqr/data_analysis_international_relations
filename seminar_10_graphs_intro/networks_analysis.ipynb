{
 "cells": [
  {
   "cell_type": "markdown",
   "metadata": {},
   "source": [
    "# Анализ графов в Python\n",
    "Тетрадка посвящена работе с графами в питоне на примере библиотеки NetworkX.\n",
    "\n",
    "## Обзор NetworkX\n",
    "\n",
    "NetworkX --- это питонячая библиотека, предназначенная для создания, обработки и изучения сложных сетей (aka графов). В отличие от других библиотек, которые вы можете встретить в сети (igraph, graphviz etc), она полностью написана на Python, благодаря чему ставится через Anaconda и не требует предустановки других пакетов.\n",
    "\n",
    "Материал сильно опирается на лекцию по [введению в NetworkX](https://www.cl.cam.ac.uk/~cm542/teaching/2010/stna-pdfs/stna-lecture8.pdf)."
   ]
  },
  {
   "cell_type": "code",
   "execution_count": null,
   "metadata": {},
   "outputs": [],
   "source": [
    "import networkx as nx\n",
    "\n",
    "import numpy as np\n",
    "import pandas as pd\n",
    "\n",
    "import matplotlib.pyplot as plt\n",
    "%matplotlib inline"
   ]
  },
  {
   "cell_type": "markdown",
   "metadata": {},
   "source": [
    "Пример создания простого графа:"
   ]
  },
  {
   "cell_type": "code",
   "execution_count": null,
   "metadata": {},
   "outputs": [],
   "source": [
    "# Создаём заготовку графа, в которую будут добавляться вершины и рёбра.\n",
    "g = nx.Graph()"
   ]
  },
  {
   "cell_type": "markdown",
   "metadata": {},
   "source": [
    "Добавление вершин:"
   ]
  },
  {
   "cell_type": "code",
   "execution_count": null,
   "metadata": {},
   "outputs": [],
   "source": [
    "# Вершину графа можно называть как строкой, так и числом.\n",
    "g.add_node(1)\n",
    "g.add_node('n')\n",
    "\n",
    "# Добавление нескольких вершин сразу.\n",
    "g.add_nodes_from([2, 3])"
   ]
  },
  {
   "cell_type": "markdown",
   "metadata": {},
   "source": [
    "Добавление рёбер:"
   ]
  },
  {
   "cell_type": "code",
   "execution_count": null,
   "metadata": {},
   "outputs": [],
   "source": [
    "# Указываем две вершины, которые надо соединить.\n",
    "g.add_edge(1, 'n')\n",
    "\n",
    "# Добавление нескольких рёбер между указанными вершинами.\n",
    "g.add_edges_from([(1, 2), (1, 3)])\n",
    "\n",
    "# Добавление сразу двух вершин.\n",
    "# Создаются и новые вершины, и ребро между ними!\n",
    "g.add_edge('a', 'b', weight=0.1)\n",
    "g.add_edge('b', 'c', weight=1.5)\n",
    "g.add_edge('a', 'c', weight=1)\n",
    "g.add_edge('c', 'd', weight=0.2)\n",
    "g.add_edge('c', 153, weight=1.2)"
   ]
  },
  {
   "cell_type": "markdown",
   "metadata": {},
   "source": [
    "Визуализация (при повторном запуске ячейки картинка может меняться):"
   ]
  },
  {
   "cell_type": "code",
   "execution_count": null,
   "metadata": {},
   "outputs": [],
   "source": [
    "nx.draw_networkx(g, node_color='lightblue')\n",
    "plt.axis('off')\n",
    "\n",
    "print('Graph nodes:', g.nodes())"
   ]
  },
  {
   "cell_type": "markdown",
   "metadata": {},
   "source": [
    "Вывод кратчайшего (или минимизирующего затраты) пути от одной вершины до другой:"
   ]
  },
  {
   "cell_type": "code",
   "execution_count": null,
   "metadata": {
    "scrolled": true
   },
   "outputs": [],
   "source": [
    "# Без учёта весов.\n",
    "print(nx.shortest_path(g, 'b', 'd'))\n",
    "\n",
    "# С учётом весов: теперь за переход по каждому ребру вносится плата.\n",
    "print(nx.shortest_path(g, 'b', 'd', weight='weight'))"
   ]
  },
  {
   "cell_type": "markdown",
   "metadata": {},
   "source": [
    "Точно так же, как ребру приписывался численный параметр `weight`, вершине можно приписывать любые характеристики:"
   ]
  },
  {
   "cell_type": "code",
   "execution_count": null,
   "metadata": {},
   "outputs": [],
   "source": [
    "g.add_node(\n",
    "    'node',\n",
    "    date='06.05.2018',\n",
    "    any_name='some information'\n",
    ")\n",
    "g.node['node']"
   ]
  },
  {
   "cell_type": "markdown",
   "metadata": {},
   "source": [
    "Т.е. каждый узел графа можно воспринимать как питонячий словарь `dict` с произвольными ключами и значениями.\n",
    "\n",
    "Фактически весь граф это просто словарь, где ключ -- номер вершины, значение -- набор вершин, соседних к ней:"
   ]
  },
  {
   "cell_type": "code",
   "execution_count": null,
   "metadata": {},
   "outputs": [],
   "source": [
    "g.adj"
   ]
  },
  {
   "cell_type": "code",
   "execution_count": null,
   "metadata": {},
   "outputs": [],
   "source": [
    "g['c']"
   ]
  },
  {
   "cell_type": "markdown",
   "metadata": {},
   "source": [
    "Можно вывести и другое традиционное представление графа в виде матрицы смежности:"
   ]
  },
  {
   "cell_type": "code",
   "execution_count": null,
   "metadata": {},
   "outputs": [],
   "source": [
    "nx.adjacency_matrix(g).todense()"
   ]
  },
  {
   "cell_type": "markdown",
   "metadata": {},
   "source": [
    "Получение числа вершин графа:"
   ]
  },
  {
   "cell_type": "code",
   "execution_count": null,
   "metadata": {},
   "outputs": [],
   "source": [
    "g.number_of_nodes()"
   ]
  },
  {
   "cell_type": "code",
   "execution_count": null,
   "metadata": {},
   "outputs": [],
   "source": [
    "len(g)"
   ]
  },
  {
   "cell_type": "markdown",
   "metadata": {},
   "source": [
    "Числа рёбер:"
   ]
  },
  {
   "cell_type": "code",
   "execution_count": null,
   "metadata": {},
   "outputs": [],
   "source": [
    "g.number_of_edges()"
   ]
  },
  {
   "cell_type": "markdown",
   "metadata": {},
   "source": [
    "Совокупная информация:"
   ]
  },
  {
   "cell_type": "code",
   "execution_count": null,
   "metadata": {},
   "outputs": [],
   "source": [
    "print(nx.info(g))"
   ]
  },
  {
   "cell_type": "markdown",
   "metadata": {},
   "source": [
    "При работе с графами часто бывает полезным получить доступ ко всем вершинам / рёбрам, что позволяет сделать метод `.nodes()` / `.edges()`:"
   ]
  },
  {
   "cell_type": "code",
   "execution_count": null,
   "metadata": {},
   "outputs": [],
   "source": [
    "g.nodes(data=True)"
   ]
  },
  {
   "cell_type": "code",
   "execution_count": null,
   "metadata": {},
   "outputs": [],
   "source": [
    "g.edges(data=True)"
   ]
  },
  {
   "cell_type": "code",
   "execution_count": null,
   "metadata": {
    "scrolled": true
   },
   "outputs": [],
   "source": [
    "for node in g.nodes():\n",
    "    print(node, g.degree(node))"
   ]
  },
  {
   "cell_type": "markdown",
   "metadata": {},
   "source": [
    "---\n",
    "\n",
    "Закодим простой граф.\n",
    "\n",
    "Создайте граф, содержащий $20$ вершин с именами $0, 1, \\ldots, 19$:"
   ]
  },
  {
   "cell_type": "code",
   "execution_count": null,
   "metadata": {},
   "outputs": [],
   "source": [
    "# YOUR CODE"
   ]
  },
  {
   "cell_type": "markdown",
   "metadata": {},
   "source": [
    "Добавьте рёбра, соединяющие вершины через одну ($0$ и $2$, $1$ и $3$, ..., $18$ и $0$, $19$ и $1$):"
   ]
  },
  {
   "cell_type": "code",
   "execution_count": null,
   "metadata": {},
   "outputs": [],
   "source": [
    "# YOUR CODE"
   ]
  },
  {
   "cell_type": "markdown",
   "metadata": {},
   "source": [
    "Нарисуйте полученный граф:"
   ]
  },
  {
   "cell_type": "code",
   "execution_count": null,
   "metadata": {},
   "outputs": [],
   "source": [
    "# YOUR CODE"
   ]
  },
  {
   "cell_type": "markdown",
   "metadata": {},
   "source": [
    "## Реальные данные\n",
    "\n",
    "Считаем данные о станциях московского метрополитена в 2014 году:"
   ]
  },
  {
   "cell_type": "code",
   "execution_count": null,
   "metadata": {},
   "outputs": [],
   "source": [
    "metro_data = pd.read_csv('metro_2014_pairwise.csv')\n",
    "\n",
    "metro_data.head()"
   ]
  },
  {
   "cell_type": "markdown",
   "metadata": {},
   "source": [
    "Формат такой: две станции записаны в одной строке, если между ними есть перегон."
   ]
  },
  {
   "cell_type": "markdown",
   "metadata": {},
   "source": [
    "Общее число станций:"
   ]
  },
  {
   "cell_type": "code",
   "execution_count": null,
   "metadata": {},
   "outputs": [],
   "source": [
    "len(metro_data['Start station'].unique())"
   ]
  },
  {
   "cell_type": "markdown",
   "metadata": {},
   "source": [
    "Загрузим данные в граф из подготовленной таблицы:\n",
    "\n",
    "- вершинами будут названия станций\n",
    "- ребро между двумя станциями проводится, если между станциями есть перегон"
   ]
  },
  {
   "cell_type": "code",
   "execution_count": null,
   "metadata": {},
   "outputs": [],
   "source": [
    "metro_graph = nx.from_pandas_edgelist(metro_data, source='Start station', target='End station')\n",
    "\n",
    "# Указываем, что направление перегона между станциями нас не интересует.\n",
    "# (как правило, можем поехать в обе стороны)\n",
    "metro_graph = nx.to_undirected(metro_graph)\n",
    "\n",
    "print(nx.info(metro_graph))"
   ]
  },
  {
   "cell_type": "markdown",
   "metadata": {},
   "source": [
    "Нарисуем граф и сохраним его во внешний файл (изменение размера картинки и сохранение делается средствами matplotlib'а):"
   ]
  },
  {
   "cell_type": "code",
   "execution_count": null,
   "metadata": {
    "scrolled": true
   },
   "outputs": [],
   "source": [
    "plt.figure(figsize=(40, 40)) \n",
    "\n",
    "# Можно поэкспериментировать со способом отрисовки: помимо draw_networkx есть такие:\n",
    "# draw_circular, draw_spectral, draw_random, etc.\n",
    "nx.draw_networkx(metro_graph, with_labels=True, node_color='white', node_size=500)\n",
    "\n",
    "plt.savefig('metro_2014.png', bbox_inches='tight')"
   ]
  },
  {
   "cell_type": "markdown",
   "metadata": {},
   "source": [
    "Все степени вершин доступны в поле `.degree`, которое похоже по структуре на словарь из пар Имя_вершины: Степень_вершины. Чтобы можно было работать, как со словарём, достаточно навесить преобразование `dict()`:"
   ]
  },
  {
   "cell_type": "code",
   "execution_count": null,
   "metadata": {
    "scrolled": true
   },
   "outputs": [],
   "source": [
    "dict(metro_graph.degree)"
   ]
  },
  {
   "cell_type": "markdown",
   "metadata": {},
   "source": [
    "Постройте гистограмму степеней вершин. Подпишите оси и название графика."
   ]
  },
  {
   "cell_type": "code",
   "execution_count": null,
   "metadata": {},
   "outputs": [],
   "source": [
    "# YOUR CODE"
   ]
  },
  {
   "cell_type": "markdown",
   "metadata": {},
   "source": [
    "Почему наибольшее число вершин имеет степень $2$?\n",
    "\n",
    "Выведите станцию, которая соединена с наибольшим числом станций (т.е. вершина станции имеет наибольшую степень). Для этого понадобится пройтись циклом по всем парам вершина-степень и запомнить пару с максимальной степенью."
   ]
  },
  {
   "cell_type": "code",
   "execution_count": null,
   "metadata": {},
   "outputs": [],
   "source": [
    "# YOUR CODE"
   ]
  },
  {
   "cell_type": "markdown",
   "metadata": {},
   "source": [
    "С помощью `pandas` выведите станции, на которые можно попасть напрямую от найденной (т.е. те, которые соединены с ней):"
   ]
  },
  {
   "cell_type": "code",
   "execution_count": null,
   "metadata": {},
   "outputs": [],
   "source": [
    "# YOUR CODE"
   ]
  },
  {
   "cell_type": "markdown",
   "metadata": {},
   "source": [
    "Библиотека NetworkX позволяет найти кратчайший путь между вершинами, по которому можно судить об их взаимном расположении:"
   ]
  },
  {
   "cell_type": "code",
   "execution_count": null,
   "metadata": {},
   "outputs": [],
   "source": [
    "nx.shortest_path(metro_graph, 'Сокольническая_Библиотека_имени_Ленина', 'Серпуховско-Тимирязевская_Боровицкая')"
   ]
  },
  {
   "cell_type": "code",
   "execution_count": null,
   "metadata": {},
   "outputs": [],
   "source": [
    "nx.shortest_path(metro_graph, 'Сокольническая_Библиотека_имени_Ленина', 'Серпуховско-Тимирязевская_Полянка')"
   ]
  },
  {
   "cell_type": "markdown",
   "metadata": {},
   "source": [
    "А ещё можно вывести кратчайшие пути до всех вершин от данной:"
   ]
  },
  {
   "cell_type": "code",
   "execution_count": null,
   "metadata": {
    "scrolled": true
   },
   "outputs": [],
   "source": [
    "nx.single_source_shortest_path(metro_graph, 'Сокольническая_Библиотека_имени_Ленина')"
   ]
  },
  {
   "cell_type": "markdown",
   "metadata": {},
   "source": [
    "Выделим некоторые кратчайшие пути цветом (при желании можно сохранить картинку, как и раньше)."
   ]
  },
  {
   "cell_type": "code",
   "execution_count": null,
   "metadata": {},
   "outputs": [],
   "source": [
    "# Функция для выделения цветом путей, пример использования ниже.\n",
    "# https://github.com/jtorrents/pydata_bcn_NetworkX/blob/master/NetworkX_SNA_workshop_with_solutions.ipynb\n",
    "def plot_paths(G, paths):\n",
    "    plt.figure(figsize=(36, 36))\n",
    "    pos = nx.fruchterman_reingold_layout(G)\n",
    "    nx.draw_networkx_nodes(G, pos=pos, node_size=4000, node_color='white')\n",
    "    nx.draw_networkx_labels(G, pos=pos, labels={n: n for n in G})\n",
    "    # Draw edges\n",
    "    nx.draw_networkx_edges(G, pos=pos)\n",
    "    for path in paths:\n",
    "        edges = list(zip(path, path[1:]))\n",
    "        nx.draw_networkx_edges(G, pos=pos, edgelist=edges, edge_color='red', width=3)\n",
    "    ax = plt.gca()\n",
    "    ax.set_axis_off()\n",
    "    ax.grid(None)"
   ]
  },
  {
   "cell_type": "code",
   "execution_count": null,
   "metadata": {},
   "outputs": [],
   "source": [
    "# Вывод кратчайших путей из одной вершины до всех остальных.\n",
    "plot_paths(metro_graph, nx.single_source_shortest_path(metro_graph, 'Сокольническая_Библиотека_имени_Ленина').values())"
   ]
  },
  {
   "cell_type": "code",
   "execution_count": null,
   "metadata": {},
   "outputs": [],
   "source": [
    "# Вывод нескольких кратчайших путей между конкретными парами вершин.\n",
    "plot_paths(\n",
    "    metro_graph,\n",
    "    [\n",
    "        nx.shortest_path(metro_graph, 'Сокольническая_Библиотека_имени_Ленина', 'Серпуховско-Тимирязевская_Алтуфьево'),\n",
    "        nx.shortest_path(metro_graph, 'Сокольническая_Сокольники', 'Калужско-Рижская_Третьяковская')\n",
    "    ]\n",
    ")"
   ]
  },
  {
   "cell_type": "markdown",
   "metadata": {},
   "source": [
    "### Bonus task: раскрашиваем граф метро\n",
    "Конечно, можно нарисовать карту метро вот так:"
   ]
  },
  {
   "cell_type": "code",
   "execution_count": null,
   "metadata": {},
   "outputs": [],
   "source": [
    "plt.figure(figsize=(16, 16)) \n",
    "\n",
    "nx.draw_networkx(metro_graph, with_labels=False)"
   ]
  },
  {
   "cell_type": "markdown",
   "metadata": {},
   "source": [
    "А можно каждую вершину подкрасить цветом соответствующей ветки!\n",
    "\n",
    "Для этого сначала создадим словарь с названиями цветов для каждой ветки (при желании поменяйте цвета на своё усмотрение, таблица с matplotlib'овскими цветами [тут](matplotlib.org/examples/color/named_colors)):"
   ]
  },
  {
   "cell_type": "code",
   "execution_count": null,
   "metadata": {},
   "outputs": [],
   "source": [
    "line_colors = {\n",
    "    'Сокольническая': 'red',\n",
    "    'Замоскворецкая': 'green',\n",
    "    'Арбатско-Покровская': 'darkblue',\n",
    "    'Филевская': 'blue',\n",
    "    'Кольцевая': 'saddlebrown',\n",
    "    'Калужско-Рижская': 'orangered',\n",
    "    'Таганско-Краснопресненская': 'blueviolet',\n",
    "    'Калининская': 'gold',\n",
    "    'Серпуховско-Тимирязевская': 'gray',\n",
    "    'Люблинская': 'lawngreen',\n",
    "    'Каховская': 'palegreen',\n",
    "    'Бутовская': 'lightsteelblue',\n",
    "}"
   ]
  },
  {
   "cell_type": "markdown",
   "metadata": {},
   "source": [
    "Ниже приведена функция, которая принимает название станции в формате `Имя-ветки_Имя-станции` (именно в таком формате хранятся названия в нашей таблице) и словарь вида `Имя-ветки: Цвет` (уже определённый `line_colors`). Функция возвращает цвет станции в соответствии с веткой, на которой она расположена."
   ]
  },
  {
   "cell_type": "code",
   "execution_count": null,
   "metadata": {},
   "outputs": [],
   "source": [
    "def return_station_color(station, line_colors):\n",
    "    for line in line_colors:\n",
    "        if station.startswith(line):\n",
    "            return line_colors[line]\n",
    "    print('Something went wrong: couldn\\'t find the line for station {}.\\nReturn black color.'.format(station))\n",
    "    return 'black'"
   ]
  },
  {
   "cell_type": "markdown",
   "metadata": {},
   "source": [
    "Пример использования:"
   ]
  },
  {
   "cell_type": "code",
   "execution_count": null,
   "metadata": {},
   "outputs": [],
   "source": [
    "return_station_color('Калининская_Третьяковская', line_colors)"
   ]
  },
  {
   "cell_type": "code",
   "execution_count": null,
   "metadata": {},
   "outputs": [],
   "source": [
    "return_station_color('Третьяковская', line_colors)"
   ]
  },
  {
   "cell_type": "markdown",
   "metadata": {},
   "source": [
    "Создайте список цветов для наших вершин.\n",
    "\n",
    "Для этого надо в цикле пройтись по всем вершинам в `metro_graph.nodes()` и добавить в список их цвета:"
   ]
  },
  {
   "cell_type": "code",
   "execution_count": null,
   "metadata": {},
   "outputs": [],
   "source": [
    "station_colors = []\n",
    "\n",
    "# YOUR CODE"
   ]
  },
  {
   "cell_type": "code",
   "execution_count": null,
   "metadata": {},
   "outputs": [],
   "source": [
    "plt.figure(figsize=(16, 16)) \n",
    "\n",
    "# Опять же, можно поиграть со способами отрисовки.\n",
    "nx.draw_networkx(metro_graph, with_labels=False, node_color=station_colors)"
   ]
  }
 ],
 "metadata": {
  "kernelspec": {
   "display_name": "Python 3",
   "language": "python",
   "name": "python3"
  },
  "language_info": {
   "codemirror_mode": {
    "name": "ipython",
    "version": 3
   },
   "file_extension": ".py",
   "mimetype": "text/x-python",
   "name": "python",
   "nbconvert_exporter": "python",
   "pygments_lexer": "ipython3",
   "version": "3.6.4"
  }
 },
 "nbformat": 4,
 "nbformat_minor": 2
}
