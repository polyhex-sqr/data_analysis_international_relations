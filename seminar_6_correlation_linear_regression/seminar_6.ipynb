{
 "cells": [
  {
   "cell_type": "markdown",
   "metadata": {},
   "source": [
    "# Корреляция \n",
    "\n",
    "Коэффициент корреляции выражает степень похожести двух наборов чисел. Важно помнить, что корреляция между наборами чисел --- не то же самое, что прямая зависимость между ними."
   ]
  },
  {
   "cell_type": "markdown",
   "metadata": {},
   "source": [
    "<center><b>Correlation is not Causation!</b></center>\n",
    "\n",
    "![](https://tylervigen.com/correlation_project/correlation_images/number-people-who-drowned-by-falling-into-a-swimming-pool_number-of-films-niclas-cage-appeared-in.png)\n",
    "\n",
    "*Пример взят [отсюда](https://tylervigen.com/spurious-correlations). Здесь же можно найти ссылки на интересные датасеты.*"
   ]
  },
  {
   "cell_type": "markdown",
   "metadata": {},
   "source": [
    "Напомним определение коэффициента корреляции между наборами чисел $x = (x_1, \\ldots, x_n)$ и $y = (y_1, \\ldots, y_n)$:\n",
    "\n",
    "$$\n",
    "  \\rho = \\frac{(x_1 - \\overline x)(y_1 - \\overline y) + \\ldots + (x_n - \\overline x)(y_n - \\overline y)}{se(x) \\cdot se(y)} \\\\\n",
    "  \\overline x = \\frac{x_1 + \\ldots + x_n}{n} \\\\\n",
    "  se(x) = \\sqrt{(x_1 - \\overline x)^2 + \\ldots + (x_n - \\overline x)^2} \\\\\n",
    "  \\overline y = \\frac{y_1 + \\ldots + y_n}{n} \\\\\n",
    "  se(y) = \\sqrt{(y_1 - \\overline y)^2 + \\ldots + (y_n - \\overline y)^2}\n",
    "$$"
   ]
  },
  {
   "cell_type": "code",
   "execution_count": null,
   "metadata": {},
   "outputs": [],
   "source": [
    "import numpy as np\n",
    "import pandas as pd\n",
    "import matplotlib.pyplot as plt\n",
    "%matplotlib inline\n",
    "\n",
    "\n",
    "# Функция для отображения набора точек.\n",
    "# Объяснение, что здесь что будет через 2-3 семинара, потерпите :)\n",
    "def plot_dependence(x, y, x_label='', y_label='', title='', grid_on=False):\n",
    "    plt.plot(x, y, 'o')\n",
    "    plt.xlabel(x_label)\n",
    "    plt.ylabel(y_label)\n",
    "    plt.title(title)\n",
    "    if not grid_on:\n",
    "        plt.grid()"
   ]
  },
  {
   "cell_type": "markdown",
   "metadata": {},
   "source": [
    "Для демонстрации эффекта зависимости в данных загрузим датасет с потреблением топлива различными видами транспорта:"
   ]
  },
  {
   "cell_type": "code",
   "execution_count": null,
   "metadata": {},
   "outputs": [],
   "source": [
    "mpg_data = pd.read_csv(\n",
    "    'auto-mpg.data',  # путь к таблице\n",
    "    delim_whitespace=True,  # в данном случае разделитель между полями не запятая, а любой пробельный знак\n",
    "    header=None,  # в файле с таблицей не записаны имена колонок, так что не нужно их считывать\n",
    "    names = [\n",
    "        'mpg', 'cylinders', 'displacement',\n",
    "        'horsepower', 'weight', 'acceleration',\n",
    "        'model_year', 'origin', 'name'\n",
    "    ],  # вручную задаём имена колонок\n",
    "    na_values='?',  # пропущенные значения в этом датасете заполнены знаками \"?\"\n",
    ")\n",
    "print(mpg_data.shape)\n",
    "mpg_data.head()"
   ]
  },
  {
   "cell_type": "markdown",
   "metadata": {},
   "source": [
    "Удалим пропуски:"
   ]
  },
  {
   "cell_type": "code",
   "execution_count": null,
   "metadata": {},
   "outputs": [],
   "source": [
    "mpg_data = mpg_data.dropna(how='any')\n",
    "print(mpg_data.shape)"
   ]
  },
  {
   "cell_type": "markdown",
   "metadata": {},
   "source": [
    "Выведем корреляционную таблицу для всех признаков:"
   ]
  },
  {
   "cell_type": "code",
   "execution_count": null,
   "metadata": {},
   "outputs": [],
   "source": [
    "mpg_data.corr()"
   ]
  },
  {
   "cell_type": "markdown",
   "metadata": {},
   "source": [
    "Как её читать: на пересечении строки с именем `A` и столбца с именем `B` стоит коэффициент корреляции между признаками `A` и `B`.\n",
    "\n",
    "Посмотрим на коэффициент корреляции между скоростью потребления топлива `mpg` (miles per gallon, галлон $\\approx 3.785$ литра) с весом `weight`:"
   ]
  },
  {
   "cell_type": "code",
   "execution_count": null,
   "metadata": {},
   "outputs": [],
   "source": [
    "print(\"Коэффициент корреляции: \", mpg_data.corr()['mpg']['weight'])"
   ]
  },
  {
   "cell_type": "markdown",
   "metadata": {},
   "source": [
    "Наблюдаем сильную отрицательную корреляцию.\n",
    "\n",
    "Что это значит:\n",
    "- с увеличением веса уменьшается расстояние, которое можно проехать, потратив фиксированное количество топлива\n",
    "- если вес транспортного средства большой, то одного галлона хватает на не очень большое количество миль\n",
    "- если транспорт лёгкий, то на одном галлоне он сможет проехать большее расстояние, чем тяжёлый"
   ]
  },
  {
   "cell_type": "markdown",
   "metadata": {},
   "source": [
    "Построим график зависимости для рассмотренных ранее столбцов `mpg` и `weight`:"
   ]
  },
  {
   "cell_type": "code",
   "execution_count": null,
   "metadata": {},
   "outputs": [],
   "source": [
    "plot_dependence(mpg_data.weight, mpg_data.mpg, 'weight', 'MPG', 'Weight vs MPG dependence')"
   ]
  },
  {
   "cell_type": "markdown",
   "metadata": {},
   "source": [
    "___\n",
    "## Задание "
   ]
  },
  {
   "cell_type": "markdown",
   "metadata": {},
   "source": [
    "Рассмотрите другие пары признаков в датасете. Найдите среди них те, которые\n",
    "- слабо коррелируют друг с другом (коэффициент корреляции по модулю $< 0.2$)\n",
    "- имеют сильную положительную корреляцию\n",
    "\n",
    "Выведите значения корреляции между найденными признаками:"
   ]
  },
  {
   "cell_type": "code",
   "execution_count": null,
   "metadata": {},
   "outputs": [],
   "source": [
    "# YOUR CODE"
   ]
  },
  {
   "cell_type": "markdown",
   "metadata": {},
   "source": [
    "# Линейная регрессия "
   ]
  },
  {
   "cell_type": "markdown",
   "metadata": {},
   "source": [
    "Попытаемся предсказать (объяснить) величину $y$ через набор числовых характеристик $x_1, \\ldots, x_n$. Например, хотелось бы найти зависимость скорости потребления топлива автомобилем от других его характеристик.\n",
    "\n",
    "Будем предполагать и надеяться, что величина $y$ зависит от этих характеристик линейно, т.е. каждый признак влияет на скорость с каким-то фиксированным весом, который мы (пока) не знаем:\n",
    "$$y \\approx \\beta + \\alpha_1x_1 + \\alpha_2x_2+...+\\alpha_nx_n$$\n",
    "\n",
    "Чтобы в дальнейшем иметь возможность угадывать $y$ только по заданным $x_1, \\ldots, x_n$, надо подобрать веса, близкие к реальным (реальные нам неизвестны).\n",
    "\n",
    "Подбор весов происходит за счёт минимизации разности между реальными значениями и предсказанными.\n",
    "\n",
    "___"
   ]
  },
  {
   "cell_type": "markdown",
   "metadata": {},
   "source": [
    "\n",
    "Начнем с самого простого вида линейной регрессии, когда есть зависимость только от одного признака\n",
    "$$y\\approx\\beta + \\alpha x,$$\n",
    "где $\\alpha$ --- это коэффициент наклона прямой, $\\beta$ --- коэффициент смещения.\n",
    "\n",
    "Посмотрим ещё раз на зависимость потребления топлива от веса транспортного средства:"
   ]
  },
  {
   "cell_type": "code",
   "execution_count": null,
   "metadata": {},
   "outputs": [],
   "source": [
    "print(\"Коэффициент корреляции: \", mpg_data.corr()['mpg']['weight'])\n",
    "\n",
    "plot_dependence(mpg_data.weight, mpg_data.mpg, 'weight', 'MPG', 'Weight vs MPG dependence')"
   ]
  },
  {
   "cell_type": "markdown",
   "metadata": {},
   "source": [
    "Чтобы найти наилучший вариант прямой, описывающей наши данные, будем использовать модель `LinearRegression` из библиотеки `sklearn`:"
   ]
  },
  {
   "cell_type": "code",
   "execution_count": null,
   "metadata": {},
   "outputs": [],
   "source": [
    "from sklearn.linear_model import LinearRegression\n",
    "\n",
    "# Выделяем в отдельную переменную целевую переменную и характеристики.\n",
    "Y = mpg_data[['mpg']]\n",
    "X = mpg_data[['weight']]\n",
    "\n",
    "# Создание модели, которая будет подбирать веса для признаков.\n",
    "model = LinearRegression()\n",
    "\n",
    "# Просим модель подобрать веса для признаков.\n",
    "model.fit(X, Y)\n",
    "\n",
    "# Предсказываем значения с помощью модели.\n",
    "Y_predicted = model.predict(X)\n",
    "\n",
    "plot_dependence(X, Y)\n",
    "plot_dependence(X, Y_predicted, 'weight', 'MPG', 'Weight vs MPG dependence', True)"
   ]
  },
  {
   "cell_type": "markdown",
   "metadata": {},
   "source": [
    "Посмотрим, какие получились коэффициенты:"
   ]
  },
  {
   "cell_type": "code",
   "execution_count": null,
   "metadata": {
    "scrolled": true
   },
   "outputs": [],
   "source": [
    "print(\"Коэффициент уклона:    \", model.coef_[0])\n",
    "print(\"Коэффициент смещения: \", model.intercept_)"
   ]
  },
  {
   "cell_type": "markdown",
   "metadata": {},
   "source": [
    "Аналогичным образом можно обучить модель на всех признаках, а не только на одном. Но визуализировать это уже будет сложновато, так что понадобится какая-то метрика оценивания качества предсказаний."
   ]
  },
  {
   "cell_type": "markdown",
   "metadata": {},
   "source": [
    "В анализе данных есть два эпата: обучение модели и валидация.\n",
    "\n",
    "- на этапе обучения модель видит и характеристики $x_1, \\ldots, x_n$, и значения $y$, которые надо будет предсказывать в будущем, на этих данных настраиваются веса для характеристик\n",
    "\n",
    "- на этапе валидации в модель подаются только характеристики (без значений $y$), которых не было на этапе обучения, и модель предсказывает значения $y$, опираясь на то, что \"узнала\" при обучении\n",
    "\n",
    "Метрика `mean_squared_error` или `MSE` оценивает величину ошибки. Она вычисляется отдельно для предсказаний на обучении и на валидации.\n",
    "\n",
    "---\n",
    "\n",
    "Для начала подготовим данные:\n",
    "- выделим в отдельную переменную то, что предсказывается, т.е. столбец `mpg`\n",
    "- а ещё сохраним все остальные столбцы с числовыми значениями, которые будут нашими признаками"
   ]
  },
  {
   "cell_type": "code",
   "execution_count": null,
   "metadata": {},
   "outputs": [],
   "source": [
    "Y = mpg_data[['mpg']]\n",
    "X = mpg_data.drop(['mpg', 'name'], axis=1)\n",
    "X.shape, Y.shape"
   ]
  },
  {
   "cell_type": "markdown",
   "metadata": {},
   "source": [
    "Теперь подключим необходимые функции для разделения выборки на обучающую и тестовую, а также для оценивания качества модели:"
   ]
  },
  {
   "cell_type": "code",
   "execution_count": null,
   "metadata": {},
   "outputs": [],
   "source": [
    "from sklearn.model_selection import train_test_split\n",
    "from sklearn.metrics import mean_squared_error"
   ]
  },
  {
   "cell_type": "code",
   "execution_count": null,
   "metadata": {},
   "outputs": [],
   "source": [
    "# Разбиваем данные на обучающую часть, по которой модель будет подбирать коэффициенты,\n",
    "# и валидационную (тестовую) часть, по которой можно оценить, насколько хорошо коэффициенты подобраны.\n",
    "X_train, X_val, Y_train, Y_val = train_test_split(X, Y, random_state=128)\n",
    "\n",
    "print('Размеры обучающей выборки: ', X_train.shape, Y_train.shape)\n",
    "print('Размеры тестовой выборки: ', X_val.shape, Y_val.shape)"
   ]
  },
  {
   "cell_type": "code",
   "execution_count": null,
   "metadata": {},
   "outputs": [],
   "source": [
    "# Создание модели, которая будет подбирать веса для признаков.\n",
    "model = LinearRegression()\n",
    "# Просим модель подобрать веса для признаков.\n",
    "model.fit(X_train, Y_train)\n",
    "\n",
    "# Предсказываем значения с помощью модели.\n",
    "Y_train_predicted = model.predict(X_train)\n",
    "Y_val_predicted = model.predict(X_val)"
   ]
  },
  {
   "cell_type": "markdown",
   "metadata": {},
   "source": [
    "Можно посмотреть, что предсказала модель:"
   ]
  },
  {
   "cell_type": "code",
   "execution_count": null,
   "metadata": {},
   "outputs": [],
   "source": [
    "Y_train_predicted[:10]"
   ]
  },
  {
   "cell_type": "markdown",
   "metadata": {},
   "source": [
    "И сравнить с реальными значениями:"
   ]
  },
  {
   "cell_type": "code",
   "execution_count": null,
   "metadata": {},
   "outputs": [],
   "source": [
    "Y_train[:10].values"
   ]
  },
  {
   "cell_type": "code",
   "execution_count": null,
   "metadata": {},
   "outputs": [],
   "source": [
    "# Считаем метрику, показывающую, как сильно ошибается модель.\n",
    "train_error = mean_squared_error(Y_train_predicted, Y_train)\n",
    "val_error = mean_squared_error(Y_val_predicted, Y_val)\n",
    "\n",
    "print('Ошибка на обучении:  \\t', train_error)\n",
    "print('Ошибка на валидации:\\t', val_error)\n",
    "print('Разница:\\t\\t', val_error - train_error)"
   ]
  },
  {
   "cell_type": "markdown",
   "metadata": {},
   "source": [
    "---\n",
    "---\n",
    "\n",
    "Выведите все коэффициенты модели в следующем формате:\n",
    "```\n",
    "имя_признака коэффициент\n",
    "```"
   ]
  },
  {
   "cell_type": "code",
   "execution_count": null,
   "metadata": {},
   "outputs": [],
   "source": [
    "# YOUR CODE"
   ]
  },
  {
   "cell_type": "markdown",
   "metadata": {},
   "source": [
    "Что можно сказать по этим коэффициентам о важности признаков?\n",
    "\n",
    "*Спойлер: пока ничего сказать нельзя, можно подумать, почему :)*"
   ]
  }
 ],
 "metadata": {
  "anaconda-cloud": {},
  "kernelspec": {
   "display_name": "Python 3",
   "language": "python",
   "name": "python3"
  },
  "language_info": {
   "codemirror_mode": {
    "name": "ipython",
    "version": 2
   },
   "file_extension": ".py",
   "mimetype": "text/x-python",
   "name": "python",
   "nbconvert_exporter": "python",
   "pygments_lexer": "ipython2",
   "version": "2.7.12"
  },
  "toc": {
   "base_numbering": 1,
   "nav_menu": {},
   "number_sections": false,
   "sideBar": true,
   "skip_h1_title": false,
   "title_cell": "Table of Contents",
   "title_sidebar": "Contents",
   "toc_cell": false,
   "toc_position": {},
   "toc_section_display": true,
   "toc_window_display": false
  }
 },
 "nbformat": 4,
 "nbformat_minor": 1
}
