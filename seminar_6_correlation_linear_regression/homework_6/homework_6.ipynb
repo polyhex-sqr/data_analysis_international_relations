{
 "cells": [
  {
   "cell_type": "code",
   "execution_count": null,
   "metadata": {
    "collapsed": true
   },
   "outputs": [],
   "source": [
    "import numpy as np\n",
    "import pandas as pd\n",
    "import matplotlib.pyplot as plt\n",
    "%matplotlib inline"
   ]
  },
  {
   "cell_type": "markdown",
   "metadata": {},
   "source": [
    "## Задание 1 (1.5 балла) "
   ]
  },
  {
   "cell_type": "markdown",
   "metadata": {},
   "source": [
    "В задании будем использовать датасет Petrol Consumption. \n",
    "\n",
    "Нужно считать таблицу, рассмотреть пары признаков. Найти среди них такие, которые\n",
    "- имеют сильную положительную корреляцию \n",
    "- имеют отрицательную корреляцию\n",
    "- слабо коррелируют друг с другом (коэффициент близок к нулю)\n",
    "\n",
    "Сделайте выводы о зависимости найденных пар признаков. Комментарии оформляйте строго в ячейках формата Markdown."
   ]
  },
  {
   "cell_type": "code",
   "execution_count": null,
   "metadata": {
    "collapsed": true
   },
   "outputs": [],
   "source": []
  },
  {
   "cell_type": "markdown",
   "metadata": {},
   "source": [
    "## Задание 2 (1.5 балла) "
   ]
  },
  {
   "cell_type": "markdown",
   "metadata": {},
   "source": [
    "Визуализировать на графиках пары признаков, найденные в каждом подпункте прошлого задания.\n",
    "Подписать оси (названия признаков)."
   ]
  },
  {
   "cell_type": "code",
   "execution_count": null,
   "metadata": {
    "collapsed": true
   },
   "outputs": [],
   "source": []
  }
 ],
 "metadata": {
  "anaconda-cloud": {},
  "kernelspec": {
   "display_name": "Python [conda root]",
   "language": "python",
   "name": "conda-root-py"
  },
  "language_info": {
   "codemirror_mode": {
    "name": "ipython",
    "version": 3
   },
   "file_extension": ".py",
   "mimetype": "text/x-python",
   "name": "python",
   "nbconvert_exporter": "python",
   "pygments_lexer": "ipython3",
   "version": "3.5.2"
  }
 },
 "nbformat": 4,
 "nbformat_minor": 1
}
