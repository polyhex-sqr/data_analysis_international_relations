{
 "cells": [
  {
   "cell_type": "markdown",
   "metadata": {},
   "source": [
    "# Визуализация "
   ]
  },
  {
   "cell_type": "markdown",
   "metadata": {},
   "source": [
    "Большую часть графиков будем рассматривать на примере данных «Российский мониторинг экономического положения и здоровья населения НИУ-ВШЭ (RLMS-HSE)», проводимый Национальным исследовательским университетом \"Высшая школа экономики\" и ООО «Демоскоп» при участии Центра народонаселения Университета Северной Каролины в Чапел Хилле и Института социологии РАН. (Сайты обследования RLMS-HSE: http://www.cpc.unc.edu/projects/rlms и http://www.hse.ru/rlms)».\n",
    "\n",
    "Список переменных\n",
    "1. **public** – 1 если государственное предприятие (в государственной собственности), 0 если частное;\n",
    "\n",
    "2. **wage** – заработная плата, полученная за последние 30 дней по основному месту работы;\n",
    "\n",
    "3. **income** – сколько всего денег за последние 30 дней получил респондент, считая все источники дохода;\n",
    "\n",
    "4. **tenure** – опыт работы на текущем месте;\n",
    "\n",
    "5. **educ** – уровень образования, категориальная переменная (0 для индивидов без среднего образования)\n",
    "```\n",
    "    1 -- среднее образование\n",
    "    2 -- профессиональные курсы\n",
    "    3 -- ПТУ, техническое училище\n",
    "    4 -- техникум\n",
    "    5 -- институт, университет, академия\n",
    "```\n",
    "6. **urban** – 1 респондент проживает в городе, 0 в сельской местности;\n",
    "7. **male** – пол, 1 для мужчин, 0 для женщин;\n",
    "8. **age** – возраст;\n",
    "9. **subordinates** – наличие подчиненных, 1 если есть, 0 в противном случае.\n",
    "10. **experience** – число лет общего трудового стажа респондента;\n",
    "11. **otherjob** – хотелось бы респонденту найти другую работу, 1 если да, 0 в противном случае;\n",
    "12. **trust** – доверие мелкому и среднему частному бизнесу, 1 если респондент доверяет, 0 если не доверяет;\n",
    "13. **internet** – приходилось ли респонденту в течение последних 12 месяцев пользоваться Интернетом, 1 если да, 0 в противном случае."
   ]
  },
  {
   "cell_type": "code",
   "execution_count": null,
   "metadata": {
    "collapsed": true
   },
   "outputs": [],
   "source": [
    "import pandas as pd\n",
    "import matplotlib.pyplot as plt\n",
    "%matplotlib inline"
   ]
  },
  {
   "cell_type": "code",
   "execution_count": null,
   "metadata": {},
   "outputs": [],
   "source": [
    "data = pd.read_csv('data_rl.csv').dropna()\n",
    "print(data.shape)\n",
    "data.head()"
   ]
  },
  {
   "cell_type": "code",
   "execution_count": null,
   "metadata": {},
   "outputs": [],
   "source": [
    "data.region.value_counts()"
   ]
  },
  {
   "cell_type": "code",
   "execution_count": null,
   "metadata": {},
   "outputs": [],
   "source": [
    "region_data = data[data.region == 'Западно-Сибирский экономический район']\n",
    "print(region_data.shape)\n",
    "region_data.head()"
   ]
  },
  {
   "cell_type": "markdown",
   "metadata": {},
   "source": [
    "## Повторение предыдущего семинара\n",
    "\n",
    "### Гистограмма\n",
    "Показывает распределение объектов по частоте их появления.\n",
    "\n",
    "По оси x отложены интервалы значений, а по у количество наблюдений в данном интервале."
   ]
  },
  {
   "cell_type": "code",
   "execution_count": null,
   "metadata": {},
   "outputs": [],
   "source": [
    "plt.figure(figsize=(8, 4))  # изменение размера картинки\n",
    "plt.hist(region_data.age, bins=20)  # изменение параметра bins позволяет сделать гистограмму более \"точечной\"\n",
    "plt.title(\"Гистограмма возрастов\\nЗападно-Сибирский экономический район\")  # заголовок\n",
    "plt.xlabel(\"возраст\")  # подпись оси абсцисс\n",
    "plt.ylabel(\"количество людей с таким возрастом\")  # подпись оси ординат"
   ]
  },
  {
   "cell_type": "markdown",
   "metadata": {},
   "source": [
    "### Boxplot (ящик с усами)\n",
    "Один из самых информативных графиков для демонстрации основного характера выборки, на иллюстрации ниже можно видеть, как интерпретировать данный график. Видно, что основная часть выборки (25 - 75 персентиль) должна попадать в центральный \"ящик\".\n",
    "\n",
    "<img src=\"https://miro.medium.com/max/18000/1*2c21SkzJMf3frPXPAR_gZA.png\" alt=\"Drawing\" style=\"width: 600px;\"/>\n"
   ]
  },
  {
   "cell_type": "code",
   "execution_count": null,
   "metadata": {},
   "outputs": [],
   "source": [
    "plt.boxplot(region_data[['age', 'experience']].values)               \n",
    "plt.title(\"Boxplot возраста и опыта работы\\nЗападно-Сибирский экономический район\")\n",
    "plt.xticks([1, 2], ['age', 'experience'])  # изменяет подписи у засечек [1, 2] на оси Ox\n",
    "plt.ylabel(\"разброс в годах\")"
   ]
  },
  {
   "cell_type": "markdown",
   "metadata": {},
   "source": [
    "## Библиотека seaborn\n",
    "Это пакет-надстройка к matplotlib. Зачастую графики с помощью этой библиотеки строить проще и выглядят они красивее и эстетичнее, а ещё иногда функции этой библиотеки сами догадывается, как подписать оси."
   ]
  },
  {
   "cell_type": "code",
   "execution_count": null,
   "metadata": {
    "collapsed": true
   },
   "outputs": [],
   "source": [
    "import numpy as np\n",
    "import seaborn as sns"
   ]
  },
  {
   "cell_type": "markdown",
   "metadata": {},
   "source": [
    "Полезные функции:\n",
    "- sns.set_style() - меняет стиль области построения\n",
    "<br> \n",
    "- sns.load_dataset() - подгружает датасет из seaborn\n",
    "<br> \n",
    "- sns.set_context() - меняет оформление графика\n",
    "<br>\n",
    "\n",
    "\n",
    "Примеры графиков:\n",
    "- sns.distplot() - график распределения\n",
    "<br> \n",
    "- sns.boxplot() - боксплот\n",
    "<br> \n",
    "- sns.swarmplot() - визуализация значений признака для разных категорий\n",
    "<br>\n",
    "- sns.pairplot() - визуализация значений признаков\n",
    "<br>\n",
    "- sns.heatmap() - тепловая карта\n",
    "<br>\n",
    "- sns.barplot() - столбчатая диаграмма\n",
    "<br>\n",
    "- sns.regplot() - регрессия\n",
    "<br>\n",
    "- sns.countplot() - визуализация количества \n",
    "<br>\n",
    "- sns.jointplot() - визуализация распределение+корреляция"
   ]
  },
  {
   "cell_type": "code",
   "execution_count": null,
   "metadata": {},
   "outputs": [],
   "source": [
    "sns.set_style(\"whitegrid\")\n",
    "sns.distplot(region_data.age)\n",
    "# Как и в matplotlib'e, можно звать функции для заголовка / подписей осей / почти чего угодно ещё\n",
    "plt.title('Распределение возраста\\nЗападно-Сибирский экономический район')"
   ]
  },
  {
   "cell_type": "code",
   "execution_count": null,
   "metadata": {},
   "outputs": [],
   "source": [
    "sns.set_style(\"white\")\n",
    "sns.boxplot(region_data.age)\n",
    "plt.show()"
   ]
  },
  {
   "cell_type": "code",
   "execution_count": null,
   "metadata": {},
   "outputs": [],
   "source": [
    "sns.set_style(\"dark\")\n",
    "sns.swarmplot(region_data.age)\n",
    "plt.show()"
   ]
  },
  {
   "cell_type": "markdown",
   "metadata": {},
   "source": [
    "Можно настраивать цветовые палитры!\n",
    "Вот пример некоторых палитр:"
   ]
  },
  {
   "cell_type": "markdown",
   "metadata": {},
   "source": [
    "![alt text](http://jose-coto.com/img-post/color_brewer_qual.png \"Палитры\")"
   ]
  },
  {
   "cell_type": "markdown",
   "metadata": {},
   "source": [
    "Построим боксплот и изменим палитру:"
   ]
  },
  {
   "cell_type": "code",
   "execution_count": null,
   "metadata": {},
   "outputs": [],
   "source": [
    "plt.figure(figsize=(10, 6))\n",
    "sns.boxplot(x=region_data.sex, y=region_data.wage, palette=\"Pastel1\")\n",
    "plt.show()"
   ]
  },
  {
   "cell_type": "code",
   "execution_count": null,
   "metadata": {},
   "outputs": [],
   "source": [
    "plt.figure(figsize=(10, 10))\n",
    "my_pal = {'male': \"green\", 'female': \"olive\"}\n",
    "sns.boxplot(x=region_data.sex, y=region_data.wage, palette=my_pal)\n",
    "plt.show()"
   ]
  },
  {
   "cell_type": "markdown",
   "metadata": {},
   "source": [
    "`sns.swarmplot()` позволяет визуализировать значения признака для разных категорий."
   ]
  },
  {
   "cell_type": "code",
   "execution_count": null,
   "metadata": {},
   "outputs": [],
   "source": [
    "plt.figure(figsize=(10, 10))\n",
    "sns.swarmplot(x=\"sex\", y=\"wage\", data=region_data)\n",
    "plt.show()"
   ]
  },
  {
   "cell_type": "markdown",
   "metadata": {},
   "source": [
    "Можно менять размер изображений, используя функцию `sns.set_context()` и различные параметры: `paper`, `notebook`, `talk` и `poster`. `notebook` - дефолтный параметр. <br>"
   ]
  },
  {
   "cell_type": "code",
   "execution_count": null,
   "metadata": {
    "scrolled": true
   },
   "outputs": [],
   "source": [
    "plt.figure(figsize=(10, 10))\n",
    "sns.set_context(\"poster\")  # poster увеличивает шрифт подписей\n",
    "sns.swarmplot(x=\"sex\", y=\"wage\", data=region_data)\n",
    "plt.show()"
   ]
  },
  {
   "cell_type": "markdown",
   "metadata": {},
   "source": [
    "Для того, чтобы вернуть все дефолтные настройки, можно просто выполнить `sns.set()`"
   ]
  },
  {
   "cell_type": "code",
   "execution_count": null,
   "metadata": {
    "collapsed": true
   },
   "outputs": [],
   "source": [
    "sns.set()"
   ]
  },
  {
   "cell_type": "markdown",
   "metadata": {},
   "source": [
    "___\n",
    "\n",
    "### Задание\n",
    "Откройте файл с данными по результатам экзаменов examscore."
   ]
  },
  {
   "cell_type": "code",
   "execution_count": null,
   "metadata": {
    "collapsed": true
   },
   "outputs": [],
   "source": [
    "# YOUR CODE"
   ]
  },
  {
   "cell_type": "markdown",
   "metadata": {},
   "source": [
    "Постройте боксплоты для баллов по математике так, чтобы на одном графике было отображено 5 боксплотов (свой для каждой группы)."
   ]
  },
  {
   "cell_type": "code",
   "execution_count": null,
   "metadata": {},
   "outputs": [],
   "source": [
    "# YOUR CODE"
   ]
  },
  {
   "cell_type": "markdown",
   "metadata": {},
   "source": [
    "Постройте `swapmplot` для пары признаков из таблицы examscore. "
   ]
  },
  {
   "cell_type": "code",
   "execution_count": null,
   "metadata": {
    "collapsed": true
   },
   "outputs": [],
   "source": [
    "# YOUR CODE"
   ]
  },
  {
   "cell_type": "markdown",
   "metadata": {},
   "source": [
    "___"
   ]
  },
  {
   "cell_type": "markdown",
   "metadata": {},
   "source": [
    "### График регрессии"
   ]
  },
  {
   "cell_type": "markdown",
   "metadata": {},
   "source": [
    "Можно построить регрессию и сразу же ее визуализировать с помощью `regplot`"
   ]
  },
  {
   "cell_type": "code",
   "execution_count": null,
   "metadata": {},
   "outputs": [],
   "source": [
    "sns.set()\n",
    "# tips = sns.load_dataset(\"tips\")\n",
    "sns.regplot(x=\"age\", y=\"wage\", data=region_data)\n",
    "plt.show()"
   ]
  },
  {
   "cell_type": "markdown",
   "metadata": {},
   "source": [
    "### Связь признаков\n",
    "Эта визуализация поможет нам посмотреть на одной картинке, как связаны между собой различные признаки. <br>\n",
    "\n",
    "На диагонали матрицы графиков расположены гистограммы распределений признака. Остальные же графики — это обычные scatter для соответствующих пар признаков."
   ]
  },
  {
   "cell_type": "code",
   "execution_count": null,
   "metadata": {},
   "outputs": [],
   "source": [
    "region_data.head()"
   ]
  },
  {
   "cell_type": "code",
   "execution_count": null,
   "metadata": {},
   "outputs": [],
   "source": [
    "columns = ['wage', 'age', 'educ', 'tenure']\n",
    "sns_plot = sns.pairplot(region_data[columns])\n",
    "plt.show()"
   ]
  },
  {
   "cell_type": "markdown",
   "metadata": {},
   "source": [
    "___\n",
    "### Задание\n",
    "Используя датасет examscore, визуализируйте количественные признаки, чтобы посмотреть, как они связаны между собой."
   ]
  },
  {
   "cell_type": "code",
   "execution_count": null,
   "metadata": {
    "collapsed": true
   },
   "outputs": [],
   "source": [
    "# YOUR CODE"
   ]
  },
  {
   "cell_type": "markdown",
   "metadata": {},
   "source": [
    "___"
   ]
  },
  {
   "cell_type": "markdown",
   "metadata": {},
   "source": [
    "### Тепловая карта"
   ]
  },
  {
   "cell_type": "code",
   "execution_count": null,
   "metadata": {},
   "outputs": [],
   "source": [
    "sns.set()  # сброс настроек по стилям, возвращение к стилю по умолчанию\n",
    "\n",
    "plt.figure(figsize=(16, 16))\n",
    "# annot - добавляет аннотацию (цифры на карте), fmt - форматирует\n",
    "sns.heatmap(region_data.corr(), annot=True, fmt=\".2f\")\n",
    "plt.show()"
   ]
  },
  {
   "cell_type": "markdown",
   "metadata": {},
   "source": [
    "###  Сравнение показателей по нескольким категориям"
   ]
  },
  {
   "cell_type": "markdown",
   "metadata": {},
   "source": [
    "- sns.barplot() - столбчатая диаграмма для визуализации распределений значений по категориям\n",
    "<br>\n",
    "- sns.countplot() - визуализация количества по категориям"
   ]
  },
  {
   "cell_type": "code",
   "execution_count": null,
   "metadata": {},
   "outputs": [],
   "source": [
    "sns.barplot(x=\"sex\", y=\"wage\", hue=\"educ\", data=region_data)"
   ]
  },
  {
   "cell_type": "code",
   "execution_count": null,
   "metadata": {},
   "outputs": [],
   "source": [
    "sns.countplot(x='sex', hue='educ', data=region_data)"
   ]
  },
  {
   "cell_type": "code",
   "execution_count": null,
   "metadata": {},
   "outputs": [],
   "source": [
    "sns.jointplot(x='tenure', y='age', data=region_data)"
   ]
  },
  {
   "cell_type": "markdown",
   "metadata": {},
   "source": [
    "## Несколько графиков в одном\n",
    "Если каждый отдельный график не очень \"сложный\" и это имеет смысл, можно разместить графики не на отдельных картинках, а присоседить их."
   ]
  },
  {
   "cell_type": "code",
   "execution_count": null,
   "metadata": {},
   "outputs": [],
   "source": [
    "plt.figure(figsize=(16, 16))\n",
    "# Первые два числа задают ожидаемое число строк и столбцов с картинками.\n",
    "# Последнее число задаёт порядковый номер картинки, счёт начинается с 1, слева направо, сверху вниз.\n",
    "plt.subplot(2, 2, 1)\n",
    "sns.regplot(x=\"tenure\", y=\"age\", data=region_data)\n",
    "\n",
    "plt.subplot(2, 2, 2)\n",
    "sns.countplot(x='sex', hue='educ', data=region_data)\n",
    "\n",
    "plt.subplot(2, 2, 3)\n",
    "# \"Внутри\" каждого subplot можно звать любые нужные функции, например, для подписи осей.\n",
    "plt.hist(region_data.age, bins=20)\n",
    "plt.title(\"Гистограмма возрастов\\nЗападно-Сибирский экономический район\")\n",
    "plt.xlabel(\"возраст\")\n",
    "plt.ylabel(\"количество людей с таким возрастом\")\n",
    "\n",
    "plt.subplot(2, 2, 4)\n",
    "sns.barplot(x=\"sex\", y=\"wage\", hue=\"educ\", data=region_data)"
   ]
  }
 ],
 "metadata": {
  "anaconda-cloud": {},
  "kernelspec": {
   "display_name": "Python 3",
   "language": "python",
   "name": "python3"
  },
  "language_info": {
   "codemirror_mode": {
    "name": "ipython",
    "version": 3
   },
   "file_extension": ".py",
   "mimetype": "text/x-python",
   "name": "python",
   "nbconvert_exporter": "python",
   "pygments_lexer": "ipython3",
   "version": "3.6.1"
  }
 },
 "nbformat": 4,
 "nbformat_minor": 1
}
